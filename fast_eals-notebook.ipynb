{
  "nbformat": 4,
  "nbformat_minor": 0,
  "metadata": {
    "colab": {
      "name": "14 - BOUVIER & DUPUY-ZINI - Compressed Sensing.ipynb",
      "provenance": [],
      "collapsed_sections": []
    },
    "kernelspec": {
      "display_name": "Python 3",
      "name": "python3"
    },
    "widgets": {
      "application/vnd.jupyter.widget-state+json": {
        "4808a6de4d5d4d7ba5887d7d79462afd": {
          "model_module": "@jupyter-widgets/controls",
          "model_name": "HBoxModel",
          "state": {
            "_view_name": "HBoxView",
            "_dom_classes": [],
            "_model_name": "HBoxModel",
            "_view_module": "@jupyter-widgets/controls",
            "_model_module_version": "1.5.0",
            "_view_count": null,
            "_view_module_version": "1.5.0",
            "box_style": "",
            "layout": "IPY_MODEL_10a78167321e45d9a9bdfe3fd4b0cdbc",
            "_model_module": "@jupyter-widgets/controls",
            "children": [
              "IPY_MODEL_e0f8f2f74c174563b56f30335ee8da8b",
              "IPY_MODEL_eab9b314a40945b9b20c48951e3638f8"
            ]
          }
        },
        "10a78167321e45d9a9bdfe3fd4b0cdbc": {
          "model_module": "@jupyter-widgets/base",
          "model_name": "LayoutModel",
          "state": {
            "_view_name": "LayoutView",
            "grid_template_rows": null,
            "right": null,
            "justify_content": null,
            "_view_module": "@jupyter-widgets/base",
            "overflow": null,
            "_model_module_version": "1.2.0",
            "_view_count": null,
            "flex_flow": null,
            "width": null,
            "min_width": null,
            "border": null,
            "align_items": null,
            "bottom": null,
            "_model_module": "@jupyter-widgets/base",
            "top": null,
            "grid_column": null,
            "overflow_y": null,
            "overflow_x": null,
            "grid_auto_flow": null,
            "grid_area": null,
            "grid_template_columns": null,
            "flex": null,
            "_model_name": "LayoutModel",
            "justify_items": null,
            "grid_row": null,
            "max_height": null,
            "align_content": null,
            "visibility": null,
            "align_self": null,
            "height": null,
            "min_height": null,
            "padding": null,
            "grid_auto_rows": null,
            "grid_gap": null,
            "max_width": null,
            "order": null,
            "_view_module_version": "1.2.0",
            "grid_template_areas": null,
            "object_position": null,
            "object_fit": null,
            "grid_auto_columns": null,
            "margin": null,
            "display": null,
            "left": null
          }
        },
        "e0f8f2f74c174563b56f30335ee8da8b": {
          "model_module": "@jupyter-widgets/controls",
          "model_name": "FloatProgressModel",
          "state": {
            "_view_name": "ProgressView",
            "style": "IPY_MODEL_0bc86724de0a4f448a62726d765786b2",
            "_dom_classes": [],
            "description": "100%",
            "_model_name": "FloatProgressModel",
            "bar_style": "success",
            "max": 99057,
            "_view_module": "@jupyter-widgets/controls",
            "_model_module_version": "1.5.0",
            "value": 99057,
            "_view_count": null,
            "_view_module_version": "1.5.0",
            "orientation": "horizontal",
            "min": 0,
            "description_tooltip": null,
            "_model_module": "@jupyter-widgets/controls",
            "layout": "IPY_MODEL_a14e3b4e16f04ae1998362420dcd79ad"
          }
        },
        "eab9b314a40945b9b20c48951e3638f8": {
          "model_module": "@jupyter-widgets/controls",
          "model_name": "HTMLModel",
          "state": {
            "_view_name": "HTMLView",
            "style": "IPY_MODEL_79258247475949cd96fe1b1b85a01c8e",
            "_dom_classes": [],
            "description": "",
            "_model_name": "HTMLModel",
            "placeholder": "​",
            "_view_module": "@jupyter-widgets/controls",
            "_model_module_version": "1.5.0",
            "value": " 99057/99057 [00:30&lt;00:00, 3249.90it/s]",
            "_view_count": null,
            "_view_module_version": "1.5.0",
            "description_tooltip": null,
            "_model_module": "@jupyter-widgets/controls",
            "layout": "IPY_MODEL_5a98d5a5d3c2430d84ff9987275dc6f2"
          }
        },
        "0bc86724de0a4f448a62726d765786b2": {
          "model_module": "@jupyter-widgets/controls",
          "model_name": "ProgressStyleModel",
          "state": {
            "_view_name": "StyleView",
            "_model_name": "ProgressStyleModel",
            "description_width": "initial",
            "_view_module": "@jupyter-widgets/base",
            "_model_module_version": "1.5.0",
            "_view_count": null,
            "_view_module_version": "1.2.0",
            "bar_color": null,
            "_model_module": "@jupyter-widgets/controls"
          }
        },
        "a14e3b4e16f04ae1998362420dcd79ad": {
          "model_module": "@jupyter-widgets/base",
          "model_name": "LayoutModel",
          "state": {
            "_view_name": "LayoutView",
            "grid_template_rows": null,
            "right": null,
            "justify_content": null,
            "_view_module": "@jupyter-widgets/base",
            "overflow": null,
            "_model_module_version": "1.2.0",
            "_view_count": null,
            "flex_flow": null,
            "width": null,
            "min_width": null,
            "border": null,
            "align_items": null,
            "bottom": null,
            "_model_module": "@jupyter-widgets/base",
            "top": null,
            "grid_column": null,
            "overflow_y": null,
            "overflow_x": null,
            "grid_auto_flow": null,
            "grid_area": null,
            "grid_template_columns": null,
            "flex": null,
            "_model_name": "LayoutModel",
            "justify_items": null,
            "grid_row": null,
            "max_height": null,
            "align_content": null,
            "visibility": null,
            "align_self": null,
            "height": null,
            "min_height": null,
            "padding": null,
            "grid_auto_rows": null,
            "grid_gap": null,
            "max_width": null,
            "order": null,
            "_view_module_version": "1.2.0",
            "grid_template_areas": null,
            "object_position": null,
            "object_fit": null,
            "grid_auto_columns": null,
            "margin": null,
            "display": null,
            "left": null
          }
        },
        "79258247475949cd96fe1b1b85a01c8e": {
          "model_module": "@jupyter-widgets/controls",
          "model_name": "DescriptionStyleModel",
          "state": {
            "_view_name": "StyleView",
            "_model_name": "DescriptionStyleModel",
            "description_width": "",
            "_view_module": "@jupyter-widgets/base",
            "_model_module_version": "1.5.0",
            "_view_count": null,
            "_view_module_version": "1.2.0",
            "_model_module": "@jupyter-widgets/controls"
          }
        },
        "5a98d5a5d3c2430d84ff9987275dc6f2": {
          "model_module": "@jupyter-widgets/base",
          "model_name": "LayoutModel",
          "state": {
            "_view_name": "LayoutView",
            "grid_template_rows": null,
            "right": null,
            "justify_content": null,
            "_view_module": "@jupyter-widgets/base",
            "overflow": null,
            "_model_module_version": "1.2.0",
            "_view_count": null,
            "flex_flow": null,
            "width": null,
            "min_width": null,
            "border": null,
            "align_items": null,
            "bottom": null,
            "_model_module": "@jupyter-widgets/base",
            "top": null,
            "grid_column": null,
            "overflow_y": null,
            "overflow_x": null,
            "grid_auto_flow": null,
            "grid_area": null,
            "grid_template_columns": null,
            "flex": null,
            "_model_name": "LayoutModel",
            "justify_items": null,
            "grid_row": null,
            "max_height": null,
            "align_content": null,
            "visibility": null,
            "align_self": null,
            "height": null,
            "min_height": null,
            "padding": null,
            "grid_auto_rows": null,
            "grid_gap": null,
            "max_width": null,
            "order": null,
            "_view_module_version": "1.2.0",
            "grid_template_areas": null,
            "object_position": null,
            "object_fit": null,
            "grid_auto_columns": null,
            "margin": null,
            "display": null,
            "left": null
          }
        },
        "9a478d8c67e24b6eaa4f1581d03a9c8a": {
          "model_module": "@jupyter-widgets/controls",
          "model_name": "HBoxModel",
          "state": {
            "_view_name": "HBoxView",
            "_dom_classes": [],
            "_model_name": "HBoxModel",
            "_view_module": "@jupyter-widgets/controls",
            "_model_module_version": "1.5.0",
            "_view_count": null,
            "_view_module_version": "1.5.0",
            "box_style": "",
            "layout": "IPY_MODEL_5c43d0b2241d479e935fb8d2989ed983",
            "_model_module": "@jupyter-widgets/controls",
            "children": [
              "IPY_MODEL_45e275317bb5451684eba0db85b6b1fd",
              "IPY_MODEL_61b125e76eb445cbb26041bdbe4c9c48"
            ]
          }
        },
        "5c43d0b2241d479e935fb8d2989ed983": {
          "model_module": "@jupyter-widgets/base",
          "model_name": "LayoutModel",
          "state": {
            "_view_name": "LayoutView",
            "grid_template_rows": null,
            "right": null,
            "justify_content": null,
            "_view_module": "@jupyter-widgets/base",
            "overflow": null,
            "_model_module_version": "1.2.0",
            "_view_count": null,
            "flex_flow": null,
            "width": null,
            "min_width": null,
            "border": null,
            "align_items": null,
            "bottom": null,
            "_model_module": "@jupyter-widgets/base",
            "top": null,
            "grid_column": null,
            "overflow_y": null,
            "overflow_x": null,
            "grid_auto_flow": null,
            "grid_area": null,
            "grid_template_columns": null,
            "flex": null,
            "_model_name": "LayoutModel",
            "justify_items": null,
            "grid_row": null,
            "max_height": null,
            "align_content": null,
            "visibility": null,
            "align_self": null,
            "height": null,
            "min_height": null,
            "padding": null,
            "grid_auto_rows": null,
            "grid_gap": null,
            "max_width": null,
            "order": null,
            "_view_module_version": "1.2.0",
            "grid_template_areas": null,
            "object_position": null,
            "object_fit": null,
            "grid_auto_columns": null,
            "margin": null,
            "display": null,
            "left": null
          }
        },
        "45e275317bb5451684eba0db85b6b1fd": {
          "model_module": "@jupyter-widgets/controls",
          "model_name": "FloatProgressModel",
          "state": {
            "_view_name": "ProgressView",
            "style": "IPY_MODEL_aa00e14bac364cc49dba6af55e0a7044",
            "_dom_classes": [],
            "description": "100%",
            "_model_name": "FloatProgressModel",
            "bar_style": "success",
            "max": 943,
            "_view_module": "@jupyter-widgets/controls",
            "_model_module_version": "1.5.0",
            "value": 943,
            "_view_count": null,
            "_view_module_version": "1.5.0",
            "orientation": "horizontal",
            "min": 0,
            "description_tooltip": null,
            "_model_module": "@jupyter-widgets/controls",
            "layout": "IPY_MODEL_998c3cde49a84af9b4eab5ae1df23a4e"
          }
        },
        "61b125e76eb445cbb26041bdbe4c9c48": {
          "model_module": "@jupyter-widgets/controls",
          "model_name": "HTMLModel",
          "state": {
            "_view_name": "HTMLView",
            "style": "IPY_MODEL_4fbf6d0c264f4e72aedeed1a913b2e60",
            "_dom_classes": [],
            "description": "",
            "_model_name": "HTMLModel",
            "placeholder": "​",
            "_view_module": "@jupyter-widgets/controls",
            "_model_module_version": "1.5.0",
            "value": " 943/943 [00:12&lt;00:00, 74.25it/s]",
            "_view_count": null,
            "_view_module_version": "1.5.0",
            "description_tooltip": null,
            "_model_module": "@jupyter-widgets/controls",
            "layout": "IPY_MODEL_f88d804e4bb64a0fb4f40bdd5b7feae9"
          }
        },
        "aa00e14bac364cc49dba6af55e0a7044": {
          "model_module": "@jupyter-widgets/controls",
          "model_name": "ProgressStyleModel",
          "state": {
            "_view_name": "StyleView",
            "_model_name": "ProgressStyleModel",
            "description_width": "initial",
            "_view_module": "@jupyter-widgets/base",
            "_model_module_version": "1.5.0",
            "_view_count": null,
            "_view_module_version": "1.2.0",
            "bar_color": null,
            "_model_module": "@jupyter-widgets/controls"
          }
        },
        "998c3cde49a84af9b4eab5ae1df23a4e": {
          "model_module": "@jupyter-widgets/base",
          "model_name": "LayoutModel",
          "state": {
            "_view_name": "LayoutView",
            "grid_template_rows": null,
            "right": null,
            "justify_content": null,
            "_view_module": "@jupyter-widgets/base",
            "overflow": null,
            "_model_module_version": "1.2.0",
            "_view_count": null,
            "flex_flow": null,
            "width": null,
            "min_width": null,
            "border": null,
            "align_items": null,
            "bottom": null,
            "_model_module": "@jupyter-widgets/base",
            "top": null,
            "grid_column": null,
            "overflow_y": null,
            "overflow_x": null,
            "grid_auto_flow": null,
            "grid_area": null,
            "grid_template_columns": null,
            "flex": null,
            "_model_name": "LayoutModel",
            "justify_items": null,
            "grid_row": null,
            "max_height": null,
            "align_content": null,
            "visibility": null,
            "align_self": null,
            "height": null,
            "min_height": null,
            "padding": null,
            "grid_auto_rows": null,
            "grid_gap": null,
            "max_width": null,
            "order": null,
            "_view_module_version": "1.2.0",
            "grid_template_areas": null,
            "object_position": null,
            "object_fit": null,
            "grid_auto_columns": null,
            "margin": null,
            "display": null,
            "left": null
          }
        },
        "4fbf6d0c264f4e72aedeed1a913b2e60": {
          "model_module": "@jupyter-widgets/controls",
          "model_name": "DescriptionStyleModel",
          "state": {
            "_view_name": "StyleView",
            "_model_name": "DescriptionStyleModel",
            "description_width": "",
            "_view_module": "@jupyter-widgets/base",
            "_model_module_version": "1.5.0",
            "_view_count": null,
            "_view_module_version": "1.2.0",
            "_model_module": "@jupyter-widgets/controls"
          }
        },
        "f88d804e4bb64a0fb4f40bdd5b7feae9": {
          "model_module": "@jupyter-widgets/base",
          "model_name": "LayoutModel",
          "state": {
            "_view_name": "LayoutView",
            "grid_template_rows": null,
            "right": null,
            "justify_content": null,
            "_view_module": "@jupyter-widgets/base",
            "overflow": null,
            "_model_module_version": "1.2.0",
            "_view_count": null,
            "flex_flow": null,
            "width": null,
            "min_width": null,
            "border": null,
            "align_items": null,
            "bottom": null,
            "_model_module": "@jupyter-widgets/base",
            "top": null,
            "grid_column": null,
            "overflow_y": null,
            "overflow_x": null,
            "grid_auto_flow": null,
            "grid_area": null,
            "grid_template_columns": null,
            "flex": null,
            "_model_name": "LayoutModel",
            "justify_items": null,
            "grid_row": null,
            "max_height": null,
            "align_content": null,
            "visibility": null,
            "align_self": null,
            "height": null,
            "min_height": null,
            "padding": null,
            "grid_auto_rows": null,
            "grid_gap": null,
            "max_width": null,
            "order": null,
            "_view_module_version": "1.2.0",
            "grid_template_areas": null,
            "object_position": null,
            "object_fit": null,
            "grid_auto_columns": null,
            "margin": null,
            "display": null,
            "left": null
          }
        },
        "8858aab3a15f4f2b864c86917acf13a6": {
          "model_module": "@jupyter-widgets/controls",
          "model_name": "HBoxModel",
          "state": {
            "_view_name": "HBoxView",
            "_dom_classes": [],
            "_model_name": "HBoxModel",
            "_view_module": "@jupyter-widgets/controls",
            "_model_module_version": "1.5.0",
            "_view_count": null,
            "_view_module_version": "1.5.0",
            "box_style": "",
            "layout": "IPY_MODEL_addc0eb7eda944f5bf4f82887107837b",
            "_model_module": "@jupyter-widgets/controls",
            "children": [
              "IPY_MODEL_52335cee2ea347bb917b17660e05de83",
              "IPY_MODEL_98a3b463819e40d695b4cc947342e1f0"
            ]
          }
        },
        "addc0eb7eda944f5bf4f82887107837b": {
          "model_module": "@jupyter-widgets/base",
          "model_name": "LayoutModel",
          "state": {
            "_view_name": "LayoutView",
            "grid_template_rows": null,
            "right": null,
            "justify_content": null,
            "_view_module": "@jupyter-widgets/base",
            "overflow": null,
            "_model_module_version": "1.2.0",
            "_view_count": null,
            "flex_flow": null,
            "width": null,
            "min_width": null,
            "border": null,
            "align_items": null,
            "bottom": null,
            "_model_module": "@jupyter-widgets/base",
            "top": null,
            "grid_column": null,
            "overflow_y": null,
            "overflow_x": null,
            "grid_auto_flow": null,
            "grid_area": null,
            "grid_template_columns": null,
            "flex": null,
            "_model_name": "LayoutModel",
            "justify_items": null,
            "grid_row": null,
            "max_height": null,
            "align_content": null,
            "visibility": null,
            "align_self": null,
            "height": null,
            "min_height": null,
            "padding": null,
            "grid_auto_rows": null,
            "grid_gap": null,
            "max_width": null,
            "order": null,
            "_view_module_version": "1.2.0",
            "grid_template_areas": null,
            "object_position": null,
            "object_fit": null,
            "grid_auto_columns": null,
            "margin": null,
            "display": null,
            "left": null
          }
        },
        "52335cee2ea347bb917b17660e05de83": {
          "model_module": "@jupyter-widgets/controls",
          "model_name": "FloatProgressModel",
          "state": {
            "_view_name": "ProgressView",
            "style": "IPY_MODEL_74782c12be23498f90b67afd7193a1b8",
            "_dom_classes": [],
            "description": "100%",
            "_model_name": "FloatProgressModel",
            "bar_style": "success",
            "max": 1682,
            "_view_module": "@jupyter-widgets/controls",
            "_model_module_version": "1.5.0",
            "value": 1682,
            "_view_count": null,
            "_view_module_version": "1.5.0",
            "orientation": "horizontal",
            "min": 0,
            "description_tooltip": null,
            "_model_module": "@jupyter-widgets/controls",
            "layout": "IPY_MODEL_8b2f1707186b46798a64f196eeb34395"
          }
        },
        "98a3b463819e40d695b4cc947342e1f0": {
          "model_module": "@jupyter-widgets/controls",
          "model_name": "HTMLModel",
          "state": {
            "_view_name": "HTMLView",
            "style": "IPY_MODEL_dddaab22401c4d27abcb31ddc3bbc14e",
            "_dom_classes": [],
            "description": "",
            "_model_name": "HTMLModel",
            "placeholder": "​",
            "_view_module": "@jupyter-widgets/controls",
            "_model_module_version": "1.5.0",
            "value": " 1682/1682 [00:11&lt;00:00, 150.67it/s]",
            "_view_count": null,
            "_view_module_version": "1.5.0",
            "description_tooltip": null,
            "_model_module": "@jupyter-widgets/controls",
            "layout": "IPY_MODEL_eee23c41741e4e0b8e39f5a4b5d32e3a"
          }
        },
        "74782c12be23498f90b67afd7193a1b8": {
          "model_module": "@jupyter-widgets/controls",
          "model_name": "ProgressStyleModel",
          "state": {
            "_view_name": "StyleView",
            "_model_name": "ProgressStyleModel",
            "description_width": "initial",
            "_view_module": "@jupyter-widgets/base",
            "_model_module_version": "1.5.0",
            "_view_count": null,
            "_view_module_version": "1.2.0",
            "bar_color": null,
            "_model_module": "@jupyter-widgets/controls"
          }
        },
        "8b2f1707186b46798a64f196eeb34395": {
          "model_module": "@jupyter-widgets/base",
          "model_name": "LayoutModel",
          "state": {
            "_view_name": "LayoutView",
            "grid_template_rows": null,
            "right": null,
            "justify_content": null,
            "_view_module": "@jupyter-widgets/base",
            "overflow": null,
            "_model_module_version": "1.2.0",
            "_view_count": null,
            "flex_flow": null,
            "width": null,
            "min_width": null,
            "border": null,
            "align_items": null,
            "bottom": null,
            "_model_module": "@jupyter-widgets/base",
            "top": null,
            "grid_column": null,
            "overflow_y": null,
            "overflow_x": null,
            "grid_auto_flow": null,
            "grid_area": null,
            "grid_template_columns": null,
            "flex": null,
            "_model_name": "LayoutModel",
            "justify_items": null,
            "grid_row": null,
            "max_height": null,
            "align_content": null,
            "visibility": null,
            "align_self": null,
            "height": null,
            "min_height": null,
            "padding": null,
            "grid_auto_rows": null,
            "grid_gap": null,
            "max_width": null,
            "order": null,
            "_view_module_version": "1.2.0",
            "grid_template_areas": null,
            "object_position": null,
            "object_fit": null,
            "grid_auto_columns": null,
            "margin": null,
            "display": null,
            "left": null
          }
        },
        "dddaab22401c4d27abcb31ddc3bbc14e": {
          "model_module": "@jupyter-widgets/controls",
          "model_name": "DescriptionStyleModel",
          "state": {
            "_view_name": "StyleView",
            "_model_name": "DescriptionStyleModel",
            "description_width": "",
            "_view_module": "@jupyter-widgets/base",
            "_model_module_version": "1.5.0",
            "_view_count": null,
            "_view_module_version": "1.2.0",
            "_model_module": "@jupyter-widgets/controls"
          }
        },
        "eee23c41741e4e0b8e39f5a4b5d32e3a": {
          "model_module": "@jupyter-widgets/base",
          "model_name": "LayoutModel",
          "state": {
            "_view_name": "LayoutView",
            "grid_template_rows": null,
            "right": null,
            "justify_content": null,
            "_view_module": "@jupyter-widgets/base",
            "overflow": null,
            "_model_module_version": "1.2.0",
            "_view_count": null,
            "flex_flow": null,
            "width": null,
            "min_width": null,
            "border": null,
            "align_items": null,
            "bottom": null,
            "_model_module": "@jupyter-widgets/base",
            "top": null,
            "grid_column": null,
            "overflow_y": null,
            "overflow_x": null,
            "grid_auto_flow": null,
            "grid_area": null,
            "grid_template_columns": null,
            "flex": null,
            "_model_name": "LayoutModel",
            "justify_items": null,
            "grid_row": null,
            "max_height": null,
            "align_content": null,
            "visibility": null,
            "align_self": null,
            "height": null,
            "min_height": null,
            "padding": null,
            "grid_auto_rows": null,
            "grid_gap": null,
            "max_width": null,
            "order": null,
            "_view_module_version": "1.2.0",
            "grid_template_areas": null,
            "object_position": null,
            "object_fit": null,
            "grid_auto_columns": null,
            "margin": null,
            "display": null,
            "left": null
          }
        },
        "ff7018671c7d444da1448413d7a2f0ff": {
          "model_module": "@jupyter-widgets/controls",
          "model_name": "HBoxModel",
          "state": {
            "_view_name": "HBoxView",
            "_dom_classes": [],
            "_model_name": "HBoxModel",
            "_view_module": "@jupyter-widgets/controls",
            "_model_module_version": "1.5.0",
            "_view_count": null,
            "_view_module_version": "1.5.0",
            "box_style": "",
            "layout": "IPY_MODEL_a7dc345b8d474f06b81498560dfbee0b",
            "_model_module": "@jupyter-widgets/controls",
            "children": [
              "IPY_MODEL_e9df584db8654502850e9ac268acf1da",
              "IPY_MODEL_cee06e3313a046d181d7f84a9baa46f9"
            ]
          }
        },
        "a7dc345b8d474f06b81498560dfbee0b": {
          "model_module": "@jupyter-widgets/base",
          "model_name": "LayoutModel",
          "state": {
            "_view_name": "LayoutView",
            "grid_template_rows": null,
            "right": null,
            "justify_content": null,
            "_view_module": "@jupyter-widgets/base",
            "overflow": null,
            "_model_module_version": "1.2.0",
            "_view_count": null,
            "flex_flow": null,
            "width": null,
            "min_width": null,
            "border": null,
            "align_items": null,
            "bottom": null,
            "_model_module": "@jupyter-widgets/base",
            "top": null,
            "grid_column": null,
            "overflow_y": null,
            "overflow_x": null,
            "grid_auto_flow": null,
            "grid_area": null,
            "grid_template_columns": null,
            "flex": null,
            "_model_name": "LayoutModel",
            "justify_items": null,
            "grid_row": null,
            "max_height": null,
            "align_content": null,
            "visibility": null,
            "align_self": null,
            "height": null,
            "min_height": null,
            "padding": null,
            "grid_auto_rows": null,
            "grid_gap": null,
            "max_width": null,
            "order": null,
            "_view_module_version": "1.2.0",
            "grid_template_areas": null,
            "object_position": null,
            "object_fit": null,
            "grid_auto_columns": null,
            "margin": null,
            "display": null,
            "left": null
          }
        },
        "e9df584db8654502850e9ac268acf1da": {
          "model_module": "@jupyter-widgets/controls",
          "model_name": "FloatProgressModel",
          "state": {
            "_view_name": "ProgressView",
            "style": "IPY_MODEL_453c4d35260c4410b6ddbbbcff79cac9",
            "_dom_classes": [],
            "description": "100%",
            "_model_name": "FloatProgressModel",
            "bar_style": "success",
            "max": 943,
            "_view_module": "@jupyter-widgets/controls",
            "_model_module_version": "1.5.0",
            "value": 943,
            "_view_count": null,
            "_view_module_version": "1.5.0",
            "orientation": "horizontal",
            "min": 0,
            "description_tooltip": null,
            "_model_module": "@jupyter-widgets/controls",
            "layout": "IPY_MODEL_900bbfb7bd004102a195d6c630d51b56"
          }
        },
        "cee06e3313a046d181d7f84a9baa46f9": {
          "model_module": "@jupyter-widgets/controls",
          "model_name": "HTMLModel",
          "state": {
            "_view_name": "HTMLView",
            "style": "IPY_MODEL_aa641587cbc94e5c97889a2af86978d5",
            "_dom_classes": [],
            "description": "",
            "_model_name": "HTMLModel",
            "placeholder": "​",
            "_view_module": "@jupyter-widgets/controls",
            "_model_module_version": "1.5.0",
            "value": " 943/943 [00:10&lt;00:00, 89.09it/s]",
            "_view_count": null,
            "_view_module_version": "1.5.0",
            "description_tooltip": null,
            "_model_module": "@jupyter-widgets/controls",
            "layout": "IPY_MODEL_e86161c8792c4f6b8780dadb54e355e1"
          }
        },
        "453c4d35260c4410b6ddbbbcff79cac9": {
          "model_module": "@jupyter-widgets/controls",
          "model_name": "ProgressStyleModel",
          "state": {
            "_view_name": "StyleView",
            "_model_name": "ProgressStyleModel",
            "description_width": "initial",
            "_view_module": "@jupyter-widgets/base",
            "_model_module_version": "1.5.0",
            "_view_count": null,
            "_view_module_version": "1.2.0",
            "bar_color": null,
            "_model_module": "@jupyter-widgets/controls"
          }
        },
        "900bbfb7bd004102a195d6c630d51b56": {
          "model_module": "@jupyter-widgets/base",
          "model_name": "LayoutModel",
          "state": {
            "_view_name": "LayoutView",
            "grid_template_rows": null,
            "right": null,
            "justify_content": null,
            "_view_module": "@jupyter-widgets/base",
            "overflow": null,
            "_model_module_version": "1.2.0",
            "_view_count": null,
            "flex_flow": null,
            "width": null,
            "min_width": null,
            "border": null,
            "align_items": null,
            "bottom": null,
            "_model_module": "@jupyter-widgets/base",
            "top": null,
            "grid_column": null,
            "overflow_y": null,
            "overflow_x": null,
            "grid_auto_flow": null,
            "grid_area": null,
            "grid_template_columns": null,
            "flex": null,
            "_model_name": "LayoutModel",
            "justify_items": null,
            "grid_row": null,
            "max_height": null,
            "align_content": null,
            "visibility": null,
            "align_self": null,
            "height": null,
            "min_height": null,
            "padding": null,
            "grid_auto_rows": null,
            "grid_gap": null,
            "max_width": null,
            "order": null,
            "_view_module_version": "1.2.0",
            "grid_template_areas": null,
            "object_position": null,
            "object_fit": null,
            "grid_auto_columns": null,
            "margin": null,
            "display": null,
            "left": null
          }
        },
        "aa641587cbc94e5c97889a2af86978d5": {
          "model_module": "@jupyter-widgets/controls",
          "model_name": "DescriptionStyleModel",
          "state": {
            "_view_name": "StyleView",
            "_model_name": "DescriptionStyleModel",
            "description_width": "",
            "_view_module": "@jupyter-widgets/base",
            "_model_module_version": "1.5.0",
            "_view_count": null,
            "_view_module_version": "1.2.0",
            "_model_module": "@jupyter-widgets/controls"
          }
        },
        "e86161c8792c4f6b8780dadb54e355e1": {
          "model_module": "@jupyter-widgets/base",
          "model_name": "LayoutModel",
          "state": {
            "_view_name": "LayoutView",
            "grid_template_rows": null,
            "right": null,
            "justify_content": null,
            "_view_module": "@jupyter-widgets/base",
            "overflow": null,
            "_model_module_version": "1.2.0",
            "_view_count": null,
            "flex_flow": null,
            "width": null,
            "min_width": null,
            "border": null,
            "align_items": null,
            "bottom": null,
            "_model_module": "@jupyter-widgets/base",
            "top": null,
            "grid_column": null,
            "overflow_y": null,
            "overflow_x": null,
            "grid_auto_flow": null,
            "grid_area": null,
            "grid_template_columns": null,
            "flex": null,
            "_model_name": "LayoutModel",
            "justify_items": null,
            "grid_row": null,
            "max_height": null,
            "align_content": null,
            "visibility": null,
            "align_self": null,
            "height": null,
            "min_height": null,
            "padding": null,
            "grid_auto_rows": null,
            "grid_gap": null,
            "max_width": null,
            "order": null,
            "_view_module_version": "1.2.0",
            "grid_template_areas": null,
            "object_position": null,
            "object_fit": null,
            "grid_auto_columns": null,
            "margin": null,
            "display": null,
            "left": null
          }
        },
        "b1a0dfca4a8c4869bb74c2a1791661a5": {
          "model_module": "@jupyter-widgets/controls",
          "model_name": "HBoxModel",
          "state": {
            "_dom_classes": [],
            "_model_module": "@jupyter-widgets/controls",
            "_model_module_version": "1.5.0",
            "_model_name": "HBoxModel",
            "_view_count": null,
            "_view_module": "@jupyter-widgets/controls",
            "_view_module_version": "1.5.0",
            "_view_name": "HBoxView",
            "box_style": "",
            "children": [
              "IPY_MODEL_218dadaf2d3c49f99cd6be6b9bec82bb",
              "IPY_MODEL_cab2faaf98fb4df1b863961e50f51b64"
            ],
            "layout": "IPY_MODEL_df2972b512f54c3997abd4c49c8aa112"
          }
        },
        "218dadaf2d3c49f99cd6be6b9bec82bb": {
          "model_module": "@jupyter-widgets/controls",
          "model_name": "FloatProgressModel",
          "state": {
            "_dom_classes": [],
            "_model_module": "@jupyter-widgets/controls",
            "_model_module_version": "1.5.0",
            "_model_name": "FloatProgressModel",
            "_view_count": null,
            "_view_module": "@jupyter-widgets/controls",
            "_view_module_version": "1.5.0",
            "_view_name": "ProgressView",
            "bar_style": "success",
            "description": "100%",
            "description_tooltip": null,
            "layout": "IPY_MODEL_9511ca528bb84096b58f8da47ee7bc12",
            "max": 10,
            "min": 0,
            "orientation": "horizontal",
            "style": "IPY_MODEL_4b42eb927a764e0ebe8fc283b0200894",
            "value": 10
          }
        },
        "cab2faaf98fb4df1b863961e50f51b64": {
          "model_module": "@jupyter-widgets/controls",
          "model_name": "HTMLModel",
          "state": {
            "_dom_classes": [],
            "_model_module": "@jupyter-widgets/controls",
            "_model_module_version": "1.5.0",
            "_model_name": "HTMLModel",
            "_view_count": null,
            "_view_module": "@jupyter-widgets/controls",
            "_view_module_version": "1.5.0",
            "_view_name": "HTMLView",
            "description": "",
            "description_tooltip": null,
            "layout": "IPY_MODEL_3606c4a27ccf49a4b4ae7711c9e8c67f",
            "placeholder": "​",
            "style": "IPY_MODEL_88370c62dc714383ae4db8038ff69ec5",
            "value": " 10/10 [39:56&lt;00:00, 239.65s/it]"
          }
        },
        "df2972b512f54c3997abd4c49c8aa112": {
          "model_module": "@jupyter-widgets/base",
          "model_name": "LayoutModel",
          "state": {
            "_model_module": "@jupyter-widgets/base",
            "_model_module_version": "1.2.0",
            "_model_name": "LayoutModel",
            "_view_count": null,
            "_view_module": "@jupyter-widgets/base",
            "_view_module_version": "1.2.0",
            "_view_name": "LayoutView",
            "align_content": null,
            "align_items": null,
            "align_self": null,
            "border": null,
            "bottom": null,
            "display": null,
            "flex": null,
            "flex_flow": null,
            "grid_area": null,
            "grid_auto_columns": null,
            "grid_auto_flow": null,
            "grid_auto_rows": null,
            "grid_column": null,
            "grid_gap": null,
            "grid_row": null,
            "grid_template_areas": null,
            "grid_template_columns": null,
            "grid_template_rows": null,
            "height": null,
            "justify_content": null,
            "justify_items": null,
            "left": null,
            "margin": null,
            "max_height": null,
            "max_width": null,
            "min_height": null,
            "min_width": null,
            "object_fit": null,
            "object_position": null,
            "order": null,
            "overflow": null,
            "overflow_x": null,
            "overflow_y": null,
            "padding": null,
            "right": null,
            "top": null,
            "visibility": null,
            "width": null
          }
        },
        "9511ca528bb84096b58f8da47ee7bc12": {
          "model_module": "@jupyter-widgets/base",
          "model_name": "LayoutModel",
          "state": {
            "_model_module": "@jupyter-widgets/base",
            "_model_module_version": "1.2.0",
            "_model_name": "LayoutModel",
            "_view_count": null,
            "_view_module": "@jupyter-widgets/base",
            "_view_module_version": "1.2.0",
            "_view_name": "LayoutView",
            "align_content": null,
            "align_items": null,
            "align_self": null,
            "border": null,
            "bottom": null,
            "display": null,
            "flex": null,
            "flex_flow": null,
            "grid_area": null,
            "grid_auto_columns": null,
            "grid_auto_flow": null,
            "grid_auto_rows": null,
            "grid_column": null,
            "grid_gap": null,
            "grid_row": null,
            "grid_template_areas": null,
            "grid_template_columns": null,
            "grid_template_rows": null,
            "height": null,
            "justify_content": null,
            "justify_items": null,
            "left": null,
            "margin": null,
            "max_height": null,
            "max_width": null,
            "min_height": null,
            "min_width": null,
            "object_fit": null,
            "object_position": null,
            "order": null,
            "overflow": null,
            "overflow_x": null,
            "overflow_y": null,
            "padding": null,
            "right": null,
            "top": null,
            "visibility": null,
            "width": null
          }
        },
        "4b42eb927a764e0ebe8fc283b0200894": {
          "model_module": "@jupyter-widgets/controls",
          "model_name": "ProgressStyleModel",
          "state": {
            "_model_module": "@jupyter-widgets/controls",
            "_model_module_version": "1.5.0",
            "_model_name": "ProgressStyleModel",
            "_view_count": null,
            "_view_module": "@jupyter-widgets/base",
            "_view_module_version": "1.2.0",
            "_view_name": "StyleView",
            "bar_color": null,
            "description_width": "initial"
          }
        },
        "3606c4a27ccf49a4b4ae7711c9e8c67f": {
          "model_module": "@jupyter-widgets/base",
          "model_name": "LayoutModel",
          "state": {
            "_model_module": "@jupyter-widgets/base",
            "_model_module_version": "1.2.0",
            "_model_name": "LayoutModel",
            "_view_count": null,
            "_view_module": "@jupyter-widgets/base",
            "_view_module_version": "1.2.0",
            "_view_name": "LayoutView",
            "align_content": null,
            "align_items": null,
            "align_self": null,
            "border": null,
            "bottom": null,
            "display": null,
            "flex": null,
            "flex_flow": null,
            "grid_area": null,
            "grid_auto_columns": null,
            "grid_auto_flow": null,
            "grid_auto_rows": null,
            "grid_column": null,
            "grid_gap": null,
            "grid_row": null,
            "grid_template_areas": null,
            "grid_template_columns": null,
            "grid_template_rows": null,
            "height": null,
            "justify_content": null,
            "justify_items": null,
            "left": null,
            "margin": null,
            "max_height": null,
            "max_width": null,
            "min_height": null,
            "min_width": null,
            "object_fit": null,
            "object_position": null,
            "order": null,
            "overflow": null,
            "overflow_x": null,
            "overflow_y": null,
            "padding": null,
            "right": null,
            "top": null,
            "visibility": null,
            "width": null
          }
        },
        "88370c62dc714383ae4db8038ff69ec5": {
          "model_module": "@jupyter-widgets/controls",
          "model_name": "DescriptionStyleModel",
          "state": {
            "_model_module": "@jupyter-widgets/controls",
            "_model_module_version": "1.5.0",
            "_model_name": "DescriptionStyleModel",
            "_view_count": null,
            "_view_module": "@jupyter-widgets/base",
            "_view_module_version": "1.2.0",
            "_view_name": "StyleView",
            "description_width": ""
          }
        },
        "b39d0de9ad8a49c58a40ef36088e08c2": {
          "model_module": "@jupyter-widgets/controls",
          "model_name": "HBoxModel",
          "state": {
            "_dom_classes": [],
            "_model_module": "@jupyter-widgets/controls",
            "_model_module_version": "1.5.0",
            "_model_name": "HBoxModel",
            "_view_count": null,
            "_view_module": "@jupyter-widgets/controls",
            "_view_module_version": "1.5.0",
            "_view_name": "HBoxView",
            "box_style": "",
            "children": [
              "IPY_MODEL_fde0177cd4b540fa9af2c740e61f7310",
              "IPY_MODEL_6e882356d3474ed9982f63e44ed1f96d"
            ],
            "layout": "IPY_MODEL_e612b0b6b264475b86a49efc3db1ee1d"
          }
        },
        "fde0177cd4b540fa9af2c740e61f7310": {
          "model_module": "@jupyter-widgets/controls",
          "model_name": "FloatProgressModel",
          "state": {
            "_dom_classes": [],
            "_model_module": "@jupyter-widgets/controls",
            "_model_module_version": "1.5.0",
            "_model_name": "FloatProgressModel",
            "_view_count": null,
            "_view_module": "@jupyter-widgets/controls",
            "_view_module_version": "1.5.0",
            "_view_name": "ProgressView",
            "bar_style": "success",
            "description": "100%",
            "description_tooltip": null,
            "layout": "IPY_MODEL_68bdc3cac2cc46348e0912e269eb6790",
            "max": 11,
            "min": 0,
            "orientation": "horizontal",
            "style": "IPY_MODEL_b449c6c4a8c94cbbaa5b16bf88182816",
            "value": 11
          }
        },
        "6e882356d3474ed9982f63e44ed1f96d": {
          "model_module": "@jupyter-widgets/controls",
          "model_name": "HTMLModel",
          "state": {
            "_dom_classes": [],
            "_model_module": "@jupyter-widgets/controls",
            "_model_module_version": "1.5.0",
            "_model_name": "HTMLModel",
            "_view_count": null,
            "_view_module": "@jupyter-widgets/controls",
            "_view_module_version": "1.5.0",
            "_view_name": "HTMLView",
            "description": "",
            "description_tooltip": null,
            "layout": "IPY_MODEL_c692ab61e2fe4ee08a369ab81624730f",
            "placeholder": "​",
            "style": "IPY_MODEL_967e988f99094fafb10af9c893ce8507",
            "value": " 11/11 [04:49&lt;00:00, 26.36s/it]"
          }
        },
        "e612b0b6b264475b86a49efc3db1ee1d": {
          "model_module": "@jupyter-widgets/base",
          "model_name": "LayoutModel",
          "state": {
            "_model_module": "@jupyter-widgets/base",
            "_model_module_version": "1.2.0",
            "_model_name": "LayoutModel",
            "_view_count": null,
            "_view_module": "@jupyter-widgets/base",
            "_view_module_version": "1.2.0",
            "_view_name": "LayoutView",
            "align_content": null,
            "align_items": null,
            "align_self": null,
            "border": null,
            "bottom": null,
            "display": null,
            "flex": null,
            "flex_flow": null,
            "grid_area": null,
            "grid_auto_columns": null,
            "grid_auto_flow": null,
            "grid_auto_rows": null,
            "grid_column": null,
            "grid_gap": null,
            "grid_row": null,
            "grid_template_areas": null,
            "grid_template_columns": null,
            "grid_template_rows": null,
            "height": null,
            "justify_content": null,
            "justify_items": null,
            "left": null,
            "margin": null,
            "max_height": null,
            "max_width": null,
            "min_height": null,
            "min_width": null,
            "object_fit": null,
            "object_position": null,
            "order": null,
            "overflow": null,
            "overflow_x": null,
            "overflow_y": null,
            "padding": null,
            "right": null,
            "top": null,
            "visibility": null,
            "width": null
          }
        },
        "68bdc3cac2cc46348e0912e269eb6790": {
          "model_module": "@jupyter-widgets/base",
          "model_name": "LayoutModel",
          "state": {
            "_model_module": "@jupyter-widgets/base",
            "_model_module_version": "1.2.0",
            "_model_name": "LayoutModel",
            "_view_count": null,
            "_view_module": "@jupyter-widgets/base",
            "_view_module_version": "1.2.0",
            "_view_name": "LayoutView",
            "align_content": null,
            "align_items": null,
            "align_self": null,
            "border": null,
            "bottom": null,
            "display": null,
            "flex": null,
            "flex_flow": null,
            "grid_area": null,
            "grid_auto_columns": null,
            "grid_auto_flow": null,
            "grid_auto_rows": null,
            "grid_column": null,
            "grid_gap": null,
            "grid_row": null,
            "grid_template_areas": null,
            "grid_template_columns": null,
            "grid_template_rows": null,
            "height": null,
            "justify_content": null,
            "justify_items": null,
            "left": null,
            "margin": null,
            "max_height": null,
            "max_width": null,
            "min_height": null,
            "min_width": null,
            "object_fit": null,
            "object_position": null,
            "order": null,
            "overflow": null,
            "overflow_x": null,
            "overflow_y": null,
            "padding": null,
            "right": null,
            "top": null,
            "visibility": null,
            "width": null
          }
        },
        "b449c6c4a8c94cbbaa5b16bf88182816": {
          "model_module": "@jupyter-widgets/controls",
          "model_name": "ProgressStyleModel",
          "state": {
            "_model_module": "@jupyter-widgets/controls",
            "_model_module_version": "1.5.0",
            "_model_name": "ProgressStyleModel",
            "_view_count": null,
            "_view_module": "@jupyter-widgets/base",
            "_view_module_version": "1.2.0",
            "_view_name": "StyleView",
            "bar_color": null,
            "description_width": "initial"
          }
        },
        "c692ab61e2fe4ee08a369ab81624730f": {
          "model_module": "@jupyter-widgets/base",
          "model_name": "LayoutModel",
          "state": {
            "_model_module": "@jupyter-widgets/base",
            "_model_module_version": "1.2.0",
            "_model_name": "LayoutModel",
            "_view_count": null,
            "_view_module": "@jupyter-widgets/base",
            "_view_module_version": "1.2.0",
            "_view_name": "LayoutView",
            "align_content": null,
            "align_items": null,
            "align_self": null,
            "border": null,
            "bottom": null,
            "display": null,
            "flex": null,
            "flex_flow": null,
            "grid_area": null,
            "grid_auto_columns": null,
            "grid_auto_flow": null,
            "grid_auto_rows": null,
            "grid_column": null,
            "grid_gap": null,
            "grid_row": null,
            "grid_template_areas": null,
            "grid_template_columns": null,
            "grid_template_rows": null,
            "height": null,
            "justify_content": null,
            "justify_items": null,
            "left": null,
            "margin": null,
            "max_height": null,
            "max_width": null,
            "min_height": null,
            "min_width": null,
            "object_fit": null,
            "object_position": null,
            "order": null,
            "overflow": null,
            "overflow_x": null,
            "overflow_y": null,
            "padding": null,
            "right": null,
            "top": null,
            "visibility": null,
            "width": null
          }
        },
        "967e988f99094fafb10af9c893ce8507": {
          "model_module": "@jupyter-widgets/controls",
          "model_name": "DescriptionStyleModel",
          "state": {
            "_model_module": "@jupyter-widgets/controls",
            "_model_module_version": "1.5.0",
            "_model_name": "DescriptionStyleModel",
            "_view_count": null,
            "_view_module": "@jupyter-widgets/base",
            "_view_module_version": "1.2.0",
            "_view_name": "StyleView",
            "description_width": ""
          }
        },
        "c11681d539db4dd4ba94a7f4f7fc36bf": {
          "model_module": "@jupyter-widgets/controls",
          "model_name": "HBoxModel",
          "state": {
            "_dom_classes": [],
            "_model_module": "@jupyter-widgets/controls",
            "_model_module_version": "1.5.0",
            "_model_name": "HBoxModel",
            "_view_count": null,
            "_view_module": "@jupyter-widgets/controls",
            "_view_module_version": "1.5.0",
            "_view_name": "HBoxView",
            "box_style": "",
            "children": [
              "IPY_MODEL_7cf60748e49f4a0fb2206a17f51487fc",
              "IPY_MODEL_73a1c05bd8964cf4a380bdcde2220c97"
            ],
            "layout": "IPY_MODEL_333044ee7c454357973d5d5d9110b050"
          }
        },
        "7cf60748e49f4a0fb2206a17f51487fc": {
          "model_module": "@jupyter-widgets/controls",
          "model_name": "FloatProgressModel",
          "state": {
            "_dom_classes": [],
            "_model_module": "@jupyter-widgets/controls",
            "_model_module_version": "1.5.0",
            "_model_name": "FloatProgressModel",
            "_view_count": null,
            "_view_module": "@jupyter-widgets/controls",
            "_view_module_version": "1.5.0",
            "_view_name": "ProgressView",
            "bar_style": "success",
            "description": "100%",
            "description_tooltip": null,
            "layout": "IPY_MODEL_307ac5450a724133bc0345f3fd03998d",
            "max": 9905,
            "min": 0,
            "orientation": "horizontal",
            "style": "IPY_MODEL_cc1afc6ad18b4f4d89d4fbb0da174884",
            "value": 9905
          }
        },
        "73a1c05bd8964cf4a380bdcde2220c97": {
          "model_module": "@jupyter-widgets/controls",
          "model_name": "HTMLModel",
          "state": {
            "_dom_classes": [],
            "_model_module": "@jupyter-widgets/controls",
            "_model_module_version": "1.5.0",
            "_model_name": "HTMLModel",
            "_view_count": null,
            "_view_module": "@jupyter-widgets/controls",
            "_view_module_version": "1.5.0",
            "_view_name": "HTMLView",
            "description": "",
            "description_tooltip": null,
            "layout": "IPY_MODEL_57f2c258c5a040c8b0db8ed0e7ed0c33",
            "placeholder": "​",
            "style": "IPY_MODEL_3ad0eb2cb44a4490a9a5d51f6e84e00f",
            "value": " 9905/9905 [14:06&lt;00:00, 11.70it/s]"
          }
        },
        "333044ee7c454357973d5d5d9110b050": {
          "model_module": "@jupyter-widgets/base",
          "model_name": "LayoutModel",
          "state": {
            "_model_module": "@jupyter-widgets/base",
            "_model_module_version": "1.2.0",
            "_model_name": "LayoutModel",
            "_view_count": null,
            "_view_module": "@jupyter-widgets/base",
            "_view_module_version": "1.2.0",
            "_view_name": "LayoutView",
            "align_content": null,
            "align_items": null,
            "align_self": null,
            "border": null,
            "bottom": null,
            "display": null,
            "flex": null,
            "flex_flow": null,
            "grid_area": null,
            "grid_auto_columns": null,
            "grid_auto_flow": null,
            "grid_auto_rows": null,
            "grid_column": null,
            "grid_gap": null,
            "grid_row": null,
            "grid_template_areas": null,
            "grid_template_columns": null,
            "grid_template_rows": null,
            "height": null,
            "justify_content": null,
            "justify_items": null,
            "left": null,
            "margin": null,
            "max_height": null,
            "max_width": null,
            "min_height": null,
            "min_width": null,
            "object_fit": null,
            "object_position": null,
            "order": null,
            "overflow": null,
            "overflow_x": null,
            "overflow_y": null,
            "padding": null,
            "right": null,
            "top": null,
            "visibility": null,
            "width": null
          }
        },
        "307ac5450a724133bc0345f3fd03998d": {
          "model_module": "@jupyter-widgets/base",
          "model_name": "LayoutModel",
          "state": {
            "_model_module": "@jupyter-widgets/base",
            "_model_module_version": "1.2.0",
            "_model_name": "LayoutModel",
            "_view_count": null,
            "_view_module": "@jupyter-widgets/base",
            "_view_module_version": "1.2.0",
            "_view_name": "LayoutView",
            "align_content": null,
            "align_items": null,
            "align_self": null,
            "border": null,
            "bottom": null,
            "display": null,
            "flex": null,
            "flex_flow": null,
            "grid_area": null,
            "grid_auto_columns": null,
            "grid_auto_flow": null,
            "grid_auto_rows": null,
            "grid_column": null,
            "grid_gap": null,
            "grid_row": null,
            "grid_template_areas": null,
            "grid_template_columns": null,
            "grid_template_rows": null,
            "height": null,
            "justify_content": null,
            "justify_items": null,
            "left": null,
            "margin": null,
            "max_height": null,
            "max_width": null,
            "min_height": null,
            "min_width": null,
            "object_fit": null,
            "object_position": null,
            "order": null,
            "overflow": null,
            "overflow_x": null,
            "overflow_y": null,
            "padding": null,
            "right": null,
            "top": null,
            "visibility": null,
            "width": null
          }
        },
        "cc1afc6ad18b4f4d89d4fbb0da174884": {
          "model_module": "@jupyter-widgets/controls",
          "model_name": "ProgressStyleModel",
          "state": {
            "_model_module": "@jupyter-widgets/controls",
            "_model_module_version": "1.5.0",
            "_model_name": "ProgressStyleModel",
            "_view_count": null,
            "_view_module": "@jupyter-widgets/base",
            "_view_module_version": "1.2.0",
            "_view_name": "StyleView",
            "bar_color": null,
            "description_width": "initial"
          }
        },
        "57f2c258c5a040c8b0db8ed0e7ed0c33": {
          "model_module": "@jupyter-widgets/base",
          "model_name": "LayoutModel",
          "state": {
            "_model_module": "@jupyter-widgets/base",
            "_model_module_version": "1.2.0",
            "_model_name": "LayoutModel",
            "_view_count": null,
            "_view_module": "@jupyter-widgets/base",
            "_view_module_version": "1.2.0",
            "_view_name": "LayoutView",
            "align_content": null,
            "align_items": null,
            "align_self": null,
            "border": null,
            "bottom": null,
            "display": null,
            "flex": null,
            "flex_flow": null,
            "grid_area": null,
            "grid_auto_columns": null,
            "grid_auto_flow": null,
            "grid_auto_rows": null,
            "grid_column": null,
            "grid_gap": null,
            "grid_row": null,
            "grid_template_areas": null,
            "grid_template_columns": null,
            "grid_template_rows": null,
            "height": null,
            "justify_content": null,
            "justify_items": null,
            "left": null,
            "margin": null,
            "max_height": null,
            "max_width": null,
            "min_height": null,
            "min_width": null,
            "object_fit": null,
            "object_position": null,
            "order": null,
            "overflow": null,
            "overflow_x": null,
            "overflow_y": null,
            "padding": null,
            "right": null,
            "top": null,
            "visibility": null,
            "width": null
          }
        },
        "3ad0eb2cb44a4490a9a5d51f6e84e00f": {
          "model_module": "@jupyter-widgets/controls",
          "model_name": "DescriptionStyleModel",
          "state": {
            "_model_module": "@jupyter-widgets/controls",
            "_model_module_version": "1.5.0",
            "_model_name": "DescriptionStyleModel",
            "_view_count": null,
            "_view_module": "@jupyter-widgets/base",
            "_view_module_version": "1.2.0",
            "_view_name": "StyleView",
            "description_width": ""
          }
        },
        "f4ceecb937ff478b83fb418e585e4d70": {
          "model_module": "@jupyter-widgets/controls",
          "model_name": "HBoxModel",
          "state": {
            "_dom_classes": [],
            "_model_module": "@jupyter-widgets/controls",
            "_model_module_version": "1.5.0",
            "_model_name": "HBoxModel",
            "_view_count": null,
            "_view_module": "@jupyter-widgets/controls",
            "_view_module_version": "1.5.0",
            "_view_name": "HBoxView",
            "box_style": "",
            "children": [
              "IPY_MODEL_d5533078f52142cbb2d38fd2a45b117a",
              "IPY_MODEL_cfa33c7ac01241cf829cd5b26511364b"
            ],
            "layout": "IPY_MODEL_eeff81c7b0ce46ffafc8eeb0ce6b0bf1"
          }
        },
        "d5533078f52142cbb2d38fd2a45b117a": {
          "model_module": "@jupyter-widgets/controls",
          "model_name": "FloatProgressModel",
          "state": {
            "_dom_classes": [],
            "_model_module": "@jupyter-widgets/controls",
            "_model_module_version": "1.5.0",
            "_model_name": "FloatProgressModel",
            "_view_count": null,
            "_view_module": "@jupyter-widgets/controls",
            "_view_module_version": "1.5.0",
            "_view_name": "ProgressView",
            "bar_style": "success",
            "description": "100%",
            "description_tooltip": null,
            "layout": "IPY_MODEL_5cc1173e9dbd4a4d9d474352e5ad75ea",
            "max": 9905,
            "min": 0,
            "orientation": "horizontal",
            "style": "IPY_MODEL_cc27287198e34dc191a65003b6e5a77a",
            "value": 9905
          }
        },
        "cfa33c7ac01241cf829cd5b26511364b": {
          "model_module": "@jupyter-widgets/controls",
          "model_name": "HTMLModel",
          "state": {
            "_dom_classes": [],
            "_model_module": "@jupyter-widgets/controls",
            "_model_module_version": "1.5.0",
            "_model_name": "HTMLModel",
            "_view_count": null,
            "_view_module": "@jupyter-widgets/controls",
            "_view_module_version": "1.5.0",
            "_view_name": "HTMLView",
            "description": "",
            "description_tooltip": null,
            "layout": "IPY_MODEL_77621497dbcf46b5af975e16e4a5c44b",
            "placeholder": "​",
            "style": "IPY_MODEL_ecd232dd8427468c9ae83a166bfacf04",
            "value": " 9905/9905 [00:02&lt;00:00, 3554.19it/s]"
          }
        },
        "eeff81c7b0ce46ffafc8eeb0ce6b0bf1": {
          "model_module": "@jupyter-widgets/base",
          "model_name": "LayoutModel",
          "state": {
            "_model_module": "@jupyter-widgets/base",
            "_model_module_version": "1.2.0",
            "_model_name": "LayoutModel",
            "_view_count": null,
            "_view_module": "@jupyter-widgets/base",
            "_view_module_version": "1.2.0",
            "_view_name": "LayoutView",
            "align_content": null,
            "align_items": null,
            "align_self": null,
            "border": null,
            "bottom": null,
            "display": null,
            "flex": null,
            "flex_flow": null,
            "grid_area": null,
            "grid_auto_columns": null,
            "grid_auto_flow": null,
            "grid_auto_rows": null,
            "grid_column": null,
            "grid_gap": null,
            "grid_row": null,
            "grid_template_areas": null,
            "grid_template_columns": null,
            "grid_template_rows": null,
            "height": null,
            "justify_content": null,
            "justify_items": null,
            "left": null,
            "margin": null,
            "max_height": null,
            "max_width": null,
            "min_height": null,
            "min_width": null,
            "object_fit": null,
            "object_position": null,
            "order": null,
            "overflow": null,
            "overflow_x": null,
            "overflow_y": null,
            "padding": null,
            "right": null,
            "top": null,
            "visibility": null,
            "width": null
          }
        },
        "5cc1173e9dbd4a4d9d474352e5ad75ea": {
          "model_module": "@jupyter-widgets/base",
          "model_name": "LayoutModel",
          "state": {
            "_model_module": "@jupyter-widgets/base",
            "_model_module_version": "1.2.0",
            "_model_name": "LayoutModel",
            "_view_count": null,
            "_view_module": "@jupyter-widgets/base",
            "_view_module_version": "1.2.0",
            "_view_name": "LayoutView",
            "align_content": null,
            "align_items": null,
            "align_self": null,
            "border": null,
            "bottom": null,
            "display": null,
            "flex": null,
            "flex_flow": null,
            "grid_area": null,
            "grid_auto_columns": null,
            "grid_auto_flow": null,
            "grid_auto_rows": null,
            "grid_column": null,
            "grid_gap": null,
            "grid_row": null,
            "grid_template_areas": null,
            "grid_template_columns": null,
            "grid_template_rows": null,
            "height": null,
            "justify_content": null,
            "justify_items": null,
            "left": null,
            "margin": null,
            "max_height": null,
            "max_width": null,
            "min_height": null,
            "min_width": null,
            "object_fit": null,
            "object_position": null,
            "order": null,
            "overflow": null,
            "overflow_x": null,
            "overflow_y": null,
            "padding": null,
            "right": null,
            "top": null,
            "visibility": null,
            "width": null
          }
        },
        "cc27287198e34dc191a65003b6e5a77a": {
          "model_module": "@jupyter-widgets/controls",
          "model_name": "ProgressStyleModel",
          "state": {
            "_model_module": "@jupyter-widgets/controls",
            "_model_module_version": "1.5.0",
            "_model_name": "ProgressStyleModel",
            "_view_count": null,
            "_view_module": "@jupyter-widgets/base",
            "_view_module_version": "1.2.0",
            "_view_name": "StyleView",
            "bar_color": null,
            "description_width": "initial"
          }
        },
        "77621497dbcf46b5af975e16e4a5c44b": {
          "model_module": "@jupyter-widgets/base",
          "model_name": "LayoutModel",
          "state": {
            "_model_module": "@jupyter-widgets/base",
            "_model_module_version": "1.2.0",
            "_model_name": "LayoutModel",
            "_view_count": null,
            "_view_module": "@jupyter-widgets/base",
            "_view_module_version": "1.2.0",
            "_view_name": "LayoutView",
            "align_content": null,
            "align_items": null,
            "align_self": null,
            "border": null,
            "bottom": null,
            "display": null,
            "flex": null,
            "flex_flow": null,
            "grid_area": null,
            "grid_auto_columns": null,
            "grid_auto_flow": null,
            "grid_auto_rows": null,
            "grid_column": null,
            "grid_gap": null,
            "grid_row": null,
            "grid_template_areas": null,
            "grid_template_columns": null,
            "grid_template_rows": null,
            "height": null,
            "justify_content": null,
            "justify_items": null,
            "left": null,
            "margin": null,
            "max_height": null,
            "max_width": null,
            "min_height": null,
            "min_width": null,
            "object_fit": null,
            "object_position": null,
            "order": null,
            "overflow": null,
            "overflow_x": null,
            "overflow_y": null,
            "padding": null,
            "right": null,
            "top": null,
            "visibility": null,
            "width": null
          }
        },
        "ecd232dd8427468c9ae83a166bfacf04": {
          "model_module": "@jupyter-widgets/controls",
          "model_name": "DescriptionStyleModel",
          "state": {
            "_model_module": "@jupyter-widgets/controls",
            "_model_module_version": "1.5.0",
            "_model_name": "DescriptionStyleModel",
            "_view_count": null,
            "_view_module": "@jupyter-widgets/base",
            "_view_module_version": "1.2.0",
            "_view_name": "StyleView",
            "description_width": ""
          }
        },
        "89545b30e1714e9587f948fe41f42f37": {
          "model_module": "@jupyter-widgets/controls",
          "model_name": "HBoxModel",
          "state": {
            "_dom_classes": [],
            "_model_module": "@jupyter-widgets/controls",
            "_model_module_version": "1.5.0",
            "_model_name": "HBoxModel",
            "_view_count": null,
            "_view_module": "@jupyter-widgets/controls",
            "_view_module_version": "1.5.0",
            "_view_name": "HBoxView",
            "box_style": "",
            "children": [
              "IPY_MODEL_ffd8cc0851174591a8b1aead5a130347",
              "IPY_MODEL_691d76b76c6f4018b579289e090ea1cc"
            ],
            "layout": "IPY_MODEL_4a4509aab8134572939e69cd217be00b"
          }
        },
        "ffd8cc0851174591a8b1aead5a130347": {
          "model_module": "@jupyter-widgets/controls",
          "model_name": "FloatProgressModel",
          "state": {
            "_dom_classes": [],
            "_model_module": "@jupyter-widgets/controls",
            "_model_module_version": "1.5.0",
            "_model_name": "FloatProgressModel",
            "_view_count": null,
            "_view_module": "@jupyter-widgets/controls",
            "_view_module_version": "1.5.0",
            "_view_name": "ProgressView",
            "bar_style": "success",
            "description": "100%",
            "description_tooltip": null,
            "layout": "IPY_MODEL_3e686638047b44fc92a480d614e479f9",
            "max": 355930,
            "min": 0,
            "orientation": "horizontal",
            "style": "IPY_MODEL_5e76ecc6598541cd8a333a8e84cd406f",
            "value": 355930
          }
        },
        "691d76b76c6f4018b579289e090ea1cc": {
          "model_module": "@jupyter-widgets/controls",
          "model_name": "HTMLModel",
          "state": {
            "_dom_classes": [],
            "_model_module": "@jupyter-widgets/controls",
            "_model_module_version": "1.5.0",
            "_model_name": "HTMLModel",
            "_view_count": null,
            "_view_module": "@jupyter-widgets/controls",
            "_view_module_version": "1.5.0",
            "_view_name": "HTMLView",
            "description": "",
            "description_tooltip": null,
            "layout": "IPY_MODEL_bff89b16f76e43a094092ad16b05c630",
            "placeholder": "​",
            "style": "IPY_MODEL_f74614b4e8ad44909dd7d2f46d30e9a3",
            "value": " 355930/355930 [07:30&lt;00:00, 789.62it/s]"
          }
        },
        "4a4509aab8134572939e69cd217be00b": {
          "model_module": "@jupyter-widgets/base",
          "model_name": "LayoutModel",
          "state": {
            "_model_module": "@jupyter-widgets/base",
            "_model_module_version": "1.2.0",
            "_model_name": "LayoutModel",
            "_view_count": null,
            "_view_module": "@jupyter-widgets/base",
            "_view_module_version": "1.2.0",
            "_view_name": "LayoutView",
            "align_content": null,
            "align_items": null,
            "align_self": null,
            "border": null,
            "bottom": null,
            "display": null,
            "flex": null,
            "flex_flow": null,
            "grid_area": null,
            "grid_auto_columns": null,
            "grid_auto_flow": null,
            "grid_auto_rows": null,
            "grid_column": null,
            "grid_gap": null,
            "grid_row": null,
            "grid_template_areas": null,
            "grid_template_columns": null,
            "grid_template_rows": null,
            "height": null,
            "justify_content": null,
            "justify_items": null,
            "left": null,
            "margin": null,
            "max_height": null,
            "max_width": null,
            "min_height": null,
            "min_width": null,
            "object_fit": null,
            "object_position": null,
            "order": null,
            "overflow": null,
            "overflow_x": null,
            "overflow_y": null,
            "padding": null,
            "right": null,
            "top": null,
            "visibility": null,
            "width": null
          }
        },
        "3e686638047b44fc92a480d614e479f9": {
          "model_module": "@jupyter-widgets/base",
          "model_name": "LayoutModel",
          "state": {
            "_model_module": "@jupyter-widgets/base",
            "_model_module_version": "1.2.0",
            "_model_name": "LayoutModel",
            "_view_count": null,
            "_view_module": "@jupyter-widgets/base",
            "_view_module_version": "1.2.0",
            "_view_name": "LayoutView",
            "align_content": null,
            "align_items": null,
            "align_self": null,
            "border": null,
            "bottom": null,
            "display": null,
            "flex": null,
            "flex_flow": null,
            "grid_area": null,
            "grid_auto_columns": null,
            "grid_auto_flow": null,
            "grid_auto_rows": null,
            "grid_column": null,
            "grid_gap": null,
            "grid_row": null,
            "grid_template_areas": null,
            "grid_template_columns": null,
            "grid_template_rows": null,
            "height": null,
            "justify_content": null,
            "justify_items": null,
            "left": null,
            "margin": null,
            "max_height": null,
            "max_width": null,
            "min_height": null,
            "min_width": null,
            "object_fit": null,
            "object_position": null,
            "order": null,
            "overflow": null,
            "overflow_x": null,
            "overflow_y": null,
            "padding": null,
            "right": null,
            "top": null,
            "visibility": null,
            "width": null
          }
        },
        "5e76ecc6598541cd8a333a8e84cd406f": {
          "model_module": "@jupyter-widgets/controls",
          "model_name": "ProgressStyleModel",
          "state": {
            "_model_module": "@jupyter-widgets/controls",
            "_model_module_version": "1.5.0",
            "_model_name": "ProgressStyleModel",
            "_view_count": null,
            "_view_module": "@jupyter-widgets/base",
            "_view_module_version": "1.2.0",
            "_view_name": "StyleView",
            "bar_color": null,
            "description_width": "initial"
          }
        },
        "bff89b16f76e43a094092ad16b05c630": {
          "model_module": "@jupyter-widgets/base",
          "model_name": "LayoutModel",
          "state": {
            "_model_module": "@jupyter-widgets/base",
            "_model_module_version": "1.2.0",
            "_model_name": "LayoutModel",
            "_view_count": null,
            "_view_module": "@jupyter-widgets/base",
            "_view_module_version": "1.2.0",
            "_view_name": "LayoutView",
            "align_content": null,
            "align_items": null,
            "align_self": null,
            "border": null,
            "bottom": null,
            "display": null,
            "flex": null,
            "flex_flow": null,
            "grid_area": null,
            "grid_auto_columns": null,
            "grid_auto_flow": null,
            "grid_auto_rows": null,
            "grid_column": null,
            "grid_gap": null,
            "grid_row": null,
            "grid_template_areas": null,
            "grid_template_columns": null,
            "grid_template_rows": null,
            "height": null,
            "justify_content": null,
            "justify_items": null,
            "left": null,
            "margin": null,
            "max_height": null,
            "max_width": null,
            "min_height": null,
            "min_width": null,
            "object_fit": null,
            "object_position": null,
            "order": null,
            "overflow": null,
            "overflow_x": null,
            "overflow_y": null,
            "padding": null,
            "right": null,
            "top": null,
            "visibility": null,
            "width": null
          }
        },
        "f74614b4e8ad44909dd7d2f46d30e9a3": {
          "model_module": "@jupyter-widgets/controls",
          "model_name": "DescriptionStyleModel",
          "state": {
            "_model_module": "@jupyter-widgets/controls",
            "_model_module_version": "1.5.0",
            "_model_name": "DescriptionStyleModel",
            "_view_count": null,
            "_view_module": "@jupyter-widgets/base",
            "_view_module_version": "1.2.0",
            "_view_name": "StyleView",
            "description_width": ""
          }
        },
        "73cae76ae2f8446da45120ee2bca6236": {
          "model_module": "@jupyter-widgets/controls",
          "model_name": "HBoxModel",
          "state": {
            "_dom_classes": [],
            "_model_module": "@jupyter-widgets/controls",
            "_model_module_version": "1.5.0",
            "_model_name": "HBoxModel",
            "_view_count": null,
            "_view_module": "@jupyter-widgets/controls",
            "_view_module_version": "1.5.0",
            "_view_name": "HBoxView",
            "box_style": "",
            "children": [
              "IPY_MODEL_73de556efd32434a91fd3ad258b73635",
              "IPY_MODEL_a3ff8757962c499da521f324a0fddfb8"
            ],
            "layout": "IPY_MODEL_4c997cadf6694bee95269203fa84d872"
          }
        },
        "73de556efd32434a91fd3ad258b73635": {
          "model_module": "@jupyter-widgets/controls",
          "model_name": "FloatProgressModel",
          "state": {
            "_dom_classes": [],
            "_model_module": "@jupyter-widgets/controls",
            "_model_module_version": "1.5.0",
            "_model_name": "FloatProgressModel",
            "_view_count": null,
            "_view_module": "@jupyter-widgets/controls",
            "_view_module_version": "1.5.0",
            "_view_name": "ProgressView",
            "bar_style": "success",
            "description": "100%",
            "description_tooltip": null,
            "layout": "IPY_MODEL_37d7320a21de4f9ba78778a8b5fdc372",
            "max": 21983,
            "min": 0,
            "orientation": "horizontal",
            "style": "IPY_MODEL_68cd95899884427bab2587b57b69a9e2",
            "value": 21983
          }
        },
        "a3ff8757962c499da521f324a0fddfb8": {
          "model_module": "@jupyter-widgets/controls",
          "model_name": "HTMLModel",
          "state": {
            "_dom_classes": [],
            "_model_module": "@jupyter-widgets/controls",
            "_model_module_version": "1.5.0",
            "_model_name": "HTMLModel",
            "_view_count": null,
            "_view_module": "@jupyter-widgets/controls",
            "_view_module_version": "1.5.0",
            "_view_name": "HTMLView",
            "description": "",
            "description_tooltip": null,
            "layout": "IPY_MODEL_05c3d065667647b687dcbda6812172a1",
            "placeholder": "​",
            "style": "IPY_MODEL_65548628ebff42baa2795a5d0a923e00",
            "value": " 21983/21983 [02:02&lt;00:00, 179.75it/s]"
          }
        },
        "4c997cadf6694bee95269203fa84d872": {
          "model_module": "@jupyter-widgets/base",
          "model_name": "LayoutModel",
          "state": {
            "_model_module": "@jupyter-widgets/base",
            "_model_module_version": "1.2.0",
            "_model_name": "LayoutModel",
            "_view_count": null,
            "_view_module": "@jupyter-widgets/base",
            "_view_module_version": "1.2.0",
            "_view_name": "LayoutView",
            "align_content": null,
            "align_items": null,
            "align_self": null,
            "border": null,
            "bottom": null,
            "display": null,
            "flex": null,
            "flex_flow": null,
            "grid_area": null,
            "grid_auto_columns": null,
            "grid_auto_flow": null,
            "grid_auto_rows": null,
            "grid_column": null,
            "grid_gap": null,
            "grid_row": null,
            "grid_template_areas": null,
            "grid_template_columns": null,
            "grid_template_rows": null,
            "height": null,
            "justify_content": null,
            "justify_items": null,
            "left": null,
            "margin": null,
            "max_height": null,
            "max_width": null,
            "min_height": null,
            "min_width": null,
            "object_fit": null,
            "object_position": null,
            "order": null,
            "overflow": null,
            "overflow_x": null,
            "overflow_y": null,
            "padding": null,
            "right": null,
            "top": null,
            "visibility": null,
            "width": null
          }
        },
        "37d7320a21de4f9ba78778a8b5fdc372": {
          "model_module": "@jupyter-widgets/base",
          "model_name": "LayoutModel",
          "state": {
            "_model_module": "@jupyter-widgets/base",
            "_model_module_version": "1.2.0",
            "_model_name": "LayoutModel",
            "_view_count": null,
            "_view_module": "@jupyter-widgets/base",
            "_view_module_version": "1.2.0",
            "_view_name": "LayoutView",
            "align_content": null,
            "align_items": null,
            "align_self": null,
            "border": null,
            "bottom": null,
            "display": null,
            "flex": null,
            "flex_flow": null,
            "grid_area": null,
            "grid_auto_columns": null,
            "grid_auto_flow": null,
            "grid_auto_rows": null,
            "grid_column": null,
            "grid_gap": null,
            "grid_row": null,
            "grid_template_areas": null,
            "grid_template_columns": null,
            "grid_template_rows": null,
            "height": null,
            "justify_content": null,
            "justify_items": null,
            "left": null,
            "margin": null,
            "max_height": null,
            "max_width": null,
            "min_height": null,
            "min_width": null,
            "object_fit": null,
            "object_position": null,
            "order": null,
            "overflow": null,
            "overflow_x": null,
            "overflow_y": null,
            "padding": null,
            "right": null,
            "top": null,
            "visibility": null,
            "width": null
          }
        },
        "68cd95899884427bab2587b57b69a9e2": {
          "model_module": "@jupyter-widgets/controls",
          "model_name": "ProgressStyleModel",
          "state": {
            "_model_module": "@jupyter-widgets/controls",
            "_model_module_version": "1.5.0",
            "_model_name": "ProgressStyleModel",
            "_view_count": null,
            "_view_module": "@jupyter-widgets/base",
            "_view_module_version": "1.2.0",
            "_view_name": "StyleView",
            "bar_color": null,
            "description_width": "initial"
          }
        },
        "05c3d065667647b687dcbda6812172a1": {
          "model_module": "@jupyter-widgets/base",
          "model_name": "LayoutModel",
          "state": {
            "_model_module": "@jupyter-widgets/base",
            "_model_module_version": "1.2.0",
            "_model_name": "LayoutModel",
            "_view_count": null,
            "_view_module": "@jupyter-widgets/base",
            "_view_module_version": "1.2.0",
            "_view_name": "LayoutView",
            "align_content": null,
            "align_items": null,
            "align_self": null,
            "border": null,
            "bottom": null,
            "display": null,
            "flex": null,
            "flex_flow": null,
            "grid_area": null,
            "grid_auto_columns": null,
            "grid_auto_flow": null,
            "grid_auto_rows": null,
            "grid_column": null,
            "grid_gap": null,
            "grid_row": null,
            "grid_template_areas": null,
            "grid_template_columns": null,
            "grid_template_rows": null,
            "height": null,
            "justify_content": null,
            "justify_items": null,
            "left": null,
            "margin": null,
            "max_height": null,
            "max_width": null,
            "min_height": null,
            "min_width": null,
            "object_fit": null,
            "object_position": null,
            "order": null,
            "overflow": null,
            "overflow_x": null,
            "overflow_y": null,
            "padding": null,
            "right": null,
            "top": null,
            "visibility": null,
            "width": null
          }
        },
        "65548628ebff42baa2795a5d0a923e00": {
          "model_module": "@jupyter-widgets/controls",
          "model_name": "DescriptionStyleModel",
          "state": {
            "_model_module": "@jupyter-widgets/controls",
            "_model_module_version": "1.5.0",
            "_model_name": "DescriptionStyleModel",
            "_view_count": null,
            "_view_module": "@jupyter-widgets/base",
            "_view_module_version": "1.2.0",
            "_view_name": "StyleView",
            "description_width": ""
          }
        },
        "a7ed3f7f60214364a4f8fc78f06ab92c": {
          "model_module": "@jupyter-widgets/controls",
          "model_name": "HBoxModel",
          "state": {
            "_dom_classes": [],
            "_model_module": "@jupyter-widgets/controls",
            "_model_module_version": "1.5.0",
            "_model_name": "HBoxModel",
            "_view_count": null,
            "_view_module": "@jupyter-widgets/controls",
            "_view_module_version": "1.5.0",
            "_view_name": "HBoxView",
            "box_style": "",
            "children": [
              "IPY_MODEL_39c8b3b6c9874a13a523b85dca87acc2",
              "IPY_MODEL_dd6bb7291ff4463c907469421acbb3bf"
            ],
            "layout": "IPY_MODEL_aeb1fc3425d14de1a84af7f0afdfac6a"
          }
        },
        "39c8b3b6c9874a13a523b85dca87acc2": {
          "model_module": "@jupyter-widgets/controls",
          "model_name": "FloatProgressModel",
          "state": {
            "_dom_classes": [],
            "_model_module": "@jupyter-widgets/controls",
            "_model_module_version": "1.5.0",
            "_model_name": "FloatProgressModel",
            "_view_count": null,
            "_view_module": "@jupyter-widgets/controls",
            "_view_module_version": "1.5.0",
            "_view_name": "ProgressView",
            "bar_style": "success",
            "description": "100%",
            "description_tooltip": null,
            "layout": "IPY_MODEL_841d4ec398c545b8a593de30048232c5",
            "max": 9905,
            "min": 0,
            "orientation": "horizontal",
            "style": "IPY_MODEL_0ce47f655c174999a7a288445564c603",
            "value": 9905
          }
        },
        "dd6bb7291ff4463c907469421acbb3bf": {
          "model_module": "@jupyter-widgets/controls",
          "model_name": "HTMLModel",
          "state": {
            "_dom_classes": [],
            "_model_module": "@jupyter-widgets/controls",
            "_model_module_version": "1.5.0",
            "_model_name": "HTMLModel",
            "_view_count": null,
            "_view_module": "@jupyter-widgets/controls",
            "_view_module_version": "1.5.0",
            "_view_name": "HTMLView",
            "description": "",
            "description_tooltip": null,
            "layout": "IPY_MODEL_1a7e4e718d00461b8df45c609571e15f",
            "placeholder": "​",
            "style": "IPY_MODEL_96e84fcb83914ab2b887185e9b7e2a49",
            "value": " 9905/9905 [01:54&lt;00:00, 86.20it/s]"
          }
        },
        "aeb1fc3425d14de1a84af7f0afdfac6a": {
          "model_module": "@jupyter-widgets/base",
          "model_name": "LayoutModel",
          "state": {
            "_model_module": "@jupyter-widgets/base",
            "_model_module_version": "1.2.0",
            "_model_name": "LayoutModel",
            "_view_count": null,
            "_view_module": "@jupyter-widgets/base",
            "_view_module_version": "1.2.0",
            "_view_name": "LayoutView",
            "align_content": null,
            "align_items": null,
            "align_self": null,
            "border": null,
            "bottom": null,
            "display": null,
            "flex": null,
            "flex_flow": null,
            "grid_area": null,
            "grid_auto_columns": null,
            "grid_auto_flow": null,
            "grid_auto_rows": null,
            "grid_column": null,
            "grid_gap": null,
            "grid_row": null,
            "grid_template_areas": null,
            "grid_template_columns": null,
            "grid_template_rows": null,
            "height": null,
            "justify_content": null,
            "justify_items": null,
            "left": null,
            "margin": null,
            "max_height": null,
            "max_width": null,
            "min_height": null,
            "min_width": null,
            "object_fit": null,
            "object_position": null,
            "order": null,
            "overflow": null,
            "overflow_x": null,
            "overflow_y": null,
            "padding": null,
            "right": null,
            "top": null,
            "visibility": null,
            "width": null
          }
        },
        "841d4ec398c545b8a593de30048232c5": {
          "model_module": "@jupyter-widgets/base",
          "model_name": "LayoutModel",
          "state": {
            "_model_module": "@jupyter-widgets/base",
            "_model_module_version": "1.2.0",
            "_model_name": "LayoutModel",
            "_view_count": null,
            "_view_module": "@jupyter-widgets/base",
            "_view_module_version": "1.2.0",
            "_view_name": "LayoutView",
            "align_content": null,
            "align_items": null,
            "align_self": null,
            "border": null,
            "bottom": null,
            "display": null,
            "flex": null,
            "flex_flow": null,
            "grid_area": null,
            "grid_auto_columns": null,
            "grid_auto_flow": null,
            "grid_auto_rows": null,
            "grid_column": null,
            "grid_gap": null,
            "grid_row": null,
            "grid_template_areas": null,
            "grid_template_columns": null,
            "grid_template_rows": null,
            "height": null,
            "justify_content": null,
            "justify_items": null,
            "left": null,
            "margin": null,
            "max_height": null,
            "max_width": null,
            "min_height": null,
            "min_width": null,
            "object_fit": null,
            "object_position": null,
            "order": null,
            "overflow": null,
            "overflow_x": null,
            "overflow_y": null,
            "padding": null,
            "right": null,
            "top": null,
            "visibility": null,
            "width": null
          }
        },
        "0ce47f655c174999a7a288445564c603": {
          "model_module": "@jupyter-widgets/controls",
          "model_name": "ProgressStyleModel",
          "state": {
            "_model_module": "@jupyter-widgets/controls",
            "_model_module_version": "1.5.0",
            "_model_name": "ProgressStyleModel",
            "_view_count": null,
            "_view_module": "@jupyter-widgets/base",
            "_view_module_version": "1.2.0",
            "_view_name": "StyleView",
            "bar_color": null,
            "description_width": "initial"
          }
        },
        "1a7e4e718d00461b8df45c609571e15f": {
          "model_module": "@jupyter-widgets/base",
          "model_name": "LayoutModel",
          "state": {
            "_model_module": "@jupyter-widgets/base",
            "_model_module_version": "1.2.0",
            "_model_name": "LayoutModel",
            "_view_count": null,
            "_view_module": "@jupyter-widgets/base",
            "_view_module_version": "1.2.0",
            "_view_name": "LayoutView",
            "align_content": null,
            "align_items": null,
            "align_self": null,
            "border": null,
            "bottom": null,
            "display": null,
            "flex": null,
            "flex_flow": null,
            "grid_area": null,
            "grid_auto_columns": null,
            "grid_auto_flow": null,
            "grid_auto_rows": null,
            "grid_column": null,
            "grid_gap": null,
            "grid_row": null,
            "grid_template_areas": null,
            "grid_template_columns": null,
            "grid_template_rows": null,
            "height": null,
            "justify_content": null,
            "justify_items": null,
            "left": null,
            "margin": null,
            "max_height": null,
            "max_width": null,
            "min_height": null,
            "min_width": null,
            "object_fit": null,
            "object_position": null,
            "order": null,
            "overflow": null,
            "overflow_x": null,
            "overflow_y": null,
            "padding": null,
            "right": null,
            "top": null,
            "visibility": null,
            "width": null
          }
        },
        "96e84fcb83914ab2b887185e9b7e2a49": {
          "model_module": "@jupyter-widgets/controls",
          "model_name": "DescriptionStyleModel",
          "state": {
            "_model_module": "@jupyter-widgets/controls",
            "_model_module_version": "1.5.0",
            "_model_name": "DescriptionStyleModel",
            "_view_count": null,
            "_view_module": "@jupyter-widgets/base",
            "_view_module_version": "1.2.0",
            "_view_name": "StyleView",
            "description_width": ""
          }
        },
        "8900d8a1d9a540c7afcb9baf8ab05c3f": {
          "model_module": "@jupyter-widgets/controls",
          "model_name": "HBoxModel",
          "state": {
            "_dom_classes": [],
            "_model_module": "@jupyter-widgets/controls",
            "_model_module_version": "1.5.0",
            "_model_name": "HBoxModel",
            "_view_count": null,
            "_view_module": "@jupyter-widgets/controls",
            "_view_module_version": "1.5.0",
            "_view_name": "HBoxView",
            "box_style": "",
            "children": [
              "IPY_MODEL_6f0231c655a3462babb35d4e39ef632f",
              "IPY_MODEL_53c58fbe1fd84e58990f3b32359716d2"
            ],
            "layout": "IPY_MODEL_8eaa7fe5f8e74904b35ded014f98853a"
          }
        },
        "6f0231c655a3462babb35d4e39ef632f": {
          "model_module": "@jupyter-widgets/controls",
          "model_name": "FloatProgressModel",
          "state": {
            "_dom_classes": [],
            "_model_module": "@jupyter-widgets/controls",
            "_model_module_version": "1.5.0",
            "_model_name": "FloatProgressModel",
            "_view_count": null,
            "_view_module": "@jupyter-widgets/controls",
            "_view_module_version": "1.5.0",
            "_view_name": "ProgressView",
            "bar_style": "success",
            "description": "100%",
            "description_tooltip": null,
            "layout": "IPY_MODEL_652c380d8f634d5991f606f420468c83",
            "max": 2668,
            "min": 0,
            "orientation": "horizontal",
            "style": "IPY_MODEL_1ec3c2485a0f4715b94e477c661dcc66",
            "value": 2668
          }
        },
        "53c58fbe1fd84e58990f3b32359716d2": {
          "model_module": "@jupyter-widgets/controls",
          "model_name": "HTMLModel",
          "state": {
            "_dom_classes": [],
            "_model_module": "@jupyter-widgets/controls",
            "_model_module_version": "1.5.0",
            "_model_name": "HTMLModel",
            "_view_count": null,
            "_view_module": "@jupyter-widgets/controls",
            "_view_module_version": "1.5.0",
            "_view_name": "HTMLView",
            "description": "",
            "description_tooltip": null,
            "layout": "IPY_MODEL_352a40a16c1b49d381df09eb54bf44f5",
            "placeholder": "​",
            "style": "IPY_MODEL_5e828caba1e34801a68c67232b965547",
            "value": " 2668/2668 [34:43&lt;00:00,  1.28it/s]"
          }
        },
        "8eaa7fe5f8e74904b35ded014f98853a": {
          "model_module": "@jupyter-widgets/base",
          "model_name": "LayoutModel",
          "state": {
            "_model_module": "@jupyter-widgets/base",
            "_model_module_version": "1.2.0",
            "_model_name": "LayoutModel",
            "_view_count": null,
            "_view_module": "@jupyter-widgets/base",
            "_view_module_version": "1.2.0",
            "_view_name": "LayoutView",
            "align_content": null,
            "align_items": null,
            "align_self": null,
            "border": null,
            "bottom": null,
            "display": null,
            "flex": null,
            "flex_flow": null,
            "grid_area": null,
            "grid_auto_columns": null,
            "grid_auto_flow": null,
            "grid_auto_rows": null,
            "grid_column": null,
            "grid_gap": null,
            "grid_row": null,
            "grid_template_areas": null,
            "grid_template_columns": null,
            "grid_template_rows": null,
            "height": null,
            "justify_content": null,
            "justify_items": null,
            "left": null,
            "margin": null,
            "max_height": null,
            "max_width": null,
            "min_height": null,
            "min_width": null,
            "object_fit": null,
            "object_position": null,
            "order": null,
            "overflow": null,
            "overflow_x": null,
            "overflow_y": null,
            "padding": null,
            "right": null,
            "top": null,
            "visibility": null,
            "width": null
          }
        },
        "652c380d8f634d5991f606f420468c83": {
          "model_module": "@jupyter-widgets/base",
          "model_name": "LayoutModel",
          "state": {
            "_model_module": "@jupyter-widgets/base",
            "_model_module_version": "1.2.0",
            "_model_name": "LayoutModel",
            "_view_count": null,
            "_view_module": "@jupyter-widgets/base",
            "_view_module_version": "1.2.0",
            "_view_name": "LayoutView",
            "align_content": null,
            "align_items": null,
            "align_self": null,
            "border": null,
            "bottom": null,
            "display": null,
            "flex": null,
            "flex_flow": null,
            "grid_area": null,
            "grid_auto_columns": null,
            "grid_auto_flow": null,
            "grid_auto_rows": null,
            "grid_column": null,
            "grid_gap": null,
            "grid_row": null,
            "grid_template_areas": null,
            "grid_template_columns": null,
            "grid_template_rows": null,
            "height": null,
            "justify_content": null,
            "justify_items": null,
            "left": null,
            "margin": null,
            "max_height": null,
            "max_width": null,
            "min_height": null,
            "min_width": null,
            "object_fit": null,
            "object_position": null,
            "order": null,
            "overflow": null,
            "overflow_x": null,
            "overflow_y": null,
            "padding": null,
            "right": null,
            "top": null,
            "visibility": null,
            "width": null
          }
        },
        "1ec3c2485a0f4715b94e477c661dcc66": {
          "model_module": "@jupyter-widgets/controls",
          "model_name": "ProgressStyleModel",
          "state": {
            "_model_module": "@jupyter-widgets/controls",
            "_model_module_version": "1.5.0",
            "_model_name": "ProgressStyleModel",
            "_view_count": null,
            "_view_module": "@jupyter-widgets/base",
            "_view_module_version": "1.2.0",
            "_view_name": "StyleView",
            "bar_color": null,
            "description_width": "initial"
          }
        },
        "352a40a16c1b49d381df09eb54bf44f5": {
          "model_module": "@jupyter-widgets/base",
          "model_name": "LayoutModel",
          "state": {
            "_model_module": "@jupyter-widgets/base",
            "_model_module_version": "1.2.0",
            "_model_name": "LayoutModel",
            "_view_count": null,
            "_view_module": "@jupyter-widgets/base",
            "_view_module_version": "1.2.0",
            "_view_name": "LayoutView",
            "align_content": null,
            "align_items": null,
            "align_self": null,
            "border": null,
            "bottom": null,
            "display": null,
            "flex": null,
            "flex_flow": null,
            "grid_area": null,
            "grid_auto_columns": null,
            "grid_auto_flow": null,
            "grid_auto_rows": null,
            "grid_column": null,
            "grid_gap": null,
            "grid_row": null,
            "grid_template_areas": null,
            "grid_template_columns": null,
            "grid_template_rows": null,
            "height": null,
            "justify_content": null,
            "justify_items": null,
            "left": null,
            "margin": null,
            "max_height": null,
            "max_width": null,
            "min_height": null,
            "min_width": null,
            "object_fit": null,
            "object_position": null,
            "order": null,
            "overflow": null,
            "overflow_x": null,
            "overflow_y": null,
            "padding": null,
            "right": null,
            "top": null,
            "visibility": null,
            "width": null
          }
        },
        "5e828caba1e34801a68c67232b965547": {
          "model_module": "@jupyter-widgets/controls",
          "model_name": "DescriptionStyleModel",
          "state": {
            "_model_module": "@jupyter-widgets/controls",
            "_model_module_version": "1.5.0",
            "_model_name": "DescriptionStyleModel",
            "_view_count": null,
            "_view_module": "@jupyter-widgets/base",
            "_view_module_version": "1.2.0",
            "_view_name": "StyleView",
            "description_width": ""
          }
        },
        "2471601a93c04de094ffad2d30912e11": {
          "model_module": "@jupyter-widgets/controls",
          "model_name": "HBoxModel",
          "state": {
            "_dom_classes": [],
            "_model_module": "@jupyter-widgets/controls",
            "_model_module_version": "1.5.0",
            "_model_name": "HBoxModel",
            "_view_count": null,
            "_view_module": "@jupyter-widgets/controls",
            "_view_module_version": "1.5.0",
            "_view_name": "HBoxView",
            "box_style": "",
            "children": [
              "IPY_MODEL_e126c1dbd498461a8d347821b87397e7",
              "IPY_MODEL_cc2a26da4c05478880cb371665b3c551"
            ],
            "layout": "IPY_MODEL_3d974899660c4f85b703ca724287e32e"
          }
        },
        "e126c1dbd498461a8d347821b87397e7": {
          "model_module": "@jupyter-widgets/controls",
          "model_name": "FloatProgressModel",
          "state": {
            "_dom_classes": [],
            "_model_module": "@jupyter-widgets/controls",
            "_model_module_version": "1.5.0",
            "_model_name": "FloatProgressModel",
            "_view_count": null,
            "_view_module": "@jupyter-widgets/controls",
            "_view_module_version": "1.5.0",
            "_view_name": "ProgressView",
            "bar_style": "success",
            "description": "100%",
            "description_tooltip": null,
            "layout": "IPY_MODEL_0955b200f7a241ff8092b0d645d076f4",
            "max": 97332,
            "min": 0,
            "orientation": "horizontal",
            "style": "IPY_MODEL_e011ea912676435990657a75958dbc5d",
            "value": 97332
          }
        },
        "cc2a26da4c05478880cb371665b3c551": {
          "model_module": "@jupyter-widgets/controls",
          "model_name": "HTMLModel",
          "state": {
            "_dom_classes": [],
            "_model_module": "@jupyter-widgets/controls",
            "_model_module_version": "1.5.0",
            "_model_name": "HTMLModel",
            "_view_count": null,
            "_view_module": "@jupyter-widgets/controls",
            "_view_module_version": "1.5.0",
            "_view_name": "HTMLView",
            "description": "",
            "description_tooltip": null,
            "layout": "IPY_MODEL_90fd3e7c35054d4bab613fb3a9fa69a4",
            "placeholder": "​",
            "style": "IPY_MODEL_7179606fa6bd4edfbeedb693b8214dbd",
            "value": " 97332/97332 [34:13&lt;00:00, 47.39it/s]"
          }
        },
        "3d974899660c4f85b703ca724287e32e": {
          "model_module": "@jupyter-widgets/base",
          "model_name": "LayoutModel",
          "state": {
            "_model_module": "@jupyter-widgets/base",
            "_model_module_version": "1.2.0",
            "_model_name": "LayoutModel",
            "_view_count": null,
            "_view_module": "@jupyter-widgets/base",
            "_view_module_version": "1.2.0",
            "_view_name": "LayoutView",
            "align_content": null,
            "align_items": null,
            "align_self": null,
            "border": null,
            "bottom": null,
            "display": null,
            "flex": null,
            "flex_flow": null,
            "grid_area": null,
            "grid_auto_columns": null,
            "grid_auto_flow": null,
            "grid_auto_rows": null,
            "grid_column": null,
            "grid_gap": null,
            "grid_row": null,
            "grid_template_areas": null,
            "grid_template_columns": null,
            "grid_template_rows": null,
            "height": null,
            "justify_content": null,
            "justify_items": null,
            "left": null,
            "margin": null,
            "max_height": null,
            "max_width": null,
            "min_height": null,
            "min_width": null,
            "object_fit": null,
            "object_position": null,
            "order": null,
            "overflow": null,
            "overflow_x": null,
            "overflow_y": null,
            "padding": null,
            "right": null,
            "top": null,
            "visibility": null,
            "width": null
          }
        },
        "0955b200f7a241ff8092b0d645d076f4": {
          "model_module": "@jupyter-widgets/base",
          "model_name": "LayoutModel",
          "state": {
            "_model_module": "@jupyter-widgets/base",
            "_model_module_version": "1.2.0",
            "_model_name": "LayoutModel",
            "_view_count": null,
            "_view_module": "@jupyter-widgets/base",
            "_view_module_version": "1.2.0",
            "_view_name": "LayoutView",
            "align_content": null,
            "align_items": null,
            "align_self": null,
            "border": null,
            "bottom": null,
            "display": null,
            "flex": null,
            "flex_flow": null,
            "grid_area": null,
            "grid_auto_columns": null,
            "grid_auto_flow": null,
            "grid_auto_rows": null,
            "grid_column": null,
            "grid_gap": null,
            "grid_row": null,
            "grid_template_areas": null,
            "grid_template_columns": null,
            "grid_template_rows": null,
            "height": null,
            "justify_content": null,
            "justify_items": null,
            "left": null,
            "margin": null,
            "max_height": null,
            "max_width": null,
            "min_height": null,
            "min_width": null,
            "object_fit": null,
            "object_position": null,
            "order": null,
            "overflow": null,
            "overflow_x": null,
            "overflow_y": null,
            "padding": null,
            "right": null,
            "top": null,
            "visibility": null,
            "width": null
          }
        },
        "e011ea912676435990657a75958dbc5d": {
          "model_module": "@jupyter-widgets/controls",
          "model_name": "ProgressStyleModel",
          "state": {
            "_model_module": "@jupyter-widgets/controls",
            "_model_module_version": "1.5.0",
            "_model_name": "ProgressStyleModel",
            "_view_count": null,
            "_view_module": "@jupyter-widgets/base",
            "_view_module_version": "1.2.0",
            "_view_name": "StyleView",
            "bar_color": null,
            "description_width": "initial"
          }
        },
        "90fd3e7c35054d4bab613fb3a9fa69a4": {
          "model_module": "@jupyter-widgets/base",
          "model_name": "LayoutModel",
          "state": {
            "_model_module": "@jupyter-widgets/base",
            "_model_module_version": "1.2.0",
            "_model_name": "LayoutModel",
            "_view_count": null,
            "_view_module": "@jupyter-widgets/base",
            "_view_module_version": "1.2.0",
            "_view_name": "LayoutView",
            "align_content": null,
            "align_items": null,
            "align_self": null,
            "border": null,
            "bottom": null,
            "display": null,
            "flex": null,
            "flex_flow": null,
            "grid_area": null,
            "grid_auto_columns": null,
            "grid_auto_flow": null,
            "grid_auto_rows": null,
            "grid_column": null,
            "grid_gap": null,
            "grid_row": null,
            "grid_template_areas": null,
            "grid_template_columns": null,
            "grid_template_rows": null,
            "height": null,
            "justify_content": null,
            "justify_items": null,
            "left": null,
            "margin": null,
            "max_height": null,
            "max_width": null,
            "min_height": null,
            "min_width": null,
            "object_fit": null,
            "object_position": null,
            "order": null,
            "overflow": null,
            "overflow_x": null,
            "overflow_y": null,
            "padding": null,
            "right": null,
            "top": null,
            "visibility": null,
            "width": null
          }
        },
        "7179606fa6bd4edfbeedb693b8214dbd": {
          "model_module": "@jupyter-widgets/controls",
          "model_name": "DescriptionStyleModel",
          "state": {
            "_model_module": "@jupyter-widgets/controls",
            "_model_module_version": "1.5.0",
            "_model_name": "DescriptionStyleModel",
            "_view_count": null,
            "_view_module": "@jupyter-widgets/base",
            "_view_module_version": "1.2.0",
            "_view_name": "StyleView",
            "description_width": ""
          }
        },
        "6795db8721f0497d9a72a584e2d5be45": {
          "model_module": "@jupyter-widgets/controls",
          "model_name": "HBoxModel",
          "state": {
            "_dom_classes": [],
            "_model_module": "@jupyter-widgets/controls",
            "_model_module_version": "1.5.0",
            "_model_name": "HBoxModel",
            "_view_count": null,
            "_view_module": "@jupyter-widgets/controls",
            "_view_module_version": "1.5.0",
            "_view_name": "HBoxView",
            "box_style": "",
            "children": [
              "IPY_MODEL_27ec2afdbaf54d71abf07393e19b445c",
              "IPY_MODEL_03e8498838174c75b3c36e92b7d1df41"
            ],
            "layout": "IPY_MODEL_7f3e8586a72c461aaf11c583cfc4d81e"
          }
        },
        "27ec2afdbaf54d71abf07393e19b445c": {
          "model_module": "@jupyter-widgets/controls",
          "model_name": "FloatProgressModel",
          "state": {
            "_dom_classes": [],
            "_model_module": "@jupyter-widgets/controls",
            "_model_module_version": "1.5.0",
            "_model_name": "FloatProgressModel",
            "_view_count": null,
            "_view_module": "@jupyter-widgets/controls",
            "_view_module_version": "1.5.0",
            "_view_name": "ProgressView",
            "bar_style": "success",
            "description": "100%",
            "description_tooltip": null,
            "layout": "IPY_MODEL_8b30a734db604959be7651c19895f782",
            "max": 21983,
            "min": 0,
            "orientation": "horizontal",
            "style": "IPY_MODEL_0a84b56e6bed481ea66af58f8483c53e",
            "value": 21983
          }
        },
        "03e8498838174c75b3c36e92b7d1df41": {
          "model_module": "@jupyter-widgets/controls",
          "model_name": "HTMLModel",
          "state": {
            "_dom_classes": [],
            "_model_module": "@jupyter-widgets/controls",
            "_model_module_version": "1.5.0",
            "_model_name": "HTMLModel",
            "_view_count": null,
            "_view_module": "@jupyter-widgets/controls",
            "_view_module_version": "1.5.0",
            "_view_name": "HTMLView",
            "description": "",
            "description_tooltip": null,
            "layout": "IPY_MODEL_3b8c9c7944c64c7fa16b7b0d102f3ec4",
            "placeholder": "​",
            "style": "IPY_MODEL_5a154a7760024ce9ad8355114f61cec3",
            "value": " 21983/21983 [03:03&lt;00:00, 119.92it/s]"
          }
        },
        "7f3e8586a72c461aaf11c583cfc4d81e": {
          "model_module": "@jupyter-widgets/base",
          "model_name": "LayoutModel",
          "state": {
            "_model_module": "@jupyter-widgets/base",
            "_model_module_version": "1.2.0",
            "_model_name": "LayoutModel",
            "_view_count": null,
            "_view_module": "@jupyter-widgets/base",
            "_view_module_version": "1.2.0",
            "_view_name": "LayoutView",
            "align_content": null,
            "align_items": null,
            "align_self": null,
            "border": null,
            "bottom": null,
            "display": null,
            "flex": null,
            "flex_flow": null,
            "grid_area": null,
            "grid_auto_columns": null,
            "grid_auto_flow": null,
            "grid_auto_rows": null,
            "grid_column": null,
            "grid_gap": null,
            "grid_row": null,
            "grid_template_areas": null,
            "grid_template_columns": null,
            "grid_template_rows": null,
            "height": null,
            "justify_content": null,
            "justify_items": null,
            "left": null,
            "margin": null,
            "max_height": null,
            "max_width": null,
            "min_height": null,
            "min_width": null,
            "object_fit": null,
            "object_position": null,
            "order": null,
            "overflow": null,
            "overflow_x": null,
            "overflow_y": null,
            "padding": null,
            "right": null,
            "top": null,
            "visibility": null,
            "width": null
          }
        },
        "8b30a734db604959be7651c19895f782": {
          "model_module": "@jupyter-widgets/base",
          "model_name": "LayoutModel",
          "state": {
            "_model_module": "@jupyter-widgets/base",
            "_model_module_version": "1.2.0",
            "_model_name": "LayoutModel",
            "_view_count": null,
            "_view_module": "@jupyter-widgets/base",
            "_view_module_version": "1.2.0",
            "_view_name": "LayoutView",
            "align_content": null,
            "align_items": null,
            "align_self": null,
            "border": null,
            "bottom": null,
            "display": null,
            "flex": null,
            "flex_flow": null,
            "grid_area": null,
            "grid_auto_columns": null,
            "grid_auto_flow": null,
            "grid_auto_rows": null,
            "grid_column": null,
            "grid_gap": null,
            "grid_row": null,
            "grid_template_areas": null,
            "grid_template_columns": null,
            "grid_template_rows": null,
            "height": null,
            "justify_content": null,
            "justify_items": null,
            "left": null,
            "margin": null,
            "max_height": null,
            "max_width": null,
            "min_height": null,
            "min_width": null,
            "object_fit": null,
            "object_position": null,
            "order": null,
            "overflow": null,
            "overflow_x": null,
            "overflow_y": null,
            "padding": null,
            "right": null,
            "top": null,
            "visibility": null,
            "width": null
          }
        },
        "0a84b56e6bed481ea66af58f8483c53e": {
          "model_module": "@jupyter-widgets/controls",
          "model_name": "ProgressStyleModel",
          "state": {
            "_model_module": "@jupyter-widgets/controls",
            "_model_module_version": "1.5.0",
            "_model_name": "ProgressStyleModel",
            "_view_count": null,
            "_view_module": "@jupyter-widgets/base",
            "_view_module_version": "1.2.0",
            "_view_name": "StyleView",
            "bar_color": null,
            "description_width": "initial"
          }
        },
        "3b8c9c7944c64c7fa16b7b0d102f3ec4": {
          "model_module": "@jupyter-widgets/base",
          "model_name": "LayoutModel",
          "state": {
            "_model_module": "@jupyter-widgets/base",
            "_model_module_version": "1.2.0",
            "_model_name": "LayoutModel",
            "_view_count": null,
            "_view_module": "@jupyter-widgets/base",
            "_view_module_version": "1.2.0",
            "_view_name": "LayoutView",
            "align_content": null,
            "align_items": null,
            "align_self": null,
            "border": null,
            "bottom": null,
            "display": null,
            "flex": null,
            "flex_flow": null,
            "grid_area": null,
            "grid_auto_columns": null,
            "grid_auto_flow": null,
            "grid_auto_rows": null,
            "grid_column": null,
            "grid_gap": null,
            "grid_row": null,
            "grid_template_areas": null,
            "grid_template_columns": null,
            "grid_template_rows": null,
            "height": null,
            "justify_content": null,
            "justify_items": null,
            "left": null,
            "margin": null,
            "max_height": null,
            "max_width": null,
            "min_height": null,
            "min_width": null,
            "object_fit": null,
            "object_position": null,
            "order": null,
            "overflow": null,
            "overflow_x": null,
            "overflow_y": null,
            "padding": null,
            "right": null,
            "top": null,
            "visibility": null,
            "width": null
          }
        },
        "5a154a7760024ce9ad8355114f61cec3": {
          "model_module": "@jupyter-widgets/controls",
          "model_name": "DescriptionStyleModel",
          "state": {
            "_model_module": "@jupyter-widgets/controls",
            "_model_module_version": "1.5.0",
            "_model_name": "DescriptionStyleModel",
            "_view_count": null,
            "_view_module": "@jupyter-widgets/base",
            "_view_module_version": "1.2.0",
            "_view_name": "StyleView",
            "description_width": ""
          }
        },
        "ccac17f147fc43249eed5bac4a084fb6": {
          "model_module": "@jupyter-widgets/controls",
          "model_name": "HBoxModel",
          "state": {
            "_dom_classes": [],
            "_model_module": "@jupyter-widgets/controls",
            "_model_module_version": "1.5.0",
            "_model_name": "HBoxModel",
            "_view_count": null,
            "_view_module": "@jupyter-widgets/controls",
            "_view_module_version": "1.5.0",
            "_view_name": "HBoxView",
            "box_style": "",
            "children": [
              "IPY_MODEL_c3fdf27348db4694bc6c07633fbb514d",
              "IPY_MODEL_a892059b70f3453aabe3e7686c72a15a"
            ],
            "layout": "IPY_MODEL_b3dae2ff315047d0b27dcee90ce58f6b"
          }
        },
        "c3fdf27348db4694bc6c07633fbb514d": {
          "model_module": "@jupyter-widgets/controls",
          "model_name": "FloatProgressModel",
          "state": {
            "_dom_classes": [],
            "_model_module": "@jupyter-widgets/controls",
            "_model_module_version": "1.5.0",
            "_model_name": "FloatProgressModel",
            "_view_count": null,
            "_view_module": "@jupyter-widgets/controls",
            "_view_module_version": "1.5.0",
            "_view_name": "ProgressView",
            "bar_style": "success",
            "description": "100%",
            "description_tooltip": null,
            "layout": "IPY_MODEL_9cc3c86692094dbf85891a8c9147e31e",
            "max": 9905,
            "min": 0,
            "orientation": "horizontal",
            "style": "IPY_MODEL_1a605ff5cfa84ae19b2b3e8e0d6fab96",
            "value": 9905
          }
        },
        "a892059b70f3453aabe3e7686c72a15a": {
          "model_module": "@jupyter-widgets/controls",
          "model_name": "HTMLModel",
          "state": {
            "_dom_classes": [],
            "_model_module": "@jupyter-widgets/controls",
            "_model_module_version": "1.5.0",
            "_model_name": "HTMLModel",
            "_view_count": null,
            "_view_module": "@jupyter-widgets/controls",
            "_view_module_version": "1.5.0",
            "_view_name": "HTMLView",
            "description": "",
            "description_tooltip": null,
            "layout": "IPY_MODEL_ffb54960b1464a9bbab798ba53efc718",
            "placeholder": "​",
            "style": "IPY_MODEL_321eab88d045402d91e790389ce823a7",
            "value": " 9905/9905 [02:57&lt;00:00, 55.92it/s]"
          }
        },
        "b3dae2ff315047d0b27dcee90ce58f6b": {
          "model_module": "@jupyter-widgets/base",
          "model_name": "LayoutModel",
          "state": {
            "_model_module": "@jupyter-widgets/base",
            "_model_module_version": "1.2.0",
            "_model_name": "LayoutModel",
            "_view_count": null,
            "_view_module": "@jupyter-widgets/base",
            "_view_module_version": "1.2.0",
            "_view_name": "LayoutView",
            "align_content": null,
            "align_items": null,
            "align_self": null,
            "border": null,
            "bottom": null,
            "display": null,
            "flex": null,
            "flex_flow": null,
            "grid_area": null,
            "grid_auto_columns": null,
            "grid_auto_flow": null,
            "grid_auto_rows": null,
            "grid_column": null,
            "grid_gap": null,
            "grid_row": null,
            "grid_template_areas": null,
            "grid_template_columns": null,
            "grid_template_rows": null,
            "height": null,
            "justify_content": null,
            "justify_items": null,
            "left": null,
            "margin": null,
            "max_height": null,
            "max_width": null,
            "min_height": null,
            "min_width": null,
            "object_fit": null,
            "object_position": null,
            "order": null,
            "overflow": null,
            "overflow_x": null,
            "overflow_y": null,
            "padding": null,
            "right": null,
            "top": null,
            "visibility": null,
            "width": null
          }
        },
        "9cc3c86692094dbf85891a8c9147e31e": {
          "model_module": "@jupyter-widgets/base",
          "model_name": "LayoutModel",
          "state": {
            "_model_module": "@jupyter-widgets/base",
            "_model_module_version": "1.2.0",
            "_model_name": "LayoutModel",
            "_view_count": null,
            "_view_module": "@jupyter-widgets/base",
            "_view_module_version": "1.2.0",
            "_view_name": "LayoutView",
            "align_content": null,
            "align_items": null,
            "align_self": null,
            "border": null,
            "bottom": null,
            "display": null,
            "flex": null,
            "flex_flow": null,
            "grid_area": null,
            "grid_auto_columns": null,
            "grid_auto_flow": null,
            "grid_auto_rows": null,
            "grid_column": null,
            "grid_gap": null,
            "grid_row": null,
            "grid_template_areas": null,
            "grid_template_columns": null,
            "grid_template_rows": null,
            "height": null,
            "justify_content": null,
            "justify_items": null,
            "left": null,
            "margin": null,
            "max_height": null,
            "max_width": null,
            "min_height": null,
            "min_width": null,
            "object_fit": null,
            "object_position": null,
            "order": null,
            "overflow": null,
            "overflow_x": null,
            "overflow_y": null,
            "padding": null,
            "right": null,
            "top": null,
            "visibility": null,
            "width": null
          }
        },
        "1a605ff5cfa84ae19b2b3e8e0d6fab96": {
          "model_module": "@jupyter-widgets/controls",
          "model_name": "ProgressStyleModel",
          "state": {
            "_model_module": "@jupyter-widgets/controls",
            "_model_module_version": "1.5.0",
            "_model_name": "ProgressStyleModel",
            "_view_count": null,
            "_view_module": "@jupyter-widgets/base",
            "_view_module_version": "1.2.0",
            "_view_name": "StyleView",
            "bar_color": null,
            "description_width": "initial"
          }
        },
        "ffb54960b1464a9bbab798ba53efc718": {
          "model_module": "@jupyter-widgets/base",
          "model_name": "LayoutModel",
          "state": {
            "_model_module": "@jupyter-widgets/base",
            "_model_module_version": "1.2.0",
            "_model_name": "LayoutModel",
            "_view_count": null,
            "_view_module": "@jupyter-widgets/base",
            "_view_module_version": "1.2.0",
            "_view_name": "LayoutView",
            "align_content": null,
            "align_items": null,
            "align_self": null,
            "border": null,
            "bottom": null,
            "display": null,
            "flex": null,
            "flex_flow": null,
            "grid_area": null,
            "grid_auto_columns": null,
            "grid_auto_flow": null,
            "grid_auto_rows": null,
            "grid_column": null,
            "grid_gap": null,
            "grid_row": null,
            "grid_template_areas": null,
            "grid_template_columns": null,
            "grid_template_rows": null,
            "height": null,
            "justify_content": null,
            "justify_items": null,
            "left": null,
            "margin": null,
            "max_height": null,
            "max_width": null,
            "min_height": null,
            "min_width": null,
            "object_fit": null,
            "object_position": null,
            "order": null,
            "overflow": null,
            "overflow_x": null,
            "overflow_y": null,
            "padding": null,
            "right": null,
            "top": null,
            "visibility": null,
            "width": null
          }
        },
        "321eab88d045402d91e790389ce823a7": {
          "model_module": "@jupyter-widgets/controls",
          "model_name": "DescriptionStyleModel",
          "state": {
            "_model_module": "@jupyter-widgets/controls",
            "_model_module_version": "1.5.0",
            "_model_name": "DescriptionStyleModel",
            "_view_count": null,
            "_view_module": "@jupyter-widgets/base",
            "_view_module_version": "1.2.0",
            "_view_name": "StyleView",
            "description_width": ""
          }
        },
        "0e4fa01d13304f84983ff3cd422d3e20": {
          "model_module": "@jupyter-widgets/controls",
          "model_name": "HBoxModel",
          "state": {
            "_dom_classes": [],
            "_model_module": "@jupyter-widgets/controls",
            "_model_module_version": "1.5.0",
            "_model_name": "HBoxModel",
            "_view_count": null,
            "_view_module": "@jupyter-widgets/controls",
            "_view_module_version": "1.5.0",
            "_view_name": "HBoxView",
            "box_style": "",
            "children": [
              "IPY_MODEL_522bf2eb36074b4e95cc347a24f5f513",
              "IPY_MODEL_38637267691f4cd3bc2890cac53b257d"
            ],
            "layout": "IPY_MODEL_13ba6b9af7254a3192a6d58fa768418e"
          }
        },
        "522bf2eb36074b4e95cc347a24f5f513": {
          "model_module": "@jupyter-widgets/controls",
          "model_name": "FloatProgressModel",
          "state": {
            "_dom_classes": [],
            "_model_module": "@jupyter-widgets/controls",
            "_model_module_version": "1.5.0",
            "_model_name": "FloatProgressModel",
            "_view_count": null,
            "_view_module": "@jupyter-widgets/controls",
            "_view_module_version": "1.5.0",
            "_view_name": "ProgressView",
            "bar_style": "success",
            "description": "100%",
            "description_tooltip": null,
            "layout": "IPY_MODEL_37c94aa6c22a48b39c1b1d36472d2f93",
            "max": 7,
            "min": 0,
            "orientation": "horizontal",
            "style": "IPY_MODEL_dd7ec7b393134fdf9816313c8fea6a5b",
            "value": 7
          }
        },
        "38637267691f4cd3bc2890cac53b257d": {
          "model_module": "@jupyter-widgets/controls",
          "model_name": "HTMLModel",
          "state": {
            "_dom_classes": [],
            "_model_module": "@jupyter-widgets/controls",
            "_model_module_version": "1.5.0",
            "_model_name": "HTMLModel",
            "_view_count": null,
            "_view_module": "@jupyter-widgets/controls",
            "_view_module_version": "1.5.0",
            "_view_name": "HTMLView",
            "description": "",
            "description_tooltip": null,
            "layout": "IPY_MODEL_d7cb6bc2ab7a489f8b7dd066f528018e",
            "placeholder": "​",
            "style": "IPY_MODEL_0b75e77d592f4354a3091ec2af5bea73",
            "value": " 7/7 [08:02&lt;00:00, 68.92s/it]"
          }
        },
        "13ba6b9af7254a3192a6d58fa768418e": {
          "model_module": "@jupyter-widgets/base",
          "model_name": "LayoutModel",
          "state": {
            "_model_module": "@jupyter-widgets/base",
            "_model_module_version": "1.2.0",
            "_model_name": "LayoutModel",
            "_view_count": null,
            "_view_module": "@jupyter-widgets/base",
            "_view_module_version": "1.2.0",
            "_view_name": "LayoutView",
            "align_content": null,
            "align_items": null,
            "align_self": null,
            "border": null,
            "bottom": null,
            "display": null,
            "flex": null,
            "flex_flow": null,
            "grid_area": null,
            "grid_auto_columns": null,
            "grid_auto_flow": null,
            "grid_auto_rows": null,
            "grid_column": null,
            "grid_gap": null,
            "grid_row": null,
            "grid_template_areas": null,
            "grid_template_columns": null,
            "grid_template_rows": null,
            "height": null,
            "justify_content": null,
            "justify_items": null,
            "left": null,
            "margin": null,
            "max_height": null,
            "max_width": null,
            "min_height": null,
            "min_width": null,
            "object_fit": null,
            "object_position": null,
            "order": null,
            "overflow": null,
            "overflow_x": null,
            "overflow_y": null,
            "padding": null,
            "right": null,
            "top": null,
            "visibility": null,
            "width": null
          }
        },
        "37c94aa6c22a48b39c1b1d36472d2f93": {
          "model_module": "@jupyter-widgets/base",
          "model_name": "LayoutModel",
          "state": {
            "_model_module": "@jupyter-widgets/base",
            "_model_module_version": "1.2.0",
            "_model_name": "LayoutModel",
            "_view_count": null,
            "_view_module": "@jupyter-widgets/base",
            "_view_module_version": "1.2.0",
            "_view_name": "LayoutView",
            "align_content": null,
            "align_items": null,
            "align_self": null,
            "border": null,
            "bottom": null,
            "display": null,
            "flex": null,
            "flex_flow": null,
            "grid_area": null,
            "grid_auto_columns": null,
            "grid_auto_flow": null,
            "grid_auto_rows": null,
            "grid_column": null,
            "grid_gap": null,
            "grid_row": null,
            "grid_template_areas": null,
            "grid_template_columns": null,
            "grid_template_rows": null,
            "height": null,
            "justify_content": null,
            "justify_items": null,
            "left": null,
            "margin": null,
            "max_height": null,
            "max_width": null,
            "min_height": null,
            "min_width": null,
            "object_fit": null,
            "object_position": null,
            "order": null,
            "overflow": null,
            "overflow_x": null,
            "overflow_y": null,
            "padding": null,
            "right": null,
            "top": null,
            "visibility": null,
            "width": null
          }
        },
        "dd7ec7b393134fdf9816313c8fea6a5b": {
          "model_module": "@jupyter-widgets/controls",
          "model_name": "ProgressStyleModel",
          "state": {
            "_model_module": "@jupyter-widgets/controls",
            "_model_module_version": "1.5.0",
            "_model_name": "ProgressStyleModel",
            "_view_count": null,
            "_view_module": "@jupyter-widgets/base",
            "_view_module_version": "1.2.0",
            "_view_name": "StyleView",
            "bar_color": null,
            "description_width": "initial"
          }
        },
        "d7cb6bc2ab7a489f8b7dd066f528018e": {
          "model_module": "@jupyter-widgets/base",
          "model_name": "LayoutModel",
          "state": {
            "_model_module": "@jupyter-widgets/base",
            "_model_module_version": "1.2.0",
            "_model_name": "LayoutModel",
            "_view_count": null,
            "_view_module": "@jupyter-widgets/base",
            "_view_module_version": "1.2.0",
            "_view_name": "LayoutView",
            "align_content": null,
            "align_items": null,
            "align_self": null,
            "border": null,
            "bottom": null,
            "display": null,
            "flex": null,
            "flex_flow": null,
            "grid_area": null,
            "grid_auto_columns": null,
            "grid_auto_flow": null,
            "grid_auto_rows": null,
            "grid_column": null,
            "grid_gap": null,
            "grid_row": null,
            "grid_template_areas": null,
            "grid_template_columns": null,
            "grid_template_rows": null,
            "height": null,
            "justify_content": null,
            "justify_items": null,
            "left": null,
            "margin": null,
            "max_height": null,
            "max_width": null,
            "min_height": null,
            "min_width": null,
            "object_fit": null,
            "object_position": null,
            "order": null,
            "overflow": null,
            "overflow_x": null,
            "overflow_y": null,
            "padding": null,
            "right": null,
            "top": null,
            "visibility": null,
            "width": null
          }
        },
        "0b75e77d592f4354a3091ec2af5bea73": {
          "model_module": "@jupyter-widgets/controls",
          "model_name": "DescriptionStyleModel",
          "state": {
            "_model_module": "@jupyter-widgets/controls",
            "_model_module_version": "1.5.0",
            "_model_name": "DescriptionStyleModel",
            "_view_count": null,
            "_view_module": "@jupyter-widgets/base",
            "_view_module_version": "1.2.0",
            "_view_name": "StyleView",
            "description_width": ""
          }
        },
        "afae445147f34908816461ad4487f72b": {
          "model_module": "@jupyter-widgets/controls",
          "model_name": "HBoxModel",
          "state": {
            "_view_name": "HBoxView",
            "_dom_classes": [],
            "_model_name": "HBoxModel",
            "_view_module": "@jupyter-widgets/controls",
            "_model_module_version": "1.5.0",
            "_view_count": null,
            "_view_module_version": "1.5.0",
            "box_style": "",
            "layout": "IPY_MODEL_0f24dcd26bb94b3ba4bbbacee7415bc2",
            "_model_module": "@jupyter-widgets/controls",
            "children": [
              "IPY_MODEL_fb0f6c37688844f5b6ccada6e86b8875",
              "IPY_MODEL_270b7f078b144b9aa2e832ca7dfa285f"
            ]
          }
        },
        "0f24dcd26bb94b3ba4bbbacee7415bc2": {
          "model_module": "@jupyter-widgets/base",
          "model_name": "LayoutModel",
          "state": {
            "_view_name": "LayoutView",
            "grid_template_rows": null,
            "right": null,
            "justify_content": null,
            "_view_module": "@jupyter-widgets/base",
            "overflow": null,
            "_model_module_version": "1.2.0",
            "_view_count": null,
            "flex_flow": null,
            "width": null,
            "min_width": null,
            "border": null,
            "align_items": null,
            "bottom": null,
            "_model_module": "@jupyter-widgets/base",
            "top": null,
            "grid_column": null,
            "overflow_y": null,
            "overflow_x": null,
            "grid_auto_flow": null,
            "grid_area": null,
            "grid_template_columns": null,
            "flex": null,
            "_model_name": "LayoutModel",
            "justify_items": null,
            "grid_row": null,
            "max_height": null,
            "align_content": null,
            "visibility": null,
            "align_self": null,
            "height": null,
            "min_height": null,
            "padding": null,
            "grid_auto_rows": null,
            "grid_gap": null,
            "max_width": null,
            "order": null,
            "_view_module_version": "1.2.0",
            "grid_template_areas": null,
            "object_position": null,
            "object_fit": null,
            "grid_auto_columns": null,
            "margin": null,
            "display": null,
            "left": null
          }
        },
        "fb0f6c37688844f5b6ccada6e86b8875": {
          "model_module": "@jupyter-widgets/controls",
          "model_name": "FloatProgressModel",
          "state": {
            "_view_name": "ProgressView",
            "style": "IPY_MODEL_e0a294e56e694e8b8672e06ecb24226f",
            "_dom_classes": [],
            "description": "100%",
            "_model_name": "FloatProgressModel",
            "bar_style": "success",
            "max": 90000,
            "_view_module": "@jupyter-widgets/controls",
            "_model_module_version": "1.5.0",
            "value": 90000,
            "_view_count": null,
            "_view_module_version": "1.5.0",
            "orientation": "horizontal",
            "min": 0,
            "description_tooltip": null,
            "_model_module": "@jupyter-widgets/controls",
            "layout": "IPY_MODEL_61abea52a8d345d988e2cc89f98dc7e5"
          }
        },
        "270b7f078b144b9aa2e832ca7dfa285f": {
          "model_module": "@jupyter-widgets/controls",
          "model_name": "HTMLModel",
          "state": {
            "_view_name": "HTMLView",
            "style": "IPY_MODEL_aebfdbed303e425c9d70cb8f61f62b30",
            "_dom_classes": [],
            "description": "",
            "_model_name": "HTMLModel",
            "placeholder": "​",
            "_view_module": "@jupyter-widgets/controls",
            "_model_module_version": "1.5.0",
            "value": " 90000/90000 [01:16&lt;00:00, 1177.90it/s]",
            "_view_count": null,
            "_view_module_version": "1.5.0",
            "description_tooltip": null,
            "_model_module": "@jupyter-widgets/controls",
            "layout": "IPY_MODEL_e21a0d97a9604ab3aba635b1f88d6ae4"
          }
        },
        "e0a294e56e694e8b8672e06ecb24226f": {
          "model_module": "@jupyter-widgets/controls",
          "model_name": "ProgressStyleModel",
          "state": {
            "_view_name": "StyleView",
            "_model_name": "ProgressStyleModel",
            "description_width": "initial",
            "_view_module": "@jupyter-widgets/base",
            "_model_module_version": "1.5.0",
            "_view_count": null,
            "_view_module_version": "1.2.0",
            "bar_color": null,
            "_model_module": "@jupyter-widgets/controls"
          }
        },
        "61abea52a8d345d988e2cc89f98dc7e5": {
          "model_module": "@jupyter-widgets/base",
          "model_name": "LayoutModel",
          "state": {
            "_view_name": "LayoutView",
            "grid_template_rows": null,
            "right": null,
            "justify_content": null,
            "_view_module": "@jupyter-widgets/base",
            "overflow": null,
            "_model_module_version": "1.2.0",
            "_view_count": null,
            "flex_flow": null,
            "width": null,
            "min_width": null,
            "border": null,
            "align_items": null,
            "bottom": null,
            "_model_module": "@jupyter-widgets/base",
            "top": null,
            "grid_column": null,
            "overflow_y": null,
            "overflow_x": null,
            "grid_auto_flow": null,
            "grid_area": null,
            "grid_template_columns": null,
            "flex": null,
            "_model_name": "LayoutModel",
            "justify_items": null,
            "grid_row": null,
            "max_height": null,
            "align_content": null,
            "visibility": null,
            "align_self": null,
            "height": null,
            "min_height": null,
            "padding": null,
            "grid_auto_rows": null,
            "grid_gap": null,
            "max_width": null,
            "order": null,
            "_view_module_version": "1.2.0",
            "grid_template_areas": null,
            "object_position": null,
            "object_fit": null,
            "grid_auto_columns": null,
            "margin": null,
            "display": null,
            "left": null
          }
        },
        "aebfdbed303e425c9d70cb8f61f62b30": {
          "model_module": "@jupyter-widgets/controls",
          "model_name": "DescriptionStyleModel",
          "state": {
            "_view_name": "StyleView",
            "_model_name": "DescriptionStyleModel",
            "description_width": "",
            "_view_module": "@jupyter-widgets/base",
            "_model_module_version": "1.5.0",
            "_view_count": null,
            "_view_module_version": "1.2.0",
            "_model_module": "@jupyter-widgets/controls"
          }
        },
        "e21a0d97a9604ab3aba635b1f88d6ae4": {
          "model_module": "@jupyter-widgets/base",
          "model_name": "LayoutModel",
          "state": {
            "_view_name": "LayoutView",
            "grid_template_rows": null,
            "right": null,
            "justify_content": null,
            "_view_module": "@jupyter-widgets/base",
            "overflow": null,
            "_model_module_version": "1.2.0",
            "_view_count": null,
            "flex_flow": null,
            "width": null,
            "min_width": null,
            "border": null,
            "align_items": null,
            "bottom": null,
            "_model_module": "@jupyter-widgets/base",
            "top": null,
            "grid_column": null,
            "overflow_y": null,
            "overflow_x": null,
            "grid_auto_flow": null,
            "grid_area": null,
            "grid_template_columns": null,
            "flex": null,
            "_model_name": "LayoutModel",
            "justify_items": null,
            "grid_row": null,
            "max_height": null,
            "align_content": null,
            "visibility": null,
            "align_self": null,
            "height": null,
            "min_height": null,
            "padding": null,
            "grid_auto_rows": null,
            "grid_gap": null,
            "max_width": null,
            "order": null,
            "_view_module_version": "1.2.0",
            "grid_template_areas": null,
            "object_position": null,
            "object_fit": null,
            "grid_auto_columns": null,
            "margin": null,
            "display": null,
            "left": null
          }
        },
        "6fa424fc76ce4b099eefd52ff3001be3": {
          "model_module": "@jupyter-widgets/controls",
          "model_name": "HBoxModel",
          "state": {
            "_view_name": "HBoxView",
            "_dom_classes": [],
            "_model_name": "HBoxModel",
            "_view_module": "@jupyter-widgets/controls",
            "_model_module_version": "1.5.0",
            "_view_count": null,
            "_view_module_version": "1.5.0",
            "box_style": "",
            "layout": "IPY_MODEL_d45300d1914f4c3997b2739977c22494",
            "_model_module": "@jupyter-widgets/controls",
            "children": [
              "IPY_MODEL_33bd9afa781d487897081307c6529f24",
              "IPY_MODEL_e7519c29bbff4c4e9d5d9cd348bcaee1"
            ]
          }
        },
        "d45300d1914f4c3997b2739977c22494": {
          "model_module": "@jupyter-widgets/base",
          "model_name": "LayoutModel",
          "state": {
            "_view_name": "LayoutView",
            "grid_template_rows": null,
            "right": null,
            "justify_content": null,
            "_view_module": "@jupyter-widgets/base",
            "overflow": null,
            "_model_module_version": "1.2.0",
            "_view_count": null,
            "flex_flow": null,
            "width": null,
            "min_width": null,
            "border": null,
            "align_items": null,
            "bottom": null,
            "_model_module": "@jupyter-widgets/base",
            "top": null,
            "grid_column": null,
            "overflow_y": null,
            "overflow_x": null,
            "grid_auto_flow": null,
            "grid_area": null,
            "grid_template_columns": null,
            "flex": null,
            "_model_name": "LayoutModel",
            "justify_items": null,
            "grid_row": null,
            "max_height": null,
            "align_content": null,
            "visibility": null,
            "align_self": null,
            "height": null,
            "min_height": null,
            "padding": null,
            "grid_auto_rows": null,
            "grid_gap": null,
            "max_width": null,
            "order": null,
            "_view_module_version": "1.2.0",
            "grid_template_areas": null,
            "object_position": null,
            "object_fit": null,
            "grid_auto_columns": null,
            "margin": null,
            "display": null,
            "left": null
          }
        },
        "33bd9afa781d487897081307c6529f24": {
          "model_module": "@jupyter-widgets/controls",
          "model_name": "FloatProgressModel",
          "state": {
            "_view_name": "ProgressView",
            "style": "IPY_MODEL_bba83fa97ba545e0b8cef152a7035e0a",
            "_dom_classes": [],
            "description": "100%",
            "_model_name": "FloatProgressModel",
            "bar_style": "success",
            "max": 1682,
            "_view_module": "@jupyter-widgets/controls",
            "_model_module_version": "1.5.0",
            "value": 1682,
            "_view_count": null,
            "_view_module_version": "1.5.0",
            "orientation": "horizontal",
            "min": 0,
            "description_tooltip": null,
            "_model_module": "@jupyter-widgets/controls",
            "layout": "IPY_MODEL_1208ddf32a9a4a6db06dbda1f8769026"
          }
        },
        "e7519c29bbff4c4e9d5d9cd348bcaee1": {
          "model_module": "@jupyter-widgets/controls",
          "model_name": "HTMLModel",
          "state": {
            "_view_name": "HTMLView",
            "style": "IPY_MODEL_a7d2410eff324388b7a69b5569c03dbe",
            "_dom_classes": [],
            "description": "",
            "_model_name": "HTMLModel",
            "placeholder": "​",
            "_view_module": "@jupyter-widgets/controls",
            "_model_module_version": "1.5.0",
            "value": " 1682/1682 [00:13&lt;00:00, 121.21it/s]",
            "_view_count": null,
            "_view_module_version": "1.5.0",
            "description_tooltip": null,
            "_model_module": "@jupyter-widgets/controls",
            "layout": "IPY_MODEL_b89701fc0a6f4731a9881e920c8fbd35"
          }
        },
        "bba83fa97ba545e0b8cef152a7035e0a": {
          "model_module": "@jupyter-widgets/controls",
          "model_name": "ProgressStyleModel",
          "state": {
            "_view_name": "StyleView",
            "_model_name": "ProgressStyleModel",
            "description_width": "initial",
            "_view_module": "@jupyter-widgets/base",
            "_model_module_version": "1.5.0",
            "_view_count": null,
            "_view_module_version": "1.2.0",
            "bar_color": null,
            "_model_module": "@jupyter-widgets/controls"
          }
        },
        "1208ddf32a9a4a6db06dbda1f8769026": {
          "model_module": "@jupyter-widgets/base",
          "model_name": "LayoutModel",
          "state": {
            "_view_name": "LayoutView",
            "grid_template_rows": null,
            "right": null,
            "justify_content": null,
            "_view_module": "@jupyter-widgets/base",
            "overflow": null,
            "_model_module_version": "1.2.0",
            "_view_count": null,
            "flex_flow": null,
            "width": null,
            "min_width": null,
            "border": null,
            "align_items": null,
            "bottom": null,
            "_model_module": "@jupyter-widgets/base",
            "top": null,
            "grid_column": null,
            "overflow_y": null,
            "overflow_x": null,
            "grid_auto_flow": null,
            "grid_area": null,
            "grid_template_columns": null,
            "flex": null,
            "_model_name": "LayoutModel",
            "justify_items": null,
            "grid_row": null,
            "max_height": null,
            "align_content": null,
            "visibility": null,
            "align_self": null,
            "height": null,
            "min_height": null,
            "padding": null,
            "grid_auto_rows": null,
            "grid_gap": null,
            "max_width": null,
            "order": null,
            "_view_module_version": "1.2.0",
            "grid_template_areas": null,
            "object_position": null,
            "object_fit": null,
            "grid_auto_columns": null,
            "margin": null,
            "display": null,
            "left": null
          }
        },
        "a7d2410eff324388b7a69b5569c03dbe": {
          "model_module": "@jupyter-widgets/controls",
          "model_name": "DescriptionStyleModel",
          "state": {
            "_view_name": "StyleView",
            "_model_name": "DescriptionStyleModel",
            "description_width": "",
            "_view_module": "@jupyter-widgets/base",
            "_model_module_version": "1.5.0",
            "_view_count": null,
            "_view_module_version": "1.2.0",
            "_model_module": "@jupyter-widgets/controls"
          }
        },
        "b89701fc0a6f4731a9881e920c8fbd35": {
          "model_module": "@jupyter-widgets/base",
          "model_name": "LayoutModel",
          "state": {
            "_view_name": "LayoutView",
            "grid_template_rows": null,
            "right": null,
            "justify_content": null,
            "_view_module": "@jupyter-widgets/base",
            "overflow": null,
            "_model_module_version": "1.2.0",
            "_view_count": null,
            "flex_flow": null,
            "width": null,
            "min_width": null,
            "border": null,
            "align_items": null,
            "bottom": null,
            "_model_module": "@jupyter-widgets/base",
            "top": null,
            "grid_column": null,
            "overflow_y": null,
            "overflow_x": null,
            "grid_auto_flow": null,
            "grid_area": null,
            "grid_template_columns": null,
            "flex": null,
            "_model_name": "LayoutModel",
            "justify_items": null,
            "grid_row": null,
            "max_height": null,
            "align_content": null,
            "visibility": null,
            "align_self": null,
            "height": null,
            "min_height": null,
            "padding": null,
            "grid_auto_rows": null,
            "grid_gap": null,
            "max_width": null,
            "order": null,
            "_view_module_version": "1.2.0",
            "grid_template_areas": null,
            "object_position": null,
            "object_fit": null,
            "grid_auto_columns": null,
            "margin": null,
            "display": null,
            "left": null
          }
        },
        "adfda6ce610240bb81c001647742f108": {
          "model_module": "@jupyter-widgets/controls",
          "model_name": "HBoxModel",
          "state": {
            "_view_name": "HBoxView",
            "_dom_classes": [],
            "_model_name": "HBoxModel",
            "_view_module": "@jupyter-widgets/controls",
            "_model_module_version": "1.5.0",
            "_view_count": null,
            "_view_module_version": "1.5.0",
            "box_style": "",
            "layout": "IPY_MODEL_5d9284c609b54894be5471acf640c02d",
            "_model_module": "@jupyter-widgets/controls",
            "children": [
              "IPY_MODEL_86bbf358270c4233b6c49a507dba3830",
              "IPY_MODEL_ed2d457b97d641b583feac9eb8e6e662"
            ]
          }
        },
        "5d9284c609b54894be5471acf640c02d": {
          "model_module": "@jupyter-widgets/base",
          "model_name": "LayoutModel",
          "state": {
            "_view_name": "LayoutView",
            "grid_template_rows": null,
            "right": null,
            "justify_content": null,
            "_view_module": "@jupyter-widgets/base",
            "overflow": null,
            "_model_module_version": "1.2.0",
            "_view_count": null,
            "flex_flow": null,
            "width": null,
            "min_width": null,
            "border": null,
            "align_items": null,
            "bottom": null,
            "_model_module": "@jupyter-widgets/base",
            "top": null,
            "grid_column": null,
            "overflow_y": null,
            "overflow_x": null,
            "grid_auto_flow": null,
            "grid_area": null,
            "grid_template_columns": null,
            "flex": null,
            "_model_name": "LayoutModel",
            "justify_items": null,
            "grid_row": null,
            "max_height": null,
            "align_content": null,
            "visibility": null,
            "align_self": null,
            "height": null,
            "min_height": null,
            "padding": null,
            "grid_auto_rows": null,
            "grid_gap": null,
            "max_width": null,
            "order": null,
            "_view_module_version": "1.2.0",
            "grid_template_areas": null,
            "object_position": null,
            "object_fit": null,
            "grid_auto_columns": null,
            "margin": null,
            "display": null,
            "left": null
          }
        },
        "86bbf358270c4233b6c49a507dba3830": {
          "model_module": "@jupyter-widgets/controls",
          "model_name": "FloatProgressModel",
          "state": {
            "_view_name": "ProgressView",
            "style": "IPY_MODEL_515e84b36f5548b19b3af009860f1954",
            "_dom_classes": [],
            "description": "100%",
            "_model_name": "FloatProgressModel",
            "bar_style": "success",
            "max": 943,
            "_view_module": "@jupyter-widgets/controls",
            "_model_module_version": "1.5.0",
            "value": 943,
            "_view_count": null,
            "_view_module_version": "1.5.0",
            "orientation": "horizontal",
            "min": 0,
            "description_tooltip": null,
            "_model_module": "@jupyter-widgets/controls",
            "layout": "IPY_MODEL_dd02fd4f21d04bdfb9d6416c32840304"
          }
        },
        "ed2d457b97d641b583feac9eb8e6e662": {
          "model_module": "@jupyter-widgets/controls",
          "model_name": "HTMLModel",
          "state": {
            "_view_name": "HTMLView",
            "style": "IPY_MODEL_d00ea2967103475b82d319d7c9f49fe3",
            "_dom_classes": [],
            "description": "",
            "_model_name": "HTMLModel",
            "placeholder": "​",
            "_view_module": "@jupyter-widgets/controls",
            "_model_module_version": "1.5.0",
            "value": " 943/943 [00:12&lt;00:00, 72.54it/s]",
            "_view_count": null,
            "_view_module_version": "1.5.0",
            "description_tooltip": null,
            "_model_module": "@jupyter-widgets/controls",
            "layout": "IPY_MODEL_d9ea54bdefcb4f29a0ba58121e657925"
          }
        },
        "515e84b36f5548b19b3af009860f1954": {
          "model_module": "@jupyter-widgets/controls",
          "model_name": "ProgressStyleModel",
          "state": {
            "_view_name": "StyleView",
            "_model_name": "ProgressStyleModel",
            "description_width": "initial",
            "_view_module": "@jupyter-widgets/base",
            "_model_module_version": "1.5.0",
            "_view_count": null,
            "_view_module_version": "1.2.0",
            "bar_color": null,
            "_model_module": "@jupyter-widgets/controls"
          }
        },
        "dd02fd4f21d04bdfb9d6416c32840304": {
          "model_module": "@jupyter-widgets/base",
          "model_name": "LayoutModel",
          "state": {
            "_view_name": "LayoutView",
            "grid_template_rows": null,
            "right": null,
            "justify_content": null,
            "_view_module": "@jupyter-widgets/base",
            "overflow": null,
            "_model_module_version": "1.2.0",
            "_view_count": null,
            "flex_flow": null,
            "width": null,
            "min_width": null,
            "border": null,
            "align_items": null,
            "bottom": null,
            "_model_module": "@jupyter-widgets/base",
            "top": null,
            "grid_column": null,
            "overflow_y": null,
            "overflow_x": null,
            "grid_auto_flow": null,
            "grid_area": null,
            "grid_template_columns": null,
            "flex": null,
            "_model_name": "LayoutModel",
            "justify_items": null,
            "grid_row": null,
            "max_height": null,
            "align_content": null,
            "visibility": null,
            "align_self": null,
            "height": null,
            "min_height": null,
            "padding": null,
            "grid_auto_rows": null,
            "grid_gap": null,
            "max_width": null,
            "order": null,
            "_view_module_version": "1.2.0",
            "grid_template_areas": null,
            "object_position": null,
            "object_fit": null,
            "grid_auto_columns": null,
            "margin": null,
            "display": null,
            "left": null
          }
        },
        "d00ea2967103475b82d319d7c9f49fe3": {
          "model_module": "@jupyter-widgets/controls",
          "model_name": "DescriptionStyleModel",
          "state": {
            "_view_name": "StyleView",
            "_model_name": "DescriptionStyleModel",
            "description_width": "",
            "_view_module": "@jupyter-widgets/base",
            "_model_module_version": "1.5.0",
            "_view_count": null,
            "_view_module_version": "1.2.0",
            "_model_module": "@jupyter-widgets/controls"
          }
        },
        "d9ea54bdefcb4f29a0ba58121e657925": {
          "model_module": "@jupyter-widgets/base",
          "model_name": "LayoutModel",
          "state": {
            "_view_name": "LayoutView",
            "grid_template_rows": null,
            "right": null,
            "justify_content": null,
            "_view_module": "@jupyter-widgets/base",
            "overflow": null,
            "_model_module_version": "1.2.0",
            "_view_count": null,
            "flex_flow": null,
            "width": null,
            "min_width": null,
            "border": null,
            "align_items": null,
            "bottom": null,
            "_model_module": "@jupyter-widgets/base",
            "top": null,
            "grid_column": null,
            "overflow_y": null,
            "overflow_x": null,
            "grid_auto_flow": null,
            "grid_area": null,
            "grid_template_columns": null,
            "flex": null,
            "_model_name": "LayoutModel",
            "justify_items": null,
            "grid_row": null,
            "max_height": null,
            "align_content": null,
            "visibility": null,
            "align_self": null,
            "height": null,
            "min_height": null,
            "padding": null,
            "grid_auto_rows": null,
            "grid_gap": null,
            "max_width": null,
            "order": null,
            "_view_module_version": "1.2.0",
            "grid_template_areas": null,
            "object_position": null,
            "object_fit": null,
            "grid_auto_columns": null,
            "margin": null,
            "display": null,
            "left": null
          }
        },
        "5172bad59ecb4d2baf102229d0c6d327": {
          "model_module": "@jupyter-widgets/controls",
          "model_name": "HBoxModel",
          "state": {
            "_view_name": "HBoxView",
            "_dom_classes": [],
            "_model_name": "HBoxModel",
            "_view_module": "@jupyter-widgets/controls",
            "_model_module_version": "1.5.0",
            "_view_count": null,
            "_view_module_version": "1.5.0",
            "box_style": "",
            "layout": "IPY_MODEL_1bc7d8de07eb4d19a189a791072aa4c0",
            "_model_module": "@jupyter-widgets/controls",
            "children": [
              "IPY_MODEL_3b3b9eeae24f427e802a094d93b81d95",
              "IPY_MODEL_5303ef0a98a54c1c9a4aecdeeb5cd6b7"
            ]
          }
        },
        "1bc7d8de07eb4d19a189a791072aa4c0": {
          "model_module": "@jupyter-widgets/base",
          "model_name": "LayoutModel",
          "state": {
            "_view_name": "LayoutView",
            "grid_template_rows": null,
            "right": null,
            "justify_content": null,
            "_view_module": "@jupyter-widgets/base",
            "overflow": null,
            "_model_module_version": "1.2.0",
            "_view_count": null,
            "flex_flow": null,
            "width": null,
            "min_width": null,
            "border": null,
            "align_items": null,
            "bottom": null,
            "_model_module": "@jupyter-widgets/base",
            "top": null,
            "grid_column": null,
            "overflow_y": null,
            "overflow_x": null,
            "grid_auto_flow": null,
            "grid_area": null,
            "grid_template_columns": null,
            "flex": null,
            "_model_name": "LayoutModel",
            "justify_items": null,
            "grid_row": null,
            "max_height": null,
            "align_content": null,
            "visibility": null,
            "align_self": null,
            "height": null,
            "min_height": null,
            "padding": null,
            "grid_auto_rows": null,
            "grid_gap": null,
            "max_width": null,
            "order": null,
            "_view_module_version": "1.2.0",
            "grid_template_areas": null,
            "object_position": null,
            "object_fit": null,
            "grid_auto_columns": null,
            "margin": null,
            "display": null,
            "left": null
          }
        },
        "3b3b9eeae24f427e802a094d93b81d95": {
          "model_module": "@jupyter-widgets/controls",
          "model_name": "FloatProgressModel",
          "state": {
            "_view_name": "ProgressView",
            "style": "IPY_MODEL_300d029f8af241bab71036c3bb3f764d",
            "_dom_classes": [],
            "description": "100%",
            "_model_name": "FloatProgressModel",
            "bar_style": "success",
            "max": 9057,
            "_view_module": "@jupyter-widgets/controls",
            "_model_module_version": "1.5.0",
            "value": 9057,
            "_view_count": null,
            "_view_module_version": "1.5.0",
            "orientation": "horizontal",
            "min": 0,
            "description_tooltip": null,
            "_model_module": "@jupyter-widgets/controls",
            "layout": "IPY_MODEL_c359bfaac0de4ecbb3875787688e81dc"
          }
        },
        "5303ef0a98a54c1c9a4aecdeeb5cd6b7": {
          "model_module": "@jupyter-widgets/controls",
          "model_name": "HTMLModel",
          "state": {
            "_view_name": "HTMLView",
            "style": "IPY_MODEL_29d551e66355459ba180d4a660e38ff8",
            "_dom_classes": [],
            "description": "",
            "_model_name": "HTMLModel",
            "placeholder": "​",
            "_view_module": "@jupyter-widgets/controls",
            "_model_module_version": "1.5.0",
            "value": " 9057/9057 [19:18&lt;00:00,  7.82it/s]",
            "_view_count": null,
            "_view_module_version": "1.5.0",
            "description_tooltip": null,
            "_model_module": "@jupyter-widgets/controls",
            "layout": "IPY_MODEL_3cf830774cbf4263ae68d38ae509f6d0"
          }
        },
        "300d029f8af241bab71036c3bb3f764d": {
          "model_module": "@jupyter-widgets/controls",
          "model_name": "ProgressStyleModel",
          "state": {
            "_view_name": "StyleView",
            "_model_name": "ProgressStyleModel",
            "description_width": "initial",
            "_view_module": "@jupyter-widgets/base",
            "_model_module_version": "1.5.0",
            "_view_count": null,
            "_view_module_version": "1.2.0",
            "bar_color": null,
            "_model_module": "@jupyter-widgets/controls"
          }
        },
        "c359bfaac0de4ecbb3875787688e81dc": {
          "model_module": "@jupyter-widgets/base",
          "model_name": "LayoutModel",
          "state": {
            "_view_name": "LayoutView",
            "grid_template_rows": null,
            "right": null,
            "justify_content": null,
            "_view_module": "@jupyter-widgets/base",
            "overflow": null,
            "_model_module_version": "1.2.0",
            "_view_count": null,
            "flex_flow": null,
            "width": null,
            "min_width": null,
            "border": null,
            "align_items": null,
            "bottom": null,
            "_model_module": "@jupyter-widgets/base",
            "top": null,
            "grid_column": null,
            "overflow_y": null,
            "overflow_x": null,
            "grid_auto_flow": null,
            "grid_area": null,
            "grid_template_columns": null,
            "flex": null,
            "_model_name": "LayoutModel",
            "justify_items": null,
            "grid_row": null,
            "max_height": null,
            "align_content": null,
            "visibility": null,
            "align_self": null,
            "height": null,
            "min_height": null,
            "padding": null,
            "grid_auto_rows": null,
            "grid_gap": null,
            "max_width": null,
            "order": null,
            "_view_module_version": "1.2.0",
            "grid_template_areas": null,
            "object_position": null,
            "object_fit": null,
            "grid_auto_columns": null,
            "margin": null,
            "display": null,
            "left": null
          }
        },
        "29d551e66355459ba180d4a660e38ff8": {
          "model_module": "@jupyter-widgets/controls",
          "model_name": "DescriptionStyleModel",
          "state": {
            "_view_name": "StyleView",
            "_model_name": "DescriptionStyleModel",
            "description_width": "",
            "_view_module": "@jupyter-widgets/base",
            "_model_module_version": "1.5.0",
            "_view_count": null,
            "_view_module_version": "1.2.0",
            "_model_module": "@jupyter-widgets/controls"
          }
        },
        "3cf830774cbf4263ae68d38ae509f6d0": {
          "model_module": "@jupyter-widgets/base",
          "model_name": "LayoutModel",
          "state": {
            "_view_name": "LayoutView",
            "grid_template_rows": null,
            "right": null,
            "justify_content": null,
            "_view_module": "@jupyter-widgets/base",
            "overflow": null,
            "_model_module_version": "1.2.0",
            "_view_count": null,
            "flex_flow": null,
            "width": null,
            "min_width": null,
            "border": null,
            "align_items": null,
            "bottom": null,
            "_model_module": "@jupyter-widgets/base",
            "top": null,
            "grid_column": null,
            "overflow_y": null,
            "overflow_x": null,
            "grid_auto_flow": null,
            "grid_area": null,
            "grid_template_columns": null,
            "flex": null,
            "_model_name": "LayoutModel",
            "justify_items": null,
            "grid_row": null,
            "max_height": null,
            "align_content": null,
            "visibility": null,
            "align_self": null,
            "height": null,
            "min_height": null,
            "padding": null,
            "grid_auto_rows": null,
            "grid_gap": null,
            "max_width": null,
            "order": null,
            "_view_module_version": "1.2.0",
            "grid_template_areas": null,
            "object_position": null,
            "object_fit": null,
            "grid_auto_columns": null,
            "margin": null,
            "display": null,
            "left": null
          }
        },
        "3f8aabfa3da847a2bb0f49130a207e3c": {
          "model_module": "@jupyter-widgets/controls",
          "model_name": "HBoxModel",
          "state": {
            "_dom_classes": [],
            "_model_module": "@jupyter-widgets/controls",
            "_model_module_version": "1.5.0",
            "_model_name": "HBoxModel",
            "_view_count": null,
            "_view_module": "@jupyter-widgets/controls",
            "_view_module_version": "1.5.0",
            "_view_name": "HBoxView",
            "box_style": "",
            "children": [
              "IPY_MODEL_1b4ed393842a498bae21135dd67c8884",
              "IPY_MODEL_f57c098690114f929181ab67f80873c1"
            ],
            "layout": "IPY_MODEL_531a2779cd7b4a5390ef8d9283395d2f"
          }
        },
        "1b4ed393842a498bae21135dd67c8884": {
          "model_module": "@jupyter-widgets/controls",
          "model_name": "FloatProgressModel",
          "state": {
            "_dom_classes": [],
            "_model_module": "@jupyter-widgets/controls",
            "_model_module_version": "1.5.0",
            "_model_name": "FloatProgressModel",
            "_view_count": null,
            "_view_module": "@jupyter-widgets/controls",
            "_view_module_version": "1.5.0",
            "_view_name": "ProgressView",
            "bar_style": "",
            "description": "  0%",
            "description_tooltip": null,
            "layout": "IPY_MODEL_f98e7a08496640b4a7d5a9959a089b4c",
            "max": 6,
            "min": 0,
            "orientation": "horizontal",
            "style": "IPY_MODEL_55e9c72d59264887a66fabc95e92de3d",
            "value": 0
          }
        },
        "f57c098690114f929181ab67f80873c1": {
          "model_module": "@jupyter-widgets/controls",
          "model_name": "HTMLModel",
          "state": {
            "_dom_classes": [],
            "_model_module": "@jupyter-widgets/controls",
            "_model_module_version": "1.5.0",
            "_model_name": "HTMLModel",
            "_view_count": null,
            "_view_module": "@jupyter-widgets/controls",
            "_view_module_version": "1.5.0",
            "_view_name": "HTMLView",
            "description": "",
            "description_tooltip": null,
            "layout": "IPY_MODEL_2e64d816ca1b429dbdf1ae75f15a24ba",
            "placeholder": "​",
            "style": "IPY_MODEL_a6dea7ed07d64665b5f7327c565a9c85",
            "value": " 0/6 [00:00&lt;?, ?it/s]"
          }
        },
        "531a2779cd7b4a5390ef8d9283395d2f": {
          "model_module": "@jupyter-widgets/base",
          "model_name": "LayoutModel",
          "state": {
            "_model_module": "@jupyter-widgets/base",
            "_model_module_version": "1.2.0",
            "_model_name": "LayoutModel",
            "_view_count": null,
            "_view_module": "@jupyter-widgets/base",
            "_view_module_version": "1.2.0",
            "_view_name": "LayoutView",
            "align_content": null,
            "align_items": null,
            "align_self": null,
            "border": null,
            "bottom": null,
            "display": null,
            "flex": null,
            "flex_flow": null,
            "grid_area": null,
            "grid_auto_columns": null,
            "grid_auto_flow": null,
            "grid_auto_rows": null,
            "grid_column": null,
            "grid_gap": null,
            "grid_row": null,
            "grid_template_areas": null,
            "grid_template_columns": null,
            "grid_template_rows": null,
            "height": null,
            "justify_content": null,
            "justify_items": null,
            "left": null,
            "margin": null,
            "max_height": null,
            "max_width": null,
            "min_height": null,
            "min_width": null,
            "object_fit": null,
            "object_position": null,
            "order": null,
            "overflow": null,
            "overflow_x": null,
            "overflow_y": null,
            "padding": null,
            "right": null,
            "top": null,
            "visibility": null,
            "width": null
          }
        },
        "f98e7a08496640b4a7d5a9959a089b4c": {
          "model_module": "@jupyter-widgets/base",
          "model_name": "LayoutModel",
          "state": {
            "_model_module": "@jupyter-widgets/base",
            "_model_module_version": "1.2.0",
            "_model_name": "LayoutModel",
            "_view_count": null,
            "_view_module": "@jupyter-widgets/base",
            "_view_module_version": "1.2.0",
            "_view_name": "LayoutView",
            "align_content": null,
            "align_items": null,
            "align_self": null,
            "border": null,
            "bottom": null,
            "display": null,
            "flex": null,
            "flex_flow": null,
            "grid_area": null,
            "grid_auto_columns": null,
            "grid_auto_flow": null,
            "grid_auto_rows": null,
            "grid_column": null,
            "grid_gap": null,
            "grid_row": null,
            "grid_template_areas": null,
            "grid_template_columns": null,
            "grid_template_rows": null,
            "height": null,
            "justify_content": null,
            "justify_items": null,
            "left": null,
            "margin": null,
            "max_height": null,
            "max_width": null,
            "min_height": null,
            "min_width": null,
            "object_fit": null,
            "object_position": null,
            "order": null,
            "overflow": null,
            "overflow_x": null,
            "overflow_y": null,
            "padding": null,
            "right": null,
            "top": null,
            "visibility": null,
            "width": null
          }
        },
        "55e9c72d59264887a66fabc95e92de3d": {
          "model_module": "@jupyter-widgets/controls",
          "model_name": "ProgressStyleModel",
          "state": {
            "_model_module": "@jupyter-widgets/controls",
            "_model_module_version": "1.5.0",
            "_model_name": "ProgressStyleModel",
            "_view_count": null,
            "_view_module": "@jupyter-widgets/base",
            "_view_module_version": "1.2.0",
            "_view_name": "StyleView",
            "bar_color": null,
            "description_width": "initial"
          }
        },
        "2e64d816ca1b429dbdf1ae75f15a24ba": {
          "model_module": "@jupyter-widgets/base",
          "model_name": "LayoutModel",
          "state": {
            "_model_module": "@jupyter-widgets/base",
            "_model_module_version": "1.2.0",
            "_model_name": "LayoutModel",
            "_view_count": null,
            "_view_module": "@jupyter-widgets/base",
            "_view_module_version": "1.2.0",
            "_view_name": "LayoutView",
            "align_content": null,
            "align_items": null,
            "align_self": null,
            "border": null,
            "bottom": null,
            "display": null,
            "flex": null,
            "flex_flow": null,
            "grid_area": null,
            "grid_auto_columns": null,
            "grid_auto_flow": null,
            "grid_auto_rows": null,
            "grid_column": null,
            "grid_gap": null,
            "grid_row": null,
            "grid_template_areas": null,
            "grid_template_columns": null,
            "grid_template_rows": null,
            "height": null,
            "justify_content": null,
            "justify_items": null,
            "left": null,
            "margin": null,
            "max_height": null,
            "max_width": null,
            "min_height": null,
            "min_width": null,
            "object_fit": null,
            "object_position": null,
            "order": null,
            "overflow": null,
            "overflow_x": null,
            "overflow_y": null,
            "padding": null,
            "right": null,
            "top": null,
            "visibility": null,
            "width": null
          }
        },
        "a6dea7ed07d64665b5f7327c565a9c85": {
          "model_module": "@jupyter-widgets/controls",
          "model_name": "DescriptionStyleModel",
          "state": {
            "_model_module": "@jupyter-widgets/controls",
            "_model_module_version": "1.5.0",
            "_model_name": "DescriptionStyleModel",
            "_view_count": null,
            "_view_module": "@jupyter-widgets/base",
            "_view_module_version": "1.2.0",
            "_view_name": "StyleView",
            "description_width": ""
          }
        },
        "f348ce454484483baf7e36aaaf954497": {
          "model_module": "@jupyter-widgets/controls",
          "model_name": "HBoxModel",
          "state": {
            "_view_name": "HBoxView",
            "_dom_classes": [],
            "_model_name": "HBoxModel",
            "_view_module": "@jupyter-widgets/controls",
            "_model_module_version": "1.5.0",
            "_view_count": null,
            "_view_module_version": "1.5.0",
            "box_style": "",
            "layout": "IPY_MODEL_55e38616cc1140719a1152eb927cca3f",
            "_model_module": "@jupyter-widgets/controls",
            "children": [
              "IPY_MODEL_27312b5011d44f1796fc583ea2ffa3f3",
              "IPY_MODEL_2647a8c1bc464a409e860dcf18caf2dc"
            ]
          }
        },
        "55e38616cc1140719a1152eb927cca3f": {
          "model_module": "@jupyter-widgets/base",
          "model_name": "LayoutModel",
          "state": {
            "_view_name": "LayoutView",
            "grid_template_rows": null,
            "right": null,
            "justify_content": null,
            "_view_module": "@jupyter-widgets/base",
            "overflow": null,
            "_model_module_version": "1.2.0",
            "_view_count": null,
            "flex_flow": null,
            "width": null,
            "min_width": null,
            "border": null,
            "align_items": null,
            "bottom": null,
            "_model_module": "@jupyter-widgets/base",
            "top": null,
            "grid_column": null,
            "overflow_y": null,
            "overflow_x": null,
            "grid_auto_flow": null,
            "grid_area": null,
            "grid_template_columns": null,
            "flex": null,
            "_model_name": "LayoutModel",
            "justify_items": null,
            "grid_row": null,
            "max_height": null,
            "align_content": null,
            "visibility": null,
            "align_self": null,
            "height": null,
            "min_height": null,
            "padding": null,
            "grid_auto_rows": null,
            "grid_gap": null,
            "max_width": null,
            "order": null,
            "_view_module_version": "1.2.0",
            "grid_template_areas": null,
            "object_position": null,
            "object_fit": null,
            "grid_auto_columns": null,
            "margin": null,
            "display": null,
            "left": null
          }
        },
        "27312b5011d44f1796fc583ea2ffa3f3": {
          "model_module": "@jupyter-widgets/controls",
          "model_name": "FloatProgressModel",
          "state": {
            "_view_name": "ProgressView",
            "style": "IPY_MODEL_e9d0c544d2a54df48933ba12891136f4",
            "_dom_classes": [],
            "description": "100%",
            "_model_name": "FloatProgressModel",
            "bar_style": "success",
            "max": 6,
            "_view_module": "@jupyter-widgets/controls",
            "_model_module_version": "1.5.0",
            "value": 6,
            "_view_count": null,
            "_view_module_version": "1.5.0",
            "orientation": "horizontal",
            "min": 0,
            "description_tooltip": null,
            "_model_module": "@jupyter-widgets/controls",
            "layout": "IPY_MODEL_452212f6df674b20ae454157151d590a"
          }
        },
        "2647a8c1bc464a409e860dcf18caf2dc": {
          "model_module": "@jupyter-widgets/controls",
          "model_name": "HTMLModel",
          "state": {
            "_view_name": "HTMLView",
            "style": "IPY_MODEL_045ae1cffc38444aa88a4e8387348ba4",
            "_dom_classes": [],
            "description": "",
            "_model_name": "HTMLModel",
            "placeholder": "​",
            "_view_module": "@jupyter-widgets/controls",
            "_model_module_version": "1.5.0",
            "value": " 6/6 [12:53&lt;00:00, 128.99s/it]",
            "_view_count": null,
            "_view_module_version": "1.5.0",
            "description_tooltip": null,
            "_model_module": "@jupyter-widgets/controls",
            "layout": "IPY_MODEL_0e3194f475e945829522b21d382d76ee"
          }
        },
        "e9d0c544d2a54df48933ba12891136f4": {
          "model_module": "@jupyter-widgets/controls",
          "model_name": "ProgressStyleModel",
          "state": {
            "_view_name": "StyleView",
            "_model_name": "ProgressStyleModel",
            "description_width": "initial",
            "_view_module": "@jupyter-widgets/base",
            "_model_module_version": "1.5.0",
            "_view_count": null,
            "_view_module_version": "1.2.0",
            "bar_color": null,
            "_model_module": "@jupyter-widgets/controls"
          }
        },
        "452212f6df674b20ae454157151d590a": {
          "model_module": "@jupyter-widgets/base",
          "model_name": "LayoutModel",
          "state": {
            "_view_name": "LayoutView",
            "grid_template_rows": null,
            "right": null,
            "justify_content": null,
            "_view_module": "@jupyter-widgets/base",
            "overflow": null,
            "_model_module_version": "1.2.0",
            "_view_count": null,
            "flex_flow": null,
            "width": null,
            "min_width": null,
            "border": null,
            "align_items": null,
            "bottom": null,
            "_model_module": "@jupyter-widgets/base",
            "top": null,
            "grid_column": null,
            "overflow_y": null,
            "overflow_x": null,
            "grid_auto_flow": null,
            "grid_area": null,
            "grid_template_columns": null,
            "flex": null,
            "_model_name": "LayoutModel",
            "justify_items": null,
            "grid_row": null,
            "max_height": null,
            "align_content": null,
            "visibility": null,
            "align_self": null,
            "height": null,
            "min_height": null,
            "padding": null,
            "grid_auto_rows": null,
            "grid_gap": null,
            "max_width": null,
            "order": null,
            "_view_module_version": "1.2.0",
            "grid_template_areas": null,
            "object_position": null,
            "object_fit": null,
            "grid_auto_columns": null,
            "margin": null,
            "display": null,
            "left": null
          }
        },
        "045ae1cffc38444aa88a4e8387348ba4": {
          "model_module": "@jupyter-widgets/controls",
          "model_name": "DescriptionStyleModel",
          "state": {
            "_view_name": "StyleView",
            "_model_name": "DescriptionStyleModel",
            "description_width": "",
            "_view_module": "@jupyter-widgets/base",
            "_model_module_version": "1.5.0",
            "_view_count": null,
            "_view_module_version": "1.2.0",
            "_model_module": "@jupyter-widgets/controls"
          }
        },
        "0e3194f475e945829522b21d382d76ee": {
          "model_module": "@jupyter-widgets/base",
          "model_name": "LayoutModel",
          "state": {
            "_view_name": "LayoutView",
            "grid_template_rows": null,
            "right": null,
            "justify_content": null,
            "_view_module": "@jupyter-widgets/base",
            "overflow": null,
            "_model_module_version": "1.2.0",
            "_view_count": null,
            "flex_flow": null,
            "width": null,
            "min_width": null,
            "border": null,
            "align_items": null,
            "bottom": null,
            "_model_module": "@jupyter-widgets/base",
            "top": null,
            "grid_column": null,
            "overflow_y": null,
            "overflow_x": null,
            "grid_auto_flow": null,
            "grid_area": null,
            "grid_template_columns": null,
            "flex": null,
            "_model_name": "LayoutModel",
            "justify_items": null,
            "grid_row": null,
            "max_height": null,
            "align_content": null,
            "visibility": null,
            "align_self": null,
            "height": null,
            "min_height": null,
            "padding": null,
            "grid_auto_rows": null,
            "grid_gap": null,
            "max_width": null,
            "order": null,
            "_view_module_version": "1.2.0",
            "grid_template_areas": null,
            "object_position": null,
            "object_fit": null,
            "grid_auto_columns": null,
            "margin": null,
            "display": null,
            "left": null
          }
        }
      }
    }
  },
  "cells": [
    {
      "cell_type": "markdown",
      "metadata": {
        "id": "Dnx7gmGPl8j9"
      },
      "source": [
        "# **Fast Matrix Factorization for Online Recommendation with Implicit Feedback**\n",
        "\n",
        "Groupe : Bouvier Oscar & Dupuy-Zini Alexandre\n",
        "\n",
        "Source : https://arxiv.org/abs/1708.05024\n",
        "\n",
        "---\n",
        "\n",
        "# **Introduction**\n",
        "\n",
        "This paper aims at improving *Matrix Factorization* (MF) methods with  implicit feedback. Those dimension reduction methods are very popular when it comes to recommandation systems. In that situation, a $users \\times items$ matrix stores a binary information about an explicit interaction between a user and an item, and the question is then to guess the unconsumed items each user might want to interact with in the future. However, the main problem is that those matrices have very high dimensions, and their content is particularly sparse. That is why they are suitable for compressed sensing.\n",
        "\n",
        "Matrix factorization focuses on reducing the dimension of the data by characterizing users and items by vectors of latent factors. Those vectors are built so that their product help recover the original $users \\times items$ matrix. To achieve that, the available data can't be limited to the explicit feedback of the users, since they mostly do not provide any information (watching a video but not rating it, for example). In this case, it is challenging to know which implicit interaction happened to be negative. Consequently, as most entries are missing, the strategy used to weight this implicit feedback drastically affects this imbalanced learning problem.\n",
        "\n",
        "Moreover, a particularity of recommandation systems is that their context is online : new users, items and interactions are continuously streaming in. Therefore, it becomes crucial to use adequate and efficient algorithms in order to cope with the real-time usage.\n",
        "\n",
        "This paper introduces a new Matrix Factorization method aimed at learning from implicit feedback effectively while satisfying the requirement of online learning. In particular, it focuses on the three following points :\n",
        "* the missing data is assigned a popularity-aware weighting scheme so that the algorithm can effectively learn from the implicit feedback\n",
        "* a new algorithm named **eALS** is designed for efficiency and real-time online learning\n",
        "* those improvements are carefully tested against different datasets and different contexts, and the hyperparameters are optimised with respect to two metrics.\n",
        "\n",
        "In this notebook, we explain and implement this new method, and we then test it in different contexts of learning on large datasets. Finally, we discuss the contribution of this paper with regard to our experiments and our research on the subject."
      ]
    },
    {
      "cell_type": "markdown",
      "metadata": {
        "id": "jLDPlst7GR82"
      },
      "source": [
        "---\n",
        "\n",
        "# **1. Generic ALS for a whole-data based MF strategy**\n",
        "\n",
        "There exists two main strategies when it comes to MF methods : sample based and whole-data based. While sample based strategies only use a sample of the missing data as negative samples in order to achieve a faster algorithm, the focus in this paper is to have a stronger predictiveness and fidelity. Therefore, a whole-data based strategy is chosen. The theory behind the optimization of a whole-data based MF method is detailed in this section.\n",
        "\n",
        "## **1.1 Whole-data based Matrix Factorization method**\n",
        "\n",
        "For $M$ users and $N$ items, let's denote $R \\in \\mathbb{R}^{M \\times N}$ the binary user-item interaction matrix and $\\mathcal{R}$ the set of non-zero user-item pairs (the true explicit interactions), which can be seen as the set of measures of the unknown $R^*$ matrix that we want to reconstruct. In order to achieve this reconstitution, MF methods map each user $u$ and each item $i$ to latent vectors in a feature space of size $K$. By denoting $p_u$ and $q_i$ their respective latent vectors, any entry $r_{ui}$ of the matrix $R$ is therefore estimated by the inner product $\\hat{r}_{ui} = \\langle p_u,q_i \\rangle$. Moreover, we denote $P$ and $Q$ the respective matrices of users and items latent factors.\n",
        "\n",
        "The learnable parameters $p_u$ and $q_i$ are optimized with respect to the following weighted and regularized regression cost function:\n",
        "$$J=\\sum\\limits^{M}_{u=1} \\sum\\limits^{N}_{i=1} w_{ui}(r_{ui}-\\hat{r}_{ui})^2 + \\lambda \\left( \\sum\\limits^{M}_{u=1}||p_u||^2 + \\sum\\limits^{N}_{i=1}||q_i||^2\\right)$$\n",
        "\n",
        "Each entry of $R$ is assigned a non-zero weight from the matrix $W$, which will be defined more precisely later. This enables to take into account all the data, including the implicit part.\n",
        "\n",
        "## **1.2 Optimization of the ALS method**\n",
        "\n",
        "One popular option to optimize this cost function is to use the Alternate Least Squares (ALS) method : it works by iteratively optimizing a parameter while leaving the others fixed. Here, this method iterates in an equivalent manner on each $p_u$ and each $q_i$, so the following calculus is done arbitrarily for a vector $p_u$. The cost function is then reduced to :\n",
        "$$J_u = \\sum\\limits^{N}_{i=1}w_{ui}(r_{ui}-\\hat{r}_{ui})^2 + \\lambda ||p_u||^2 = ||W^u(r_u - Qp_u)||^2+\\lambda ||p_u||^2$$\n",
        "with $W^u=diag(w_{ui})$. The gradient is then :\n",
        "$$\\frac{\\partial J_u}{\\partial p_u}=-2(QW^u)^T(r_u - Qp_u) + 2\\lambda p_u = 2Q^TW^uQp_u - 2Q^TW^ur_u+ 2\\lambda p_u$$\n",
        "\n",
        "The solution is here reduced to a Ridge Regression problem :\n",
        "$$\\left( Q^TW^uQ + \\lambda I\\right)p_u = Q^TW^ur_u$$\n",
        "$$\\implies p_u = \\left( Q^TW^uQ + \\lambda I\\right)^{-1}Q^TW^ur_u$$\n",
        "\n",
        "Even if there is no parameter to fine-tune beforehand like the learning rate of Gradient Descents methods, this solution has a major drawback : inverting a matrix is very expensive, and the repetition of this operation multiple times is a very complex situation. Here the complexity of fitting all parameters one time is $O ((M+N)K^3 + MNK^2)$ since inverting a matrix of shape $K^2$ is in $O(K^3)$.\n",
        "\n",
        "## **1.3 ALS with uniform weighting**\n",
        "\n",
        "A popular option to speed-up this complex computation is uniform weighting. There are several ways to apply a uniform weighting strategy. The first one is to apply a uniform weight of $1$ to all entries, whether they are implicit or explicit. However, in most situations, the ratio of implicit and explicit entries is strongly in favor of the implicit entries. Therefore, any learning from this strategy might be suboptimal. \n",
        "\n",
        "The second understading of the uniform strategy consists in setting the same weight $w_0$ to all missing entries only. By decomposing the $Q^TW^uQ$ matrix as $w_0Q^TQ + Q^T(W^u - W^0)Q$ where $W^0 = diag(w_0)$, we see that $w_0Q^TQ$ can be computed only once for all users and $(W^u - W^0)$ is a matrix with $|\\mathcal{R}_u|$ non-zero entries. This enables to reduce the complexity of the ALS to $O((M+N)K^3 + |\\mathcal{R}|K^2)$, which is slightly better.\n",
        "\n",
        "However, this complexity is still higher than the one of a Stochastic Gradient Descent, which is common in the litterature for comparable methods. In addition, better performances are expected to be achieved by increasing $K$, at the expense of the complexity. The authors also argue that setting a uniform weighting might degrade the model's predictiveness, as it lacks flexibility and seems inadequate for real applications. In most real situations, few items are very frequent and most items are rare. That should influence the true negative weight of more popular but unconsumed items.\n",
        "\n"
      ]
    },
    {
      "cell_type": "markdown",
      "metadata": {
        "id": "k1HUPs0XGR51"
      },
      "source": [
        "---\n",
        "\n",
        "# **2. Fast eALS : details of the implementation**\n",
        "\n",
        "To overcome this inefficiency problem, the authors introduce an element-wise optimization method that is suitable with any kind of weighting strategy. In addition, they adapt this with a popularity-aware weighting strategy to then optimize the computations. Finally, as the method validates the requirements of online learning, it is quickly adapted to the online learning problem.\n",
        "\n",
        "## **2.1 Generic element-wise ALS Learner**\n",
        "\n",
        "As an alternative solution to the speed-up proposed by the uniform weighting, the element-wise ALS learner is an optimization strategy that doesn't require any fixed distribution. Instead, it focuses on the optimization of each coordinate of the latent vectors, while leaving the others freezed. The gradient of the cost function with respect to the $f$ coordinate of the latent vector $p_u$ is :\n",
        "\n",
        "\\begin{align}\n",
        "\\frac{\\partial J}{\\partial p_{uf}} &= -2 \\sum\\limits^{N}_{i=1}w_{ui}q_{if}(r_{ui}-\\hat{r}_{ui})+2\\lambda p_{uf} \n",
        "\\\\&= -2 \\sum\\limits^{N}_{i=1}w_{ui}q_{if}(r_{ui}-\\hat{r}_{ui}^f)+2 \\left(\\sum\\limits^{N}_{i=1}w_{ui}q_{if}^2+\\lambda \\right)p_{uf} \n",
        "\\end{align}\n",
        "\n",
        "with $\\hat{r}_{ui}^f = \\hat{r}_{ui} - p_{uf}q_{if}$ in order to isolate $p_{uf}$. By setting this equation equal to zero, we get the following solution :\n",
        "$$p_{uf} = \\frac{\\sum\\limits^{N}_{i=1}w_{ui}q_{if}(r_{ui}-\\hat{r}_{ui}^f)}{\\sum\\limits^{N}_{i=1}w_{ui}q_{if}^2+\\lambda}$$\n",
        "\n",
        "A similar result can be derived for any coordinate of a $q_i$ latent vector. Here is then the advantage of this strategy : avoiding the matrix inversion. Finally, by sharing some of the computations across coordinates and latent vectors, the complexity can be reduced to $O(MNK)$, which is better than the $O(K^3)$ of a matrix inversion.\n",
        "\n",
        "This coordinate descent method also has the advantage to allow a more flexible weighting strategy which is choosen as an item-oriented (column-oriented) weighting plan in this paper. However, in the case of recommandation systems, it is hard to tell the difference between a negative feedback from an unknown feedback. This can be expressed as the rewriting of the following objective function :\n",
        "$$J=\\sum\\limits_{(u,i) \\in \\mathcal{R}} w_{ui}(r_{ui}-\\hat{r}_{ui})^2 +  \\sum\\limits^{M}_{u=1} \\sum\\limits_{i \\notin \\mathcal{R}_u} c_{i}\\hat{r}_{ui}^2+ \\lambda \\left( \\sum\\limits^{M}_{u=1}||p_u||^2 + \\sum\\limits^{N}_{i=1}||q_i||^2\\right)$$\n",
        "\n",
        "with a weight $c_i$ for each item that illustrates the confidence that it is a true negative example when missed by a user. Those weights can be representative of the knowledge a content provider has about its items.\n",
        "\n",
        "## **2.2 Popularity-aware Weighting Strategy**\n",
        "\n",
        "In order to define the $c_i$, this paper focuses on another available information that content providers can exploit : which items were frequently promoted to users but recieved little attention ? This reflects the true negative feedback nature of an item for a user, and this information also has the property of being domain independant. The authors define $c_i$ as the following popularity-aware weight:\n",
        "$$c_i = c_0 \\frac{f_i^\\alpha}{\\sum^N_{j=1}f_j^\\alpha}$$\n",
        "with $f_i$ the popularity (its frequency in $R$), $c_0$ a constant assigning the general weight of the missing data and $\\alpha$ an exponent to increase or decrease the significance of popular items.\n",
        "\n",
        "## **2.3 Fast eALS**\n",
        "\n",
        "However, it is worth noting that a lot of computations of the previous sections are common across the updated coordinates, and that precomputing those key intermediary values might spare some unnecessary complexity. In particular, we get the following solution for $p_{uf}$ from the previous rewriting of the objective function :\n",
        "$$p_{uf} = \\frac{\\sum\\limits_{i \\in \\mathcal{R}_u}w_{ui}q_{if}(r_{ui}-\\hat{r}_{ui}^f) - \\sum\\limits_{i \\notin \\mathcal{R}_u}\\hat{r}_{ui}^fc_iq_{if}}{\\sum\\limits_{i \\in \\mathcal{R}_u}w_{ui}q_{if}^2+\\sum\\limits_{i \\notin \\mathcal{R}_u}c_iq_{if}^2+\\lambda}$$\n",
        "\n",
        "Then, by rewriting some terms in order to maximise the shared computations, the authors introduce two caches $S^q = \\sum\\limits_{i=1}^{N}c_iq_i^Tq_i$ and $S^p=P^TP$ that can be computed once for all users and all items respectively. This final optimization is called the fast-eALS strategy and reduces the complexity to $O((M+N)K^2+|\\mathcal{R}|K)$. This is $K$ times better than the original ALS strategy in complexity, and even linear of the $R$ matrix shape. Moreover, it is thus competitive with other contemporary optimization strategies while avoiding sampling the data or tuning an hyperparameter.\n",
        "\n",
        "In the same time, the authors propose a faster computation method for evaluating the objective function, by reusing the previously introduced caches. This reduces the complexity of $O(MNK)$ for a direct computation to $O(|\\mathcal{R}|+MK^2)$ with the item-oriented weighting strategy, especially for the missing data part of $R$.\n",
        "\n",
        "Finally, this strategy accommodates easily to parallel computations since for each optimization, other parameters are either fixed or independant. This represents an advantage compared to other strategies using for example a SGD.\n",
        "\n",
        "## **2.4 Online update**\n",
        "\n",
        "All the previous accelerations enable to meet the requirements of online learning. In particular, the model is able to be incrementaly updated to quickly refresh a MF model given a new feedback. Given a new user-item interaction $(u,i)$, only $q_i$ and $p_u$ are updated. There is here an assumption that this update shouldn't affect the other latent factors much.\n",
        "\n",
        "There is one particular parameter to handle a new interaction : the weight that is associated with it. This is up to the content provider to define it by taking into account the relation of this new interaction with past information. The higher it is, the more the latent vectors will be impacted by the recent information. Instant personalization might be very important for new users and older users might benefit from a refreshment in their recommandations.\n",
        "\n",
        "In addition, such an update is quick to run for a new interaction thanks to the incremental online learning procedure. The complexity is $O(K^2+(|\\mathcal{R}_u|+|\\mathcal{R}_i|)K)$ as the update is considered independant of other items, users, and the global number of interactions."
      ]
    },
    {
      "cell_type": "markdown",
      "metadata": {
        "id": "Rxva9Bmj3WDV"
      },
      "source": [
        "---\n",
        "\n",
        "# **3. Implementation**\n",
        "\n",
        "One of the major challenges of this project was then to obtain an efficient implementation in Python. Indeed, as we're updating users and items at each iteration in the eALS method, we need to iterate over every user and every item many times with <code>for</code> loops without considering more efficient Python coding practicies. In this situation, Python, which is an interpretated language (and doesn't require code compilation), has a very bad efficicency in terms of computation time.\n",
        "\n",
        "In order to approach the standard computation time of the original paper, we use Numba which is a JIT compiler that translates a subset of Python and NumPy code into faster machine code. A constraint associated to Numba is the heaviness of the code since not all NumPy calculus tricks are available. Moreover, it requires to specify beforehand the type of each variables used.\n",
        "\n",
        "However, as Numba is quite restrictive in terms of data types used as input, we couldn't define objective sparse matrix in our implementation. Consequently, we define the $user \\times item$ interaction matrix as two lists of numpy array : <code>user_lists</code> stores at index $i$ the array of users that explicitly interacted with item $i$, and <code>item_lists</code> stores at index $u$ the array of items that user $u$ interacted with.\n",
        "\n",
        "Concerning the overall approach, we transform the rating datasets into implicit data, where each entry is marked as 0/1 indicating whether the user reviewed the item.\n",
        "\n",
        "Moreover, for the weight of observed interactions, we set it uniformly as 1, which is a default setting used by the authors. It leads to some simplifications in the implemented methods by considering that the non-zero ratings' weights are directly set to 1 in our code. One can either consider ratings and specific weights by incorporating dedicated lists into the method's arguments, so as to generalize their use of non-implicit data.\n",
        "\n",
        "In this section, after importing packages for the whole notebook, we first implement the ALS method and then the fast eALS method with its online component.\n",
        "\n",
        "In the next subsections, we implement the ALS, which will be used as a baseline for performances evaluation, and the eALS method. Their performance will be compared by considering two metrics, namely the *Hit rate* and *NCDG* metrics. The first is useful to know if the predictions are generally accurate and the second adds a ranking scoring to the previous metric."
      ]
    },
    {
      "cell_type": "markdown",
      "metadata": {
        "id": "_hBi26UfCeuj"
      },
      "source": [
        "## Importing packages"
      ]
    },
    {
      "cell_type": "code",
      "metadata": {
        "id": "b-FeaDOW2oh7"
      },
      "source": [
        "import pandas as pd\n",
        "import numpy as np\n",
        "from scipy import sparse\n",
        "from tqdm.notebook import tqdm\n",
        "import time\n",
        "\n",
        "from numba import njit\n",
        "from numba.experimental import jitclass\n",
        "from numba import types, typed, typeof\n",
        "from numba import float32, int32, int64, float64\n",
        "from numba import types, typed, typeof\n",
        "import matplotlib.pyplot as plt\n",
        "import seaborn as sns\n",
        "from numba.core.errors import NumbaPerformanceWarning, NumbaPendingDeprecationWarning\n",
        "import warnings\n",
        "\n",
        "warnings.simplefilter('ignore', category=NumbaPerformanceWarning)\n",
        "warnings.simplefilter('ignore', category=NumbaPendingDeprecationWarning)"
      ],
      "execution_count": null,
      "outputs": []
    },
    {
      "cell_type": "markdown",
      "metadata": {
        "id": "-14ZJWvxFTqc"
      },
      "source": [
        "## **3.1 ALS Implementation**"
      ]
    },
    {
      "cell_type": "code",
      "metadata": {
        "id": "aKHMqjKsK3Ca"
      },
      "source": [
        "import numpy as np\n",
        "\n",
        "array_type = types.int64[:]\n",
        "\n",
        "spec = [\n",
        "    ('w0', float64),\n",
        "    ('reg', float64 ),\n",
        "    ('n_users', int64),\n",
        "    ('n_items', int64),\n",
        "    ('n_factors', int64),\n",
        "    ('P', float64[:, :]),\n",
        "    ('Q', float64[:, :]),\n",
        "    ('SP', float64[:, :]),\n",
        "    ('SQ', float64[:, :]),\n",
        "    ('user_lists_train', types.ListType(array_type)),\n",
        "    ('item_lists_train', types.ListType(array_type)),\n",
        "    ('loss_history', types.ListType(float64)),\n",
        "    ('hit_ratio_history', types.ListType(float64)),\n",
        "    ('ncdg_history', types.ListType(float64))\n",
        "]\n",
        "\n",
        "@jitclass(spec)\n",
        "class ALS:\n",
        "\n",
        "  def __init__(self, n_users, n_items, n_factors = 10, w0 = 0.01, reg = 0.01, init_mean = 0, init_stdev = 0.01):\n",
        "    self.w0 = w0\n",
        "    self.reg = reg\n",
        "\n",
        "    self.n_items = n_items\n",
        "    self.n_users = n_users\n",
        "    self.n_factors = n_factors\n",
        "    \n",
        "    self.P, self.Q = self.initialize_PQ(init_mean, init_stdev)\n",
        "\n",
        "    self.SP = self.P.T @ self.P\n",
        "    self.SQ = self.Q.T @self.Q\n",
        "\n",
        "    self.loss_history = typed.List.empty_list(types.float64)\n",
        "    self.hit_ratio_history = typed.List.empty_list(types.float64)\n",
        "    self.ncdg_history = typed.List.empty_list(types.float64)\n",
        "\n",
        "    self.user_lists_train = typed.List.empty_list(array_type)\n",
        "    self.item_lists_train = typed.List.empty_list(array_type)\n",
        "\n",
        "  #initializing function for user and item matrices\n",
        "  def initialize_PQ(self, init_mean, init_stdev):\n",
        "    init_P = np.random.normal(init_mean, init_stdev, size = (self.n_users, self.n_factors))\n",
        "    init_Q = np.random.normal(init_mean, init_stdev, size = (self.n_items, self.n_factors))\n",
        "    return init_P, init_Q\n",
        "\n",
        "  #loading and memorizing function for user lists (for each item) \n",
        "  #and item lists (for each user)\n",
        "  def initialize_lists(self, user_lists_train, item_lists_train):\n",
        "    for l in user_lists_train:\n",
        "      self.user_lists_train.append(l)\n",
        "    for l in item_lists_train:\n",
        "      self.item_lists_train.append(l)\n",
        "\n",
        "  #Fitting function\n",
        "  def fit(self, user_lists_train, item_lists_train, test_items=None, n_iter=1, compute_metrics=False):\n",
        "    self.initialize_lists(user_lists_train, item_lists_train)\n",
        "    for iter in range(n_iter):\n",
        "      if compute_metrics:\n",
        "        if test_items == None:\n",
        "          return 'Error : need to specified test items to compute metrics.'\n",
        "        self.compute_loss()\n",
        "\n",
        "        hit_ratio, ncdg = self.compute_metrics(test_items)\n",
        "        self.hit_ratio_history.append(hit_ratio)\n",
        "        self.ncdg_history.append(ncdg)\n",
        "\n",
        "      for i in range(self.n_items):\n",
        "        self.update_item(i)\n",
        "      for u in range(self.n_users):\n",
        "        self.update_user(u)\n",
        "\n",
        "  #Rating prediction function <p_u, q_i>\n",
        "  def predict(self, u, i):\n",
        "    return np.dot(self.P[u, :], self.Q[i, :])\n",
        "\n",
        "  #Computing MSE loss function for ALS\n",
        "  def compute_loss(self):\n",
        "    cache_Q = np.zeros((self.n_factors, self.n_factors))\n",
        "\n",
        "    for f in range(self.n_factors):\n",
        "      for k in range(f+1):\n",
        "        val = 0\n",
        "        for i in range(self.n_items):\n",
        "          val += self.Q[i, f] * self.Q[i, k]\n",
        "        cache_Q[k, f] = val\n",
        "        cache_Q[f, k] = val\n",
        "\n",
        "    loss = self.reg * (np.sum(self.P ** 2) + np.sum(self.Q ** 2))\n",
        "\n",
        "    for u in range(self.n_users):\n",
        "      l = 0\n",
        "      item_list = self.item_lists_train[u]\n",
        "      for i in item_list:\n",
        "        l += (1 - self.predict(u, i)) ** 2\n",
        "      l *= 1 - self.w0\n",
        "      l += self.w0 * cache_Q @ self.P[u, :] @ self.Q[u, :]\n",
        "      loss += l\n",
        "\n",
        "    self.loss_history.append(loss)\n",
        "\n",
        "  #Function returning top scored items for a specific user (necessary to compute metrics)\n",
        "  def get_top_ranked_items(self, u, n_top = 100):\n",
        "    item_scores = np.zeros(self.n_items)\n",
        "    for i in range(self.n_items):\n",
        "      item_scores[i] = self.predict(u, i)\n",
        "    top_ranked_items = item_scores.argsort()[-n_top:][::-1]\n",
        "    return top_ranked_items\n",
        "\n",
        "  #Function for computing Hit rate and NDCG\n",
        "  def compute_metrics(self, test_items):\n",
        "    hit_ratio = 0\n",
        "    ncdg = 0\n",
        "    for u in range(self.n_users):\n",
        "      top_ranked_items = self.get_top_ranked_items(u)\n",
        "      target_item = test_items[u]\n",
        "      for i in range(len(top_ranked_items)):\n",
        "        item = top_ranked_items[i]\n",
        "        if item == target_item:\n",
        "          hit_ratio += 1\n",
        "          ncdg += np.log(2)/(np.log(i + 2))\n",
        "    return hit_ratio/self.n_users, ncdg/self.n_users\n",
        "\n",
        "  def update_user(self, u):\n",
        "    #Items having interactions with user u \n",
        "    item_list = self.item_lists_train[u]\n",
        "\n",
        "    #Computing left inversed matrix factor\n",
        "    A = self.w0 * self.SP\n",
        "\n",
        "    #Weight of observed interactions = 1\n",
        "    weight = 1\n",
        "    \n",
        "    for f in range(self.n_factors):\n",
        "      for k in range(self.n_factors):\n",
        "        for i in item_list:\n",
        "          A[f, k] += (weight - self.w0) * self.Q[i, f] * self.Q[i, k]\n",
        "\n",
        "    #Adding regularization term\n",
        "    A += self.reg * np.eye(self.n_factors)\n",
        "\n",
        "    #Inversing the matrix\n",
        "    A_inv = np.linalg.solve(A, np.eye(self.n_factors))\n",
        "\n",
        "    #Computing right matrix factors\n",
        "    b = np.zeros(self.n_factors)\n",
        "\n",
        "    #0/1 binary rating for implicit data\n",
        "    rating_non_zero = 1\n",
        "\n",
        "    for k in range(self.n_factors):\n",
        "      for i in item_list:\n",
        "        b[k] += self.Q[i, k] * weight * rating_non_zero\n",
        "\n",
        "    #Compute updated row of P\n",
        "    new_p_u = A_inv @ b\n",
        "\n",
        "    #updating cache SP\n",
        "    for f in range(self.n_factors):\n",
        "      for k in range(f+1):\n",
        "        self.SP[k, f] = self.SP[f, k] - self.P[u, f] * self.P[u, k] + new_p_u[f] * new_p_u[k]\n",
        "        self.SP[f, k] = self.SP[k, f]\n",
        "\n",
        "    self.P[u, :] = new_p_u\n",
        "\n",
        "  def update_item(self, i):\n",
        "    #Users having interactions with item i\n",
        "    user_list = self.user_lists_train[i]\n",
        "\n",
        "    #Computing left factor matrix function\n",
        "    A = self.w0 * self.SQ\n",
        "\n",
        "    #Weight of observed interactions = 1\n",
        "    weight = 1\n",
        "\n",
        "    for f in range(self.n_factors):\n",
        "      for k in range(self.n_factors):\n",
        "        for u in user_list:\n",
        "          A[f, k] += (weight - self.w0) * self.P[u, f] * self.P[u, k]\n",
        "\n",
        "    #Adding regularization term\n",
        "    A += self.reg * np.eye(self.n_factors)\n",
        "\n",
        "    #inversing matrix\n",
        "    A_inv = np.linalg.inv(A)\n",
        "\n",
        "    #Computing right matrix factor function\n",
        "    b = np.zeros(self.n_factors)\n",
        "\n",
        "    #0/1 binary rating for implicit data\n",
        "    rating_non_zero = 1\n",
        "\n",
        "    for k in range(self.n_factors):  \n",
        "      for u in user_list:\n",
        "          b[k] += self.Q[u, k] * weight * rating_non_zero\n",
        "\n",
        "    #Compute updated row of Q\n",
        "    new_q_i = A_inv @ b\n",
        "\n",
        "    #updating cache SQ\n",
        "    for f in range(self.n_factors):\n",
        "      for k in range(f+1):\n",
        "        val = self.SQ[f, k] - self.Q[i, f] * self.Q[i, k] + new_q_i[f] * new_q_i[k]\n",
        "        self.SQ[k, f] = val\n",
        "        self.SQ[f, k] = val\n",
        "    \n",
        "    #updating item matrix\n",
        "    self.Q[i, :] = new_q_i"
      ],
      "execution_count": null,
      "outputs": []
    },
    {
      "cell_type": "markdown",
      "metadata": {
        "id": "TlHJGOUktWRa"
      },
      "source": [
        "## **3.2 Fast eALS Implementation**\n"
      ]
    },
    {
      "cell_type": "code",
      "metadata": {
        "id": "bDW9e48nhnli"
      },
      "source": [
        "import numpy as np\n",
        "\n",
        "array_type = types.int64[:]\n",
        "\n",
        "spec_fast_eALS = [\n",
        "    ('c0', float64),\n",
        "    ('reg', float64 ),\n",
        "    ('alpha', float64),\n",
        "    ('init_mean', float64),\n",
        "    ('init_stdev', float64),\n",
        "    ('n_users', int64),\n",
        "    ('n_items', int64),\n",
        "    ('n_factors', int64),\n",
        "    ('n_iters_online', int64),\n",
        "    ('P', float64[:, :]),\n",
        "    ('Q', float64[:, :]),\n",
        "    ('SP', float64[:, :]),\n",
        "    ('SQ', float64[:, :]),\n",
        "    ('Ci', float64[:]),\n",
        "    ('prediction_users', float64[:]),\n",
        "    ('prediction_items', float64[:]),\n",
        "    ('rating_users', float64[:]),\n",
        "    ('rating_items', float64[:]),\n",
        "    ('w_users', float64[:]),\n",
        "    ('w_items', float64[:]),\n",
        "    ('user_lists_train', types.ListType(array_type)),\n",
        "    ('item_lists_train', types.ListType(array_type)),\n",
        "    ('loss_history', types.ListType(float64)),\n",
        "    ('hit_ratio_history', types.ListType(float64)),\n",
        "    ('ncdg_history', types.ListType(float64))\n",
        "]\n",
        "\n",
        "@jitclass(spec_fast_eALS)\n",
        "class fast_eALS:\n",
        "\n",
        "  def __init__(self, n_users, n_items, n_factors = 10, c0 = 1, reg = 0.01, alpha = 0.5, \n",
        "               init_mean = 0, init_stdev = 0.01, n_iters_online = 1):\n",
        "    self.c0 = c0\n",
        "    self.reg = reg\n",
        "    self.alpha = alpha\n",
        "    self.init_mean = init_mean\n",
        "    self.init_stdev = init_stdev\n",
        "\n",
        "    self.n_items = n_items\n",
        "    self.n_users = n_users\n",
        "    self.n_factors = n_factors\n",
        "\n",
        "    self.n_iters_online = n_iters_online   \n",
        "\n",
        "    self.P, self.Q = self.initialize_PQ()\n",
        "    self.SP = self.P.T @ self.P\n",
        "\n",
        "    self.prediction_users = np.zeros(self.n_users)\n",
        "    self.prediction_items = np.zeros(self.n_items)\n",
        "    self.rating_users = np.zeros(self.n_users)\n",
        "    self.rating_items = np.zeros(self.n_items)\n",
        "    self.w_users = np.zeros(self.n_users)\n",
        "    self.w_items = np.zeros(self.n_items)\n",
        "\n",
        "    self.loss_history = typed.List.empty_list(float64)\n",
        "    self.hit_ratio_history = typed.List.empty_list(float64)\n",
        "    self.ncdg_history = typed.List.empty_list(float64)\n",
        "\n",
        "    self.user_lists_train = typed.List.empty_list(array_type)\n",
        "    self.item_lists_train = typed.List.empty_list(array_type)\n",
        "\n",
        "  #initialization function for user and item matrices\n",
        "  def initialize_PQ(self):\n",
        "    init_P = np.random.normal(self.init_mean, self.init_stdev, size = (self.n_users, self.n_factors))\n",
        "    init_Q = np.random.normal(self.init_mean, self.init_stdev, size = (self.n_items, self.n_factors))\n",
        "    return init_P, init_Q\n",
        "\n",
        "  #special initialization function for SQ\n",
        "  def initialize_SQ(self):\n",
        "    self.SQ = np.zeros((self.n_factors, self.n_factors))\n",
        "    for f in range(self.n_factors):\n",
        "      for k in range(f+1):\n",
        "        val = 0\n",
        "        for i in range(self.n_items):\n",
        "          val += self.Q[i, f] * self.Q[i, k] * self.Ci[i]\n",
        "        self.SQ[k, f] = val\n",
        "        self.SQ[f, k] = val\n",
        "\n",
        "  #loading and memorizing function for interacted user lists (for each item) \n",
        "  #and interacted item lists (for each user)\n",
        "  def initialize_lists(self, user_lists_train, item_lists_train):\n",
        "    for l in user_lists_train:\n",
        "      self.user_lists_train.append(l)\n",
        "    for l in item_lists_train:\n",
        "      self.item_lists_train.append(l)\n",
        "\n",
        "  #Rating prediction function <p_u, q_i>\n",
        "  def predict(self, u, i):\n",
        "    return np.dot(self.P[u, :], self.Q[i, :])\n",
        "\n",
        "  #Computing Popularity aware weights\n",
        "  def compute_Ci(self):\n",
        "    popularities = np.array([len(self.user_lists_train[i]) for i in range(self.n_items)])\n",
        "    p = (popularities /np.sum(popularities)) ** self.alpha\n",
        "    self.Ci = (self.c0 / np.sum(p)) * p \n",
        "\n",
        "  #Fitting function\n",
        "  def fit(self, user_lists_train, item_lists_train, test_items=None, n_iter=1, compute_metrics=True):\n",
        "    self.initialize_lists(user_lists_train, item_lists_train)\n",
        "    self.compute_Ci()\n",
        "    self.initialize_SQ()\n",
        "\n",
        "    for iter in range(n_iter):\n",
        "      if compute_metrics:\n",
        "        if test_items == None:\n",
        "          return 'Error : need to specified test items to compute metrics.'\n",
        "\n",
        "        self.compute_loss()\n",
        "        hit_ratio, ncdg = self.compute_metrics(test_items)\n",
        "        self.hit_ratio_history.append(hit_ratio)\n",
        "        self.ncdg_history.append(ncdg)\n",
        "      \n",
        "      for u in range(self.n_users):\n",
        "        self.update_user(u)\n",
        "      for i in range(self.n_items):\n",
        "        self.update_item(i)\n",
        "\n",
        "  #Function returning top scored items for a specific user (necessary to compute metrics)\n",
        "  def get_top_ranked_items(self, u, n_top = 100):\n",
        "    item_scores = np.zeros(self.n_items)\n",
        "    for i in range(self.n_items):\n",
        "      item_scores[i] = self.predict(u, i)\n",
        "    top_ranked_items = item_scores.argsort()[-n_top:][::-1]\n",
        "    return top_ranked_items\n",
        "\n",
        "  #Computing Hit rate and NCDG function\n",
        "  def compute_metrics(self, test_items, n_top = 100):\n",
        "    hit_ratio = 0\n",
        "    ncdg = 0\n",
        "    for u in range(self.n_users):\n",
        "      top_ranked_items = self.get_top_ranked_items(u, n_top)\n",
        "      target_item = test_items[u]\n",
        "      for i in range(len(top_ranked_items)):\n",
        "        item = top_ranked_items[i]\n",
        "        if item == target_item:\n",
        "          hit_ratio += 1\n",
        "          ncdg += np.log(2)/(np.log(i + 2))\n",
        "    return hit_ratio/self.n_users, ncdg/self.n_users\n",
        "\n",
        "  def compute_metrics_for_user(self, u, target_item, n_top):\n",
        "    top_ranked_items = self.get_top_ranked_items(u, n_top)\n",
        "    hit_ratio = 0\n",
        "    ncdg = 0\n",
        "    for i in range(len(top_ranked_items)):\n",
        "      item = top_ranked_items[i]\n",
        "      if item == target_item:\n",
        "        hit_ratio = 1\n",
        "        ncdg = np.log(2)/(np.log(i + 2))\n",
        "    return hit_ratio, ncdg\n",
        "\n",
        "  #Loss function\n",
        "  def compute_loss(self):\n",
        "    loss = self.reg * (np.sum(self.P ** 2) + np.sum(self.Q ** 2))\n",
        "    for u in range(self.n_users):\n",
        "      item_list = self.item_lists_train[u]\n",
        "      for i in item_list:\n",
        "        prediction_score = self.predict(u, i)\n",
        "        loss += (1 - prediction_score) ** 2 - self.Ci[i] * prediction_score ** 2\n",
        "      loss += self.SQ @ self.P[u, :] @ self.P[u, :]\n",
        "    self.loss_history.append(loss)\n",
        "\n",
        "  #Algorithm core function for single update of P_u\n",
        "  def update_user(self, u):\n",
        "    #Items having interactions with user u \n",
        "    item_list = self.item_lists_train[u]\n",
        "\n",
        "    if len(item_list) == 0:\n",
        "      pass\n",
        "    else :\n",
        "      for i in item_list:\n",
        "        #cache predictions score for user u\n",
        "        self.prediction_items[i] = self.predict(u, i)\n",
        "\n",
        "        #Binary 0/1 interaction rating for all items, implicit feedback\n",
        "        self.rating_items[i] = 1\n",
        "\n",
        "        #Weight of observed interaction = 1\n",
        "        self.w_items[i] = 1\n",
        "        \n",
        "      #Computing updated row of P\n",
        "      new_pu = np.zeros(self.n_factors)\n",
        "\n",
        "      for f in range(self.n_factors):\n",
        "        numerator, denominator = 0., 0.\n",
        "        for k in range(self.n_factors):\n",
        "          if k != f:\n",
        "            numerator -= self.P[u, k] * self.SQ[f, k]\n",
        "          \n",
        "        for i in item_list:\n",
        "          self.prediction_items[i] -=  self.P[u, f] * self.Q[i, f]\n",
        "          numerator += (self.w_items[i] * self.rating_items[i] - (self.w_items[i]  - self.Ci[i]) * self.prediction_items[i]) * self.Q[i, f]\n",
        "          denominator += (self.w_items[i]  - self.Ci[i]) * self.Q[i, f] * self.Q[i, f]\n",
        "\n",
        "        denominator += self.SQ[f, f] + self.reg\n",
        "        new_pu[f] = numerator/denominator\n",
        "\n",
        "        #update prediction cache\n",
        "        for i in item_list:\n",
        "          self.prediction_items[i] +=  new_pu[f] * self.Q[i, f]\n",
        "\n",
        "      #update cache SP\n",
        "      for f in range(self.n_factors):\n",
        "        for k in range(f+1):\n",
        "          self.SP[f, k] = self.SP[f, k] - self.P[u, f] * self.P[u, k] + new_pu[f] * new_pu[k]\n",
        "          self.SP[f, k] = self.SP[k, f] \n",
        "\n",
        "      #update user matrix\n",
        "      self.P[u, :] = new_pu\n",
        "\n",
        "  #Algorithm core function for single update of Q_i\n",
        "  def update_item(self, i):\n",
        "    #Users having interactions with item i \n",
        "    user_list = self.user_lists_train[i]\n",
        "\n",
        "    if len(user_list) == 0:\n",
        "      pass\n",
        "    else:\n",
        "      for u in user_list:\n",
        "        #cache predictions score for user u\n",
        "        self.prediction_users[u] = self.predict(u, i)\n",
        "\n",
        "        #Binary 0/1 interaction rating for all users considering implicit feedback\n",
        "        self.rating_users[u] = 1\n",
        "\n",
        "        #Weight of observed interaction = 1\n",
        "        self.w_users[u] = 1\n",
        "\n",
        "      #computing updated row of Q\n",
        "      new_qi = np.zeros(self.n_factors)\n",
        "      for f in range(self.n_factors):\n",
        "        numerator, denominator = 0., 0.\n",
        "        for k in range(self.n_factors):\n",
        "          if k != f:\n",
        "            numerator -= self.Q[i, k] * self.SP[f, k]\n",
        "\n",
        "        numerator *= self.Ci[i]\n",
        "          \n",
        "        for u in user_list:\n",
        "          self.prediction_users[u] -=  self.P[u, f] * self.Q[i, f]\n",
        "          numerator += (self.w_users[u]  * self.rating_users[u] - (self.w_users[u]  - self.Ci[i]) * self.prediction_users[u]) * self.P[u, f]\n",
        "          denominator += (self.w_users[u] - self.Ci[i]) * self.P[u, f] ** 2\n",
        "\n",
        "        denominator += (self.Ci[i] * self.SP[f,f]) + self.reg\n",
        "        new_qi[f] = numerator/denominator\n",
        "\n",
        "        #update prediction cache\n",
        "        for u in user_list:\n",
        "          self.prediction_users[u] +=  self.P[u, f] * new_qi[f]\n",
        "\n",
        "      #update cache SQ\n",
        "      for f in range(self.n_factors):\n",
        "        for k in range(f+1):\n",
        "          self.SQ[f, k] = self.SQ[f, k] - self.Q[i, f] * self.Q[i, k] * self.Ci[i] + new_qi[f] * new_qi[k] * self.Ci[i]\n",
        "          self.SQ[k, f] = self.SQ[f, k]\n",
        "\n",
        "      #update item matrix\n",
        "      self.Q[i, :] = new_qi\n",
        "\n",
        "  #Updating item list and user_list for online iteration\n",
        "  def update_training_lists(self, u, i):\n",
        "    old_item_lists_train = self.item_lists_train\n",
        "    self.item_lists_train = typed.List.empty_list(array_type)\n",
        "\n",
        "    for user in range(self.n_users):\n",
        "      if user == u:\n",
        "        new_item_list = np.zeros(len(old_item_lists_train[u]) + 1, dtype=int64)\n",
        "        new_item_list[:-1] = old_item_lists_train[u]\n",
        "        new_item_list[-1] = i\n",
        "        self.item_lists_train.append(new_item_list)\n",
        "      else:\n",
        "        self.item_lists_train.append(old_item_lists_train[user])\n",
        "\n",
        "    old_user_lists_train = self.user_lists_train\n",
        "    self.user_lists_train = typed.List.empty_list(array_type)\n",
        "\n",
        "    for item in range(self.n_items):\n",
        "      if item == i:\n",
        "        new_user_list = np.zeros(len(old_user_lists_train[i]) + 1, dtype=int64)\n",
        "        new_user_list[:-1] = old_user_lists_train[i]\n",
        "        new_user_list[-1] = u\n",
        "        self.user_lists_train.append(new_user_list)\n",
        "      else:\n",
        "        self.user_lists_train.append(old_user_lists_train[item])\n",
        "\n",
        "  #Updating function for online (user, item) interaction stream\n",
        "  def update_online(self, u, i):\n",
        "    self.update_training_lists(u, i)\n",
        "    #Case where item has never been seen\n",
        "    if self.Ci[i] == 0:\n",
        "      self.Ci[i] = self.c0/self.n_items\n",
        "\n",
        "      #Update SQ cache\n",
        "      for f in range(self.n_factors):\n",
        "       for k in range(f+1):\n",
        "          val = self.SQ[f, k] + self.Q[i, f] * self.Q[i, k] * self.Ci[i]\n",
        "          self.SQ[f, k] = val\n",
        "          self.SQ[k, f] = val\n",
        "    \n",
        "    #Compute iterations update\n",
        "    for iter in range(self.n_iters_online):\n",
        "      self.update_user(u)\n",
        "      self.update_item(i)"
      ],
      "execution_count": null,
      "outputs": []
    },
    {
      "cell_type": "markdown",
      "metadata": {
        "id": "G1Q4HjHYGRzL"
      },
      "source": [
        "---\n",
        "\n",
        "# **4. Experimentation**\n",
        "\n",
        "In this section, we apply the previous implementations. The two methods are compared on two datasets of different sizes. The first one is the MovieLens 100k Dataset, and the second is the Yelp ratings Dataset. Then, we compare empirically the time complexity of both methods. Finally, we demonstrate the online learning protocol. All those results will be commented with regard to the ones published in the paper."
      ]
    },
    {
      "cell_type": "markdown",
      "metadata": {
        "id": "qBxCURKC5duJ"
      },
      "source": [
        "## **4.1 Experiments on the MovieLens 100k Dataset**\n",
        "\n",
        "We will experiment first our algorithms on a dataset of around 100k movie ratings called MovieLens100k. This dataset is quite useful for our experimentations since it stores a relatively small number of users and items, which allows us to track the performance of the algorithms at each iteration with a reasonable computation time. However, this dataset has the property to have a lower sparsity level than standard practicional datasets.\n",
        "\n",
        "For preprocessing, we follow common practice to transform ratings into binary interactions. We therefore transform the review dataset into implicit data, where each entry is marked as 0/1 indicating whether the user reviewed the item or not."
      ]
    },
    {
      "cell_type": "markdown",
      "metadata": {
        "id": "3Rs1VRzWB8GV"
      },
      "source": [
        "### **4.1.1 Downloading movielens100k dataset**\n",
        "\n",
        "Let's first download and load the dataset."
      ]
    },
    {
      "cell_type": "code",
      "metadata": {
        "colab": {
          "base_uri": "https://localhost:8080/"
        },
        "id": "bgbdvQZPAzrU",
        "outputId": "90157b23-5964-416f-e37c-daa75b99823f"
      },
      "source": [
        "!pip install d2l==0.16.1 -q\n",
        "!pip install -U mxnet-cu101==1.7.0 -q\n",
        "\n",
        "from d2l import mxnet as d2l\n",
        "from mxnet import gluon, np\n",
        "import os\n",
        "import pandas as pd\n",
        "\n",
        "d2l.DATA_HUB['ml-100k'] = (\n",
        "    'http://files.grouplens.org/datasets/movielens/ml-100k.zip',\n",
        "    'cd4dcac4241c8a4ad7badc7ca635da8a69dddb83')\n",
        "\n",
        "def read_data_ml100k():\n",
        "    data_dir = d2l.download_extract('ml-100k')\n",
        "    names = ['user_id', 'item_id', 'rating', 'timestamp']\n",
        "    data = pd.read_csv(os.path.join(data_dir, 'u.data'), '\\t', names=names,\n",
        "                       engine='python')\n",
        "    num_users = data.user_id.unique().shape[0]\n",
        "    num_items = data.item_id.unique().shape[0]\n",
        "\n",
        "    return data, num_users, num_items"
      ],
      "execution_count": null,
      "outputs": [
        {
          "output_type": "stream",
          "text": [
            "\u001b[K     |████████████████████████████████| 81kB 4.7MB/s \n",
            "\u001b[K     |███████████████████████████████▌| 834.1MB 1.3MB/s eta 0:00:10tcmalloc: large alloc 1147494400 bytes == 0x55d53b8f0000 @  0x7f7122bc7615 0x55d50197306c 0x55d501a52eba 0x55d501975e8d 0x55d501a6799d 0x55d5019e9fe9 0x55d5019e4b0e 0x55d50197777a 0x55d5019e9e50 0x55d5019e4b0e 0x55d50197777a 0x55d5019e686a 0x55d501a687c6 0x55d5019e5ee2 0x55d501a687c6 0x55d5019e5ee2 0x55d501a687c6 0x55d5019e5ee2 0x55d501a687c6 0x55d5019e5ee2 0x55d50197769a 0x55d5019e5c9e 0x55d5019e4e0d 0x55d50197777a 0x55d5019e5a45 0x55d50197769a 0x55d5019e5a45 0x55d5019e4b0e 0x55d50197777a 0x55d5019e686a 0x55d5019e4b0e\n",
            "\u001b[K     |████████████████████████████████| 846.0MB 20kB/s \n",
            "\u001b[?25h"
          ],
          "name": "stdout"
        }
      ]
    },
    {
      "cell_type": "code",
      "metadata": {
        "colab": {
          "base_uri": "https://localhost:8080/"
        },
        "id": "yMcSZFj8BoMH",
        "outputId": "6c35ea95-c457-4cf5-b413-b83778b0024c"
      },
      "source": [
        "data_100k, n_users_100k, n_items_100k = read_data_ml100k()"
      ],
      "execution_count": null,
      "outputs": [
        {
          "output_type": "stream",
          "text": [
            "Downloading ../data/ml-100k.zip from http://files.grouplens.org/datasets/movielens/ml-100k.zip...\n"
          ],
          "name": "stdout"
        }
      ]
    },
    {
      "cell_type": "markdown",
      "metadata": {
        "id": "eh8GlnEosD8g"
      },
      "source": [
        "### **4.1.2 Dataset statistics**\n",
        "\n",
        "To get a quick overview of the dataset, we observe some caracteristic numbers. The numbers of items (1643) and users (943) are way smaller than the number of interactions, leading to a low level of sparsity (around 0.937)."
      ]
    },
    {
      "cell_type": "code",
      "metadata": {
        "colab": {
          "base_uri": "https://localhost:8080/"
        },
        "id": "MiJhrIHURMHK",
        "outputId": "3567abe5-3f38-437c-d825-1c2f0d0a3da8"
      },
      "source": [
        "print('Number of ratings : ', len(data_100k))\n",
        "print('Number of items :   ', n_items_100k)\n",
        "print('Number of users :   ', n_users_100k)\n",
        "print('Sparsity level :     {:.04f}'.format(1 - len(data_100k)/( n_items_100k * n_users_100k)))"
      ],
      "execution_count": null,
      "outputs": [
        {
          "output_type": "stream",
          "text": [
            "Number of ratings :  100000\n",
            "Number of items :    1682\n",
            "Number of users :    943\n",
            "Sparsity level :     0.9370\n"
          ],
          "name": "stdout"
        }
      ]
    },
    {
      "cell_type": "markdown",
      "metadata": {
        "id": "VoUOQGFeb8AS"
      },
      "source": [
        "### **4.1.3 Training procedure : leave one out train test split**\n",
        "\n",
        "To train and test each method, we consider the *leave-one-out* evaluation procedure where the latest interaction of each user is held out for prediction and the models are trained on the remaining data. The two methods will be compared on the evaluation of the two following metrics.\n",
        "* The *Hit ratio* counts the average number of *hits*, which is an indicator for telling wether or not the left-out test item for each user belongs to the top-recommended items. The number of top-recommended items is chosen manually but a common use for practitioners is $100$.\n",
        "* The *NDCG* is quite close but takes into account the rank of the left-out test item of each user in the top-recommended items, assesssing a better performance metric if the target items have low rank.\n",
        "\n",
        "More formally, considering for each user $u$ the left-out test item $i_u$, the top-recommended item set $R_u$ by the model, and the rank $r^{i_u}_{R_u}$ of item $i_u$ in $R_u$, we have :\n",
        "* $\\text{Hit-ratio} = \\frac{1}{M}\\sum_{u=1}^{M}\\mathbb{1}(i_u \\in R_u)$\n",
        "* $\\text{NDCG} = \\frac{1}{M}\\sum_{u=1}^{M}\\frac{\\log(2)}{\\log(r^{i_u}_{R_u} +2)}\\mathbb{1}(i_u \\in R_u)$.\n",
        "\n",
        "However, these metrics are quite expensive to compute since it requires to compute for each user and item their prediction scores of cost $O(MNK)$. That's why we will track performances considering these metrics only on small datasets like MovieLens100k which have low number of users and items.\n",
        "\n",
        "The following cell prepares the dataset for the next section."
      ]
    },
    {
      "cell_type": "code",
      "metadata": {
        "colab": {
          "base_uri": "https://localhost:8080/",
          "height": 218,
          "referenced_widgets": [
            "4808a6de4d5d4d7ba5887d7d79462afd",
            "10a78167321e45d9a9bdfe3fd4b0cdbc",
            "e0f8f2f74c174563b56f30335ee8da8b",
            "eab9b314a40945b9b20c48951e3638f8",
            "0bc86724de0a4f448a62726d765786b2",
            "a14e3b4e16f04ae1998362420dcd79ad",
            "79258247475949cd96fe1b1b85a01c8e",
            "5a98d5a5d3c2430d84ff9987275dc6f2",
            "9a478d8c67e24b6eaa4f1581d03a9c8a",
            "5c43d0b2241d479e935fb8d2989ed983",
            "45e275317bb5451684eba0db85b6b1fd",
            "61b125e76eb445cbb26041bdbe4c9c48",
            "aa00e14bac364cc49dba6af55e0a7044",
            "998c3cde49a84af9b4eab5ae1df23a4e",
            "4fbf6d0c264f4e72aedeed1a913b2e60",
            "f88d804e4bb64a0fb4f40bdd5b7feae9",
            "8858aab3a15f4f2b864c86917acf13a6",
            "addc0eb7eda944f5bf4f82887107837b",
            "52335cee2ea347bb917b17660e05de83",
            "98a3b463819e40d695b4cc947342e1f0",
            "74782c12be23498f90b67afd7193a1b8",
            "8b2f1707186b46798a64f196eeb34395",
            "dddaab22401c4d27abcb31ddc3bbc14e",
            "eee23c41741e4e0b8e39f5a4b5d32e3a",
            "ff7018671c7d444da1448413d7a2f0ff",
            "a7dc345b8d474f06b81498560dfbee0b",
            "e9df584db8654502850e9ac268acf1da",
            "cee06e3313a046d181d7f84a9baa46f9",
            "453c4d35260c4410b6ddbbbcff79cac9",
            "900bbfb7bd004102a195d6c630d51b56",
            "aa641587cbc94e5c97889a2af86978d5",
            "e86161c8792c4f6b8780dadb54e355e1"
          ]
        },
        "id": "FQ1nLH1hDhcC",
        "outputId": "5bcfd366-f736-45eb-a18c-b411d368d506"
      },
      "source": [
        "# Reinitializing first item and user index to 0\n",
        "data_100k.user_id -= 1\n",
        "data_100k.item_id -= 1\n",
        "\n",
        "# We split the dataset into train and test set considering Leave One Out\n",
        "# split for each user.\n",
        "data_train_100k = pd.DataFrame(columns=['user_id', 'item_id', 'rating', 'timestamp'])\n",
        "data_test_100k = pd.DataFrame(columns=['user_id', 'item_id', 'rating', 'timestamp'])\n",
        "\n",
        "for u in range(n_users_100k):\n",
        "  frame = data_100k[data_100k.user_id == u]\n",
        "  data_train_100k = data_train_100k.append(frame.iloc[:-1])\n",
        "  data_test_100k = data_test_100k.append(frame.iloc[-1])\n",
        "\n",
        "# Creation of useful lists for later\n",
        "user_to_idx = {}\n",
        "item_to_idx = {}\n",
        "\n",
        "for i, id in enumerate(data_100k['user_id'].unique()):\n",
        "  user_to_idx[id] = i\n",
        "\n",
        "for j, id in enumerate(data_100k['item_id'].unique()):\n",
        "  item_to_idx[id] = j\n",
        "\n",
        "# Here we build the sparse interactions matrix of shape (items, users).\n",
        "shape = n_items_100k, n_users_100k\n",
        "tuples = []\n",
        "\n",
        "for i in tqdm(range(len(data_train_100k))):\n",
        "  user_id, item_id = data_train_100k.iloc[i]['user_id'], data_train_100k.iloc[i]['item_id']\n",
        "  idx_u, idx_i = user_to_idx[user_id], item_to_idx[item_id]\n",
        "  tuples.append((idx_i, idx_u))\n",
        "\n",
        "# Delete duplicates\n",
        "tuples = set(tuples)\n",
        "\n",
        "r = [x for (x, y) in tuples] # x_coordinate\n",
        "c = [y for (x, y) in tuples] # y_coordinate\n",
        "\n",
        "data_tuples = [1] * len(r)\n",
        "\n",
        "train_matrix_100k = sparse.csr_matrix((data_tuples, (r, c)), shape=shape)\n",
        "\n",
        "# Test items list creation\n",
        "test_items_100k = np.zeros(n_users_100k)\n",
        "\n",
        "for i in tqdm(range(len(data_test_100k))):\n",
        "  user_id, item_id = data_test_100k.iloc[i]['user_id'], data_test_100k.iloc[i]['item_id']\n",
        "  idx_u, idx_i = user_to_idx[user_id], item_to_idx[item_id]\n",
        "  test_items_100k[idx_u] = np.int64(idx_i)\n",
        "\n",
        "test_items_100k = test_items_100k.tolist()\n",
        "\n",
        "# Finally we transform as before the train matrix and the test dataset into numba processible lists.\n",
        "user_lists_train_100k = [np.int64(sparse.find(train_matrix_100k[i, :])[1]) for i in tqdm(range(n_items_100k))]\n",
        "item_lists_train_100k = [np.int64(sparse.find(train_matrix_100k[:, u])[0]) for u in tqdm(range(n_users_100k))]"
      ],
      "execution_count": null,
      "outputs": [
        {
          "output_type": "display_data",
          "data": {
            "application/vnd.jupyter.widget-view+json": {
              "model_id": "4808a6de4d5d4d7ba5887d7d79462afd",
              "version_minor": 0,
              "version_major": 2
            },
            "text/plain": [
              "HBox(children=(FloatProgress(value=0.0, max=99057.0), HTML(value='')))"
            ]
          },
          "metadata": {
            "tags": []
          }
        },
        {
          "output_type": "stream",
          "text": [
            "\n"
          ],
          "name": "stdout"
        },
        {
          "output_type": "display_data",
          "data": {
            "application/vnd.jupyter.widget-view+json": {
              "model_id": "9a478d8c67e24b6eaa4f1581d03a9c8a",
              "version_minor": 0,
              "version_major": 2
            },
            "text/plain": [
              "HBox(children=(FloatProgress(value=0.0, max=943.0), HTML(value='')))"
            ]
          },
          "metadata": {
            "tags": []
          }
        },
        {
          "output_type": "stream",
          "text": [
            "\n"
          ],
          "name": "stdout"
        },
        {
          "output_type": "display_data",
          "data": {
            "application/vnd.jupyter.widget-view+json": {
              "model_id": "8858aab3a15f4f2b864c86917acf13a6",
              "version_minor": 0,
              "version_major": 2
            },
            "text/plain": [
              "HBox(children=(FloatProgress(value=0.0, max=1682.0), HTML(value='')))"
            ]
          },
          "metadata": {
            "tags": []
          }
        },
        {
          "output_type": "stream",
          "text": [
            "\n"
          ],
          "name": "stdout"
        },
        {
          "output_type": "display_data",
          "data": {
            "application/vnd.jupyter.widget-view+json": {
              "model_id": "ff7018671c7d444da1448413d7a2f0ff",
              "version_minor": 0,
              "version_major": 2
            },
            "text/plain": [
              "HBox(children=(FloatProgress(value=0.0, max=943.0), HTML(value='')))"
            ]
          },
          "metadata": {
            "tags": []
          }
        },
        {
          "output_type": "stream",
          "text": [
            "\n"
          ],
          "name": "stdout"
        }
      ]
    },
    {
      "cell_type": "markdown",
      "metadata": {
        "id": "nNoJsbIPzy4j"
      },
      "source": [
        "### **4.1.4 Quick experimentations**\n",
        "\n",
        "Our first experiment consists in tracking the performances of both algorithms using after 50 iterations of each, with unoptimized hyperparameters for Fast eALS."
      ]
    },
    {
      "cell_type": "markdown",
      "metadata": {
        "id": "XvlieC3x7k6Z"
      },
      "source": [
        "#### Convergence with 20 latent factors"
      ]
    },
    {
      "cell_type": "code",
      "metadata": {
        "colab": {
          "base_uri": "https://localhost:8080/"
        },
        "id": "bnXd2DTY_eIv",
        "outputId": "b8b27e0d-1235-4aba-bded-e067d179f5c6"
      },
      "source": [
        "import numpy as np\n",
        "\n",
        "n_factors = 20\n",
        "n_iter = 50\n",
        "c0 = 4\n",
        "alpha = 0.8\n",
        "compute_metrics = True\n",
        "\n",
        "print(\"Running ALS ...\")\n",
        "als = ALS(n_users_100k, n_items_100k, n_factors, w0=0.001, reg = 0.01)\n",
        "als.fit(user_lists_train_100k, item_lists_train_100k, test_items_100k, n_iter, compute_metrics)\n",
        "print(\"Running fast eALS ...\")\n",
        "fast_als = fast_eALS(n_users_100k, n_items_100k, n_factors, c0= c0, reg = 0.01, alpha = alpha)\n",
        "fast_als.fit(user_lists_train_100k, item_lists_train_100k, test_items_100k, n_iter, compute_metrics)\n",
        "print(\"Done !\")"
      ],
      "execution_count": null,
      "outputs": [
        {
          "output_type": "stream",
          "text": [
            "Running ALS ...\n",
            "Running fast eALS ...\n",
            "Done !\n"
          ],
          "name": "stdout"
        }
      ]
    },
    {
      "cell_type": "markdown",
      "metadata": {
        "id": "EeRidnoWFZEV"
      },
      "source": [
        "The first thing to check is the convergence of the algorithms. The ALS can be checked by looking at the MSE loss history. As expected, the loss is achieving a big decrease in the first interations until variating around a minimal value. This allows us to assess the coherence of our implementation. The same conclusions can be drawn for the fast eALS implementation."
      ]
    },
    {
      "cell_type": "code",
      "metadata": {
        "colab": {
          "base_uri": "https://localhost:8080/",
          "height": 368
        },
        "id": "gjX-aGiWB5JX",
        "outputId": "d2c5f2ee-c640-4d17-c9b8-af18149556a3"
      },
      "source": [
        "sns.set_style(\"dark\")\n",
        "fig, (ax1, ax2) = plt.subplots(1, 2, figsize=(20, 5))\n",
        "ax1.plot(als.loss_history, label='ALS', marker = '.')\n",
        "ax1.set_xlabel('Iteration')\n",
        "ax1.set_title('MSE Loss History')\n",
        "ax1.legend()\n",
        "ax2.plot(fast_als.loss_history, label='Fast eALS', marker = '.')\n",
        "ax2.set_xlabel('Iteration')\n",
        "ax2.set_title('Adapted MSE Loss History')\n",
        "ax2.legend()"
      ],
      "execution_count": null,
      "outputs": [
        {
          "output_type": "execute_result",
          "data": {
            "text/plain": [
              "<matplotlib.legend.Legend at 0x7f6d837ffb50>"
            ]
          },
          "metadata": {
            "tags": []
          },
          "execution_count": 10
        },
        {
          "output_type": "display_data",
          "data": {
            "image/png": "[encoded data removed]",
            "text/plain": [
              "<Figure size 1440x360 with 2 Axes>"
            ]
          },
          "metadata": {
            "tags": []
          }
        }
      ]
    },
    {
      "cell_type": "markdown",
      "metadata": {
        "id": "B3-qvKmPFc1t"
      },
      "source": [
        "Secondly, let's compare the performances of the two models by looking at their respective Hit Ratio and NDCG history."
      ]
    },
    {
      "cell_type": "code",
      "metadata": {
        "colab": {
          "base_uri": "https://localhost:8080/",
          "height": 368
        },
        "id": "JZ7-9_UuWgJa",
        "outputId": "c6a7a452-a8f5-4e3e-bb35-901d76c0c0c8"
      },
      "source": [
        "sns.set_style(\"dark\")\n",
        "fig, (ax1, ax2) = plt.subplots(1, 2, figsize=(20, 5))\n",
        "ax1.plot(als.hit_ratio_history, label='ALS', marker = '.')\n",
        "ax1.plot(fast_als.hit_ratio_history, label='Fast eALS', marker = 'x')\n",
        "ax1.set_xlabel('Iteration')\n",
        "ax1.set_title('Hit ratio for ALS vs FasteALS')\n",
        "ax1.legend()\n",
        "ax2.plot(als.ncdg_history, label='ALS', marker = '.')\n",
        "ax2.plot(fast_als.ncdg_history, label='Fast eALS', marker = 'x')\n",
        "ax2.set_xlabel('Iteration')\n",
        "ax2.set_title('NDCG for ALS vs FasteALS')\n",
        "plt.legend()"
      ],
      "execution_count": null,
      "outputs": [
        {
          "output_type": "execute_result",
          "data": {
            "text/plain": [
              "<matplotlib.legend.Legend at 0x7f6d8332f710>"
            ]
          },
          "metadata": {
            "tags": []
          },
          "execution_count": 11
        },
        {
          "output_type": "display_data",
          "data": {
            "image/png": "[encoded data removed]",
            "text/plain": [
              "<Figure size 1440x360 with 2 Axes>"
            ]
          },
          "metadata": {
            "tags": []
          }
        }
      ]
    },
    {
      "cell_type": "markdown",
      "metadata": {
        "id": "y-Cibg6KSm9m"
      },
      "source": [
        "We first observe that both methods assess strong practical performances. Indeed, the naive baseline performance for this dataset is around $\\frac{100}{N} \\approx 0.06$. Moreover, we observe that the Fast eALS method reaches way better performances after convergence, both in terms of *Hit ratio* and *NDCG*. In addition, it seems that the Fast eALS is more stable after convergence than the ALS alone.\n",
        "\n",
        "However, it seems that the Fast eALS has a slower convergence rate than the standard ALS. This could be a consequence of the suboptimal random hyperparameter choice."
      ]
    },
    {
      "cell_type": "markdown",
      "metadata": {
        "id": "ZMUSFliyE9p_"
      },
      "source": [
        "#### Time complexity with 50 latent factors\n",
        "\n",
        "One of the key argument for the introduction of the fast eALS is the inefficiency of the ALS. Here we quickly check the improvement of time complexity for 50 latent factors."
      ]
    },
    {
      "cell_type": "code",
      "metadata": {
        "colab": {
          "base_uri": "https://localhost:8080/"
        },
        "id": "MCLm9zKvYcEI",
        "outputId": "5cdcb026-717f-4091-da72-140ed5163214"
      },
      "source": [
        "als_example = ALS(n_users_100k, n_items_100k, n_factors=50, w0=0.001, reg = 0.01)\n",
        "print('Iteration time of ALS on MovieLens100k : ')\n",
        "%timeit als_example.fit(user_lists_train_100k, item_lists_train_100k, test_items_100k, 1, False)"
      ],
      "execution_count": null,
      "outputs": [
        {
          "output_type": "stream",
          "text": [
            "Iteration time of ALS on MovieLens100k : \n",
            "1 loop, best of 5: 3.04 s per loop\n"
          ],
          "name": "stdout"
        }
      ]
    },
    {
      "cell_type": "code",
      "metadata": {
        "colab": {
          "base_uri": "https://localhost:8080/"
        },
        "id": "S1D-5S4kYyp7",
        "outputId": "ab4e7325-ab24-4527-a6f6-c9e2db795d32"
      },
      "source": [
        "fast_als_example = fast_eALS(n_users_100k, n_items_100k, n_factors=50, c0= c0, reg = 0.01, alpha = alpha)\n",
        "print('Iteration time of Fast eALS on MovieLens100k : ')\n",
        "%timeit fast_als_example.fit(user_lists_train_100k, item_lists_train_100k, test_items_100k, 1, False)"
      ],
      "execution_count": null,
      "outputs": [
        {
          "output_type": "stream",
          "text": [
            "Iteration time of Fast eALS on MovieLens100k : \n",
            "1 loop, best of 5: 279 ms per loop\n"
          ],
          "name": "stdout"
        }
      ]
    },
    {
      "cell_type": "markdown",
      "metadata": {
        "id": "f0Q1SpooZ1mZ"
      },
      "source": [
        "We can see that one Fast eALS iteration is as expected significantly faster than one ALS iteration, with a factor of around 10. This gap strongly increases especially when the number of latent factors increases."
      ]
    },
    {
      "cell_type": "markdown",
      "metadata": {
        "id": "xNCbUicoSyDX"
      },
      "source": [
        "### **4.1.5 Hyperparameter choice and further experimentation**\n",
        "\n",
        "To get a better view of the performance of the fast eALS method, we now need to optimize the hyperparameters $\\alpha$ and $c_0$. To this end, we follow the paper's method which consists in fixing $\\alpha$ to 0 (uniform weighting) and finding the best $c_0$ over a list of possibilities, then fixing $c_0$ to the deduced value in order to find the best $\\alpha$ using the same method."
      ]
    },
    {
      "cell_type": "code",
      "metadata": {
        "colab": {
          "base_uri": "https://localhost:8080/",
          "height": 67,
          "referenced_widgets": [
            "b1a0dfca4a8c4869bb74c2a1791661a5",
            "218dadaf2d3c49f99cd6be6b9bec82bb",
            "cab2faaf98fb4df1b863961e50f51b64",
            "df2972b512f54c3997abd4c49c8aa112",
            "9511ca528bb84096b58f8da47ee7bc12",
            "4b42eb927a764e0ebe8fc283b0200894",
            "3606c4a27ccf49a4b4ae7711c9e8c67f",
            "88370c62dc714383ae4db8038ff69ec5"
          ]
        },
        "id": "Y67-hi7qS07s",
        "outputId": "de803105-667b-454e-f961-32ef7085aebd"
      },
      "source": [
        "np.random.seed(42)\n",
        "\n",
        "c0_list = np.array([1, 2, 4, 8, 16, 32, 64, 128, 256, 512])\n",
        "alpha = 0\n",
        "reg = 0.01\n",
        "n_factors = 20\n",
        "n_iter = 40\n",
        "\n",
        "hit_ratios_vs_c0 = []\n",
        "ncdgs_vs_c0 = []\n",
        "\n",
        "for c0 in tqdm(c0_list):\n",
        "  hr_tmp = 0\n",
        "  ncdg_tmp = 0\n",
        "  for _ in range(5):\n",
        "    fast_als = fast_eALS(n_users_100k, n_items_100k, n_factors, c0, reg, alpha)\n",
        "    fast_als.fit(user_lists_train_100k, item_lists_train_100k, None, n_iter, False)\n",
        "    hr, ncdg = fast_als.compute_metrics(test_items_100k)\n",
        "    hr_tmp += hr\n",
        "    ncdg_tmp += ncdg\n",
        "  hit_ratios_vs_c0.append(hr_tmp/5)\n",
        "  ncdgs_vs_c0.append(ncdg_tmp/5)"
      ],
      "execution_count": null,
      "outputs": [
        {
          "output_type": "display_data",
          "data": {
            "application/vnd.jupyter.widget-view+json": {
              "model_id": "b1a0dfca4a8c4869bb74c2a1791661a5",
              "version_major": 2,
              "version_minor": 0
            },
            "text/plain": [
              "HBox(children=(FloatProgress(value=0.0, max=10.0), HTML(value='')))"
            ]
          },
          "metadata": {
            "tags": []
          }
        },
        {
          "output_type": "stream",
          "text": [
            "\n"
          ],
          "name": "stdout"
        }
      ]
    },
    {
      "cell_type": "code",
      "metadata": {
        "colab": {
          "base_uri": "https://localhost:8080/",
          "height": 324
        },
        "id": "7XTQm441Xwk8",
        "outputId": "a9f0ef73-65b7-494b-bec1-0a08ecc98755"
      },
      "source": [
        "fig, (ax1, ax2) = plt.subplots(1, 2, figsize = (20, 5))\n",
        "x = range(len(c0_list))\n",
        "ax1.plot(hit_ratios_vs_c0)\n",
        "ax1.set_title(r'Mean Hit ratio vs $c_0$ ($\\alpha = 0$) over 5 trainings')\n",
        "ax2.plot(ncdgs_vs_c0)\n",
        "ax2.set_title(r'Mean NDCG vs $c0$ ($\\alpha = 0$) over 5 trainings')\n",
        "ax1.set_xticks(x)\n",
        "ax2.set_xticks(x)\n",
        "ax1.set_xticklabels(c0_list)\n",
        "ax2.set_xticklabels(c0_list)\n",
        "plt.show()"
      ],
      "execution_count": null,
      "outputs": [
        {
          "output_type": "display_data",
          "data": {
            "image/png": "[encoded data removed]",
            "text/plain": [
              "<Figure size 1440x360 with 2 Axes>"
            ]
          },
          "metadata": {
            "tags": []
          }
        }
      ]
    },
    {
      "cell_type": "markdown",
      "metadata": {
        "id": "86wWHIcZhxjz"
      },
      "source": [
        "Fixing $\\alpha$ to 0, we deduce that the best value is $c_0 = 64$.\n",
        "\n",
        "Now let's choose a better $\\alpha$, by using the previous $c_0$."
      ]
    },
    {
      "cell_type": "code",
      "metadata": {
        "colab": {
          "base_uri": "https://localhost:8080/",
          "height": 67,
          "referenced_widgets": [
            "b39d0de9ad8a49c58a40ef36088e08c2",
            "fde0177cd4b540fa9af2c740e61f7310",
            "6e882356d3474ed9982f63e44ed1f96d",
            "e612b0b6b264475b86a49efc3db1ee1d",
            "68bdc3cac2cc46348e0912e269eb6790",
            "b449c6c4a8c94cbbaa5b16bf88182816",
            "c692ab61e2fe4ee08a369ab81624730f",
            "967e988f99094fafb10af9c893ce8507"
          ]
        },
        "id": "tDAlIpgBZjfq",
        "outputId": "37661790-3aa2-4a1f-d97f-ecda47c8ec31"
      },
      "source": [
        "np.random.seed(42)\n",
        "\n",
        "alpha_list = np.array([0, 0.1, 0.2, 0.3, 0.4, 0.5, 0.6, 0.7, 0.8, 0.9, 1])\n",
        "reg = 0.01\n",
        "n_factors = 20\n",
        "n_iter = 40\n",
        "c0 = 64\n",
        "\n",
        "hit_ratios_vs_alpha = []\n",
        "ncdgs_vs_alpha = []\n",
        "\n",
        "for alpha in tqdm(alpha_list):\n",
        "  hr_tmp = 0\n",
        "  ncdg_tmp = 0\n",
        "  for _ in range(5):\n",
        "    fast_als = fast_eALS(n_users_100k, n_items_100k, n_factors, c0, reg, alpha)\n",
        "    fast_als.fit(user_lists_train_100k, item_lists_train_100k, None, n_iter, False)\n",
        "    hr, ncdg = fast_als.compute_metrics(test_items_100k)\n",
        "    hr_tmp += hr\n",
        "    ncdg_tmp += ncdg\n",
        "  hit_ratios_vs_alpha.append(hr_tmp/5)\n",
        "  ncdgs_vs_alpha.append(ncdg_tmp/5)"
      ],
      "execution_count": null,
      "outputs": [
        {
          "output_type": "display_data",
          "data": {
            "application/vnd.jupyter.widget-view+json": {
              "model_id": "b39d0de9ad8a49c58a40ef36088e08c2",
              "version_major": 2,
              "version_minor": 0
            },
            "text/plain": [
              "HBox(children=(FloatProgress(value=0.0, max=11.0), HTML(value='')))"
            ]
          },
          "metadata": {
            "tags": []
          }
        },
        {
          "output_type": "stream",
          "text": [
            "\n"
          ],
          "name": "stdout"
        }
      ]
    },
    {
      "cell_type": "code",
      "metadata": {
        "colab": {
          "base_uri": "https://localhost:8080/",
          "height": 324
        },
        "id": "YCf7TNQzaTJx",
        "outputId": "0724b230-a432-4d6e-ce2b-935afe467aad"
      },
      "source": [
        "fig, (ax1, ax2) = plt.subplots(1, 2, figsize = (20, 5))\n",
        "ax1.plot(alpha_list, hit_ratios_vs_alpha)\n",
        "ax1.set_title(r'Mean Hit ratio vs $\\alpha$ ($c_0 = 64$) over 5 trainings')\n",
        "ax2.plot(alpha_list, ncdgs_vs_alpha)\n",
        "ax2.set_title(r'Mean NDCG vs $\\alpha$ ($c_0 = 64$) over 5 trainings')\n",
        "plt.show()"
      ],
      "execution_count": null,
      "outputs": [
        {
          "output_type": "display_data",
          "data": {
            "image/png": "[encoded data removed]",
            "text/plain": [
              "<Figure size 1440x360 with 2 Axes>"
            ]
          },
          "metadata": {
            "tags": []
          }
        }
      ]
    },
    {
      "cell_type": "markdown",
      "metadata": {
        "id": "zoZHXDnVklKM"
      },
      "source": [
        "Finally, we deduce that the best hyperparameters choice is $\\alpha = 0.2$ and $c_0= 64$. This leads to the final training of the model, which is going to be a better comparison with the ALS trained before."
      ]
    },
    {
      "cell_type": "code",
      "metadata": {
        "id": "EH99KoK0uN0d"
      },
      "source": [
        "import numpy as np\n",
        "\n",
        "np.random.seed(42)\n",
        "\n",
        "n_factors = 20\n",
        "n_iter = 50\n",
        "c0 = 64\n",
        "alpha = 0.2\n",
        "compute_metrics = True\n",
        "\n",
        "fast_als = fast_eALS(n_users_100k, n_items_100k, n_factors, c0= c0, reg = 0.01, alpha = alpha)\n",
        "fast_als.fit(user_lists_train_100k, item_lists_train_100k, test_items_100k, n_iter, compute_metrics)"
      ],
      "execution_count": null,
      "outputs": []
    },
    {
      "cell_type": "code",
      "metadata": {
        "colab": {
          "base_uri": "https://localhost:8080/",
          "height": 356
        },
        "id": "q59PlNpmv3UL",
        "outputId": "8062a9b7-a030-417e-8d85-a3bf26efe1e4"
      },
      "source": [
        "sns.set_style(\"dark\")\n",
        "fig, (ax1, ax2) = plt.subplots(1, 2, figsize=(20, 5))\n",
        "ax1.plot(als.hit_ratio_history, label='ALS', marker = '.')\n",
        "ax1.plot(fast_als.hit_ratio_history, label='Fast eALS', marker = '.')\n",
        "ax1.set_xlabel('Iteration')\n",
        "ax1.set_title('Hit ratio for ALS vs Fast eALS')\n",
        "ax1.legend()\n",
        "ax2.plot(als.ncdg_history, label='ALS', marker = '.')\n",
        "ax2.plot(fast_als.ncdg_history, label='Fast eALS', marker = '.')\n",
        "ax2.set_xlabel('Iteration')\n",
        "ax2.set_title('NDCG for ALS vs Fast eALS')\n",
        "plt.legend()"
      ],
      "execution_count": null,
      "outputs": [
        {
          "output_type": "execute_result",
          "data": {
            "text/plain": [
              "<matplotlib.legend.Legend at 0x7f542f7cadd0>"
            ]
          },
          "metadata": {
            "tags": []
          },
          "execution_count": 47
        },
        {
          "output_type": "display_data",
          "data": {
            "image/png": "[encoded data removed]",
            "text/plain": [
              "<Figure size 1440x360 with 2 Axes>"
            ]
          },
          "metadata": {
            "tags": []
          }
        }
      ]
    },
    {
      "cell_type": "markdown",
      "metadata": {
        "id": "BqnhNIuIIX-x"
      },
      "source": [
        "The optimized Fast ALS reaches a plateau performance slightly above $0.5$ for the Hit Ratio and around $0.14$ for the NDCG on the dataset. Those performances are now way better than the ALS, whether it is by comparing those two metrics or the time complexity. Those results are the same than in the paper with respect to the different datasets used.\n",
        "\n",
        "However, it is worth mentionning that the results obtained here appear to be less stable in the first dozen iterations than in the suboptimal hyperparameters choice."
      ]
    },
    {
      "cell_type": "markdown",
      "metadata": {
        "id": "i6nvk8HLkw0C"
      },
      "source": [
        "## **4.2 Experiments on the Yelp ratings Dataset**\n",
        "\n",
        "In the second part, we experiment on the Yelp ratings dataset, which compiles over 700k ratings made by 25k users over 25k items.\n",
        "\n",
        "Unlike the previous dataset, the Yelp dataset has to property to have a high sparsity level.\n",
        "\n",
        "For time computing constraints considerations, we choose to process only half of the dataset by subsampling the first half of the interactions and consider only the performance after convergence. Indeed, the dataset size doesn't allow us to compute in a reasonable time the metrics at each iteration.\n",
        "\n",
        "As for the previous dataset, the same preprocessing and train/test split is applied here."
      ]
    },
    {
      "cell_type": "markdown",
      "metadata": {
        "id": "riKv_PCteroZ"
      },
      "source": [
        "### **4.2.1 Downloading**\n",
        "\n",
        "Here we download and load the full dataset."
      ]
    },
    {
      "cell_type": "code",
      "metadata": {
        "colab": {
          "base_uri": "https://localhost:8080/"
        },
        "id": "Bn8Vn6Rd1C37",
        "outputId": "e21238cf-1d34-45a5-ef17-1d727208a2fe"
      },
      "source": [
        "!wget https://raw.githubusercontent.com/hexiangnan/sigir16-eals/master/data/yelp.rating"
      ],
      "execution_count": null,
      "outputs": [
        {
          "output_type": "stream",
          "text": [
            "--2021-03-24 16:47:28--  https://raw.githubusercontent.com/hexiangnan/sigir16-eals/master/data/yelp.rating\n",
            "Resolving raw.githubusercontent.com (raw.githubusercontent.com)... 185.199.108.133, 185.199.109.133, 185.199.110.133, ...\n",
            "Connecting to raw.githubusercontent.com (raw.githubusercontent.com)|185.199.108.133|:443... connected.\n",
            "HTTP request sent, awaiting response... 200 OK\n",
            "Length: 18767261 (18M) [text/plain]\n",
            "Saving to: ‘yelp.rating’\n",
            "\n",
            "yelp.rating         100%[===================>]  17.90M  62.5MB/s    in 0.3s    \n",
            "\n",
            "2021-03-24 16:47:30 (62.5 MB/s) - ‘yelp.rating’ saved [18767261/18767261]\n",
            "\n"
          ],
          "name": "stdout"
        }
      ]
    },
    {
      "cell_type": "code",
      "metadata": {
        "id": "LJR4X_TO1JoG"
      },
      "source": [
        "yelp_df = pd.read_csv('yelp.rating', delimiter = '\\t', header=None).rename(columns={0 : 'user_id', 1 : 'item_id', 2 : 'rating', 3: 'timestamp'})"
      ],
      "execution_count": null,
      "outputs": []
    },
    {
      "cell_type": "markdown",
      "metadata": {
        "id": "66YjmnxjRnhK"
      },
      "source": [
        "### **4.2.2 Dataset statistics**\n",
        "\n",
        "We observe on the complete dataset a higher level of sparsity (around 0.9989), and a larger numbers of items and users (around 25k for both)."
      ]
    },
    {
      "cell_type": "code",
      "metadata": {
        "colab": {
          "base_uri": "https://localhost:8080/"
        },
        "id": "0Jez5BiB34lu",
        "outputId": "72f451e0-0321-4844-b1c1-c6abf87a8cde"
      },
      "source": [
        "print('Number of ratings : ', len(yelp_df))\n",
        "print('Number of items :   ', len(yelp_df.item_id.unique()))\n",
        "print('Number of users :   ', len(yelp_df.user_id.unique()))\n",
        "print('Sparsity level :     {:0.4f}'.format(1 - len(yelp_df)/( len(yelp_df.item_id.unique())*len(yelp_df.user_id.unique()))))"
      ],
      "execution_count": null,
      "outputs": [
        {
          "output_type": "stream",
          "text": [
            "Number of ratings :  731671\n",
            "Number of items :    25815\n",
            "Number of users :    25677\n",
            "Sparsity level :     0.9989\n"
          ],
          "name": "stdout"
        }
      ]
    },
    {
      "cell_type": "markdown",
      "metadata": {
        "id": "q_Uq8cKYUlZO"
      },
      "source": [
        "### **4.2.3 Subsampling the dataset**\n",
        "\n",
        "Considering computation time constraints, we only consider the first half of the complete dataset interactions."
      ]
    },
    {
      "cell_type": "code",
      "metadata": {
        "id": "0oAtBIYcSQ-y"
      },
      "source": [
        "len_max = int(len(yelp_df)/2)\n",
        "data_yelp = yelp_df[: len_max]"
      ],
      "execution_count": null,
      "outputs": []
    },
    {
      "cell_type": "markdown",
      "metadata": {
        "id": "g7rmrLaGdDy5"
      },
      "source": [
        "We observe on subsampled datasets less users (around 10k) and equivalent number of items (around 21k). Moreover, the sparsity remains similar (around 0.9983).\n",
        "\n",
        "In the following, we set $M_{\\text{yelp}}$ and $N_{\\text{yelp}}$ respectively equal to the number of users and items of the yelp dataset."
      ]
    },
    {
      "cell_type": "code",
      "metadata": {
        "colab": {
          "base_uri": "https://localhost:8080/"
        },
        "id": "yINavgh8St2G",
        "outputId": "071d5ed8-ebc4-4d09-f5dd-ed82902616cc"
      },
      "source": [
        "print('Number of ratings : ', len(data_yelp))\n",
        "print('Number of items :   ', len(data_yelp.item_id.unique()))\n",
        "print('Number of users :   ', len(data_yelp.user_id.unique()))\n",
        "print('Sparsity level :     {:0.4f}'.format(1 - len(data_yelp)/( len(data_yelp.item_id.unique())*len(data_yelp.user_id.unique()))))"
      ],
      "execution_count": null,
      "outputs": [
        {
          "output_type": "stream",
          "text": [
            "Number of ratings :  365835\n",
            "Number of items :    21983\n",
            "Number of users :    9905\n",
            "Sparsity level :     0.9983\n"
          ],
          "name": "stdout"
        }
      ]
    },
    {
      "cell_type": "markdown",
      "metadata": {
        "id": "FAgsbyGQMACD"
      },
      "source": [
        "The following cell prepares the subsampled dataset for the following section."
      ]
    },
    {
      "cell_type": "code",
      "metadata": {
        "colab": {
          "base_uri": "https://localhost:8080/",
          "height": 269,
          "referenced_widgets": [
            "c11681d539db4dd4ba94a7f4f7fc36bf",
            "7cf60748e49f4a0fb2206a17f51487fc",
            "73a1c05bd8964cf4a380bdcde2220c97",
            "333044ee7c454357973d5d5d9110b050",
            "307ac5450a724133bc0345f3fd03998d",
            "cc1afc6ad18b4f4d89d4fbb0da174884",
            "57f2c258c5a040c8b0db8ed0e7ed0c33",
            "3ad0eb2cb44a4490a9a5d51f6e84e00f",
            "f4ceecb937ff478b83fb418e585e4d70",
            "d5533078f52142cbb2d38fd2a45b117a",
            "cfa33c7ac01241cf829cd5b26511364b",
            "eeff81c7b0ce46ffafc8eeb0ce6b0bf1",
            "5cc1173e9dbd4a4d9d474352e5ad75ea",
            "cc27287198e34dc191a65003b6e5a77a",
            "77621497dbcf46b5af975e16e4a5c44b",
            "ecd232dd8427468c9ae83a166bfacf04",
            "89545b30e1714e9587f948fe41f42f37",
            "ffd8cc0851174591a8b1aead5a130347",
            "691d76b76c6f4018b579289e090ea1cc",
            "4a4509aab8134572939e69cd217be00b",
            "3e686638047b44fc92a480d614e479f9",
            "5e76ecc6598541cd8a333a8e84cd406f",
            "bff89b16f76e43a094092ad16b05c630",
            "f74614b4e8ad44909dd7d2f46d30e9a3",
            "73cae76ae2f8446da45120ee2bca6236",
            "73de556efd32434a91fd3ad258b73635",
            "a3ff8757962c499da521f324a0fddfb8",
            "4c997cadf6694bee95269203fa84d872",
            "37d7320a21de4f9ba78778a8b5fdc372",
            "68cd95899884427bab2587b57b69a9e2",
            "05c3d065667647b687dcbda6812172a1",
            "65548628ebff42baa2795a5d0a923e00",
            "a7ed3f7f60214364a4f8fc78f06ab92c",
            "39c8b3b6c9874a13a523b85dca87acc2",
            "dd6bb7291ff4463c907469421acbb3bf",
            "aeb1fc3425d14de1a84af7f0afdfac6a",
            "841d4ec398c545b8a593de30048232c5",
            "0ce47f655c174999a7a288445564c603",
            "1a7e4e718d00461b8df45c609571e15f",
            "96e84fcb83914ab2b887185e9b7e2a49"
          ]
        },
        "id": "BMw3JmP60ptf",
        "outputId": "d1e46ecc-b18b-4974-ee80-187c1dbf7cf8"
      },
      "source": [
        "n_users_yelp = len(data_yelp.user_id.unique())\n",
        "n_items_yelp = len(data_yelp.item_id.unique())\n",
        "\n",
        "data_train_yelp = pd.DataFrame(columns=['user_id', 'item_id', 'rating', 'timestamp'])\n",
        "data_test_yelp = pd.DataFrame(columns=['user_id', 'item_id', 'rating', 'timestamp'])\n",
        "\n",
        "for u in tqdm(data_yelp.user_id.unique()):\n",
        "  frame = data_yelp[data_yelp.user_id == u]\n",
        "  data_train_yelp = data_train_yelp.append(frame.iloc[:-1])\n",
        "  data_test_yelp = data_test_yelp.append(frame.iloc[-1])\n",
        "\n",
        "user_to_idx_yelp = {}\n",
        "item_to_idx_yelp = {}\n",
        "\n",
        "for i, id in enumerate(data_yelp.user_id.unique()):\n",
        "  user_to_idx_yelp[id] = i\n",
        "\n",
        "for j, id in enumerate(data_yelp.item_id.unique()):\n",
        "  item_to_idx_yelp[id] = j\n",
        "\n",
        "test_items_yelp = np.zeros(n_users_yelp)\n",
        "\n",
        "for i in tqdm(range(len(data_test_yelp))):\n",
        "  user_id, item_id = data_test_yelp.iloc[i]['user_id'], data_test_yelp.iloc[i]['item_id']\n",
        "  idx_u, idx_i = user_to_idx_yelp[user_id], item_to_idx_yelp[item_id]\n",
        "  test_items_yelp[idx_u] = np.int64(idx_i)\n",
        "\n",
        "test_items_yelp = test_items_yelp.tolist()\n",
        "\n",
        "shape = n_items_yelp, n_users_yelp\n",
        "tuples = []\n",
        "\n",
        "for i in tqdm(range(len(data_train_yelp))):\n",
        "  user_id, item_id = data_train_yelp.iloc[i].user_id, data_train_yelp.iloc[i].item_id\n",
        "  idx_u, idx_i = user_to_idx_yelp[user_id], item_to_idx_yelp[item_id]\n",
        "  tuples.append((idx_i, idx_u))\n",
        "\n",
        "#enlever doublons\n",
        "tuples = set(tuples)\n",
        "\n",
        "r = [x for (x, y) in tuples] # x_coordinate\n",
        "c = [y for (x, y) in tuples] # y_coordinate\n",
        "\n",
        "yelp_data = [1] * len(r)\n",
        "\n",
        "train_matrix_yelp = sparse.csr_matrix((yelp_data, (r, c)), shape=shape)\n",
        "\n",
        "user_lists_train_yelp = [np.int64(sparse.find(train_matrix_yelp[i, :])[1]) for i in tqdm(range(n_items_yelp))]\n",
        "item_lists_train_yelp = [np.int64(sparse.find(train_matrix_yelp[:, u])[0]) for u in tqdm(range(n_users_yelp))]"
      ],
      "execution_count": null,
      "outputs": [
        {
          "output_type": "display_data",
          "data": {
            "application/vnd.jupyter.widget-view+json": {
              "model_id": "c11681d539db4dd4ba94a7f4f7fc36bf",
              "version_major": 2,
              "version_minor": 0
            },
            "text/plain": [
              "HBox(children=(FloatProgress(value=0.0, max=9905.0), HTML(value='')))"
            ]
          },
          "metadata": {
            "tags": []
          }
        },
        {
          "output_type": "stream",
          "text": [
            "\n"
          ],
          "name": "stdout"
        },
        {
          "output_type": "display_data",
          "data": {
            "application/vnd.jupyter.widget-view+json": {
              "model_id": "f4ceecb937ff478b83fb418e585e4d70",
              "version_major": 2,
              "version_minor": 0
            },
            "text/plain": [
              "HBox(children=(FloatProgress(value=0.0, max=9905.0), HTML(value='')))"
            ]
          },
          "metadata": {
            "tags": []
          }
        },
        {
          "output_type": "stream",
          "text": [
            "\n"
          ],
          "name": "stdout"
        },
        {
          "output_type": "display_data",
          "data": {
            "application/vnd.jupyter.widget-view+json": {
              "model_id": "89545b30e1714e9587f948fe41f42f37",
              "version_major": 2,
              "version_minor": 0
            },
            "text/plain": [
              "HBox(children=(FloatProgress(value=0.0, max=355930.0), HTML(value='')))"
            ]
          },
          "metadata": {
            "tags": []
          }
        },
        {
          "output_type": "stream",
          "text": [
            "\n"
          ],
          "name": "stdout"
        },
        {
          "output_type": "display_data",
          "data": {
            "application/vnd.jupyter.widget-view+json": {
              "model_id": "73cae76ae2f8446da45120ee2bca6236",
              "version_major": 2,
              "version_minor": 0
            },
            "text/plain": [
              "HBox(children=(FloatProgress(value=0.0, max=21983.0), HTML(value='')))"
            ]
          },
          "metadata": {
            "tags": []
          }
        },
        {
          "output_type": "stream",
          "text": [
            "\n"
          ],
          "name": "stdout"
        },
        {
          "output_type": "display_data",
          "data": {
            "application/vnd.jupyter.widget-view+json": {
              "model_id": "a7ed3f7f60214364a4f8fc78f06ab92c",
              "version_major": 2,
              "version_minor": 0
            },
            "text/plain": [
              "HBox(children=(FloatProgress(value=0.0, max=9905.0), HTML(value='')))"
            ]
          },
          "metadata": {
            "tags": []
          }
        },
        {
          "output_type": "stream",
          "text": [
            "\n"
          ],
          "name": "stdout"
        }
      ]
    },
    {
      "cell_type": "markdown",
      "metadata": {
        "id": "8In8klUCe4QK"
      },
      "source": [
        "### **4.2.4 Experimentations**\n",
        "\n",
        "In this section, we want to compare again the performances of the implemented methods, but here the dataset is considerably larger, even if it is subsampled.\n",
        "\n",
        "We therefore compare the performances with 32 latent factors, and add a time measurement to quickly see the impact of the increased dataset size. The fast eALS hyperparameters of the previous section are kept there for simplification of the computation time, as explained hereafter."
      ]
    },
    {
      "cell_type": "code",
      "metadata": {
        "colab": {
          "base_uri": "https://localhost:8080/"
        },
        "id": "A9qcKmCkT-CX",
        "outputId": "0cd55312-cc62-4467-ea79-dc50ba1761de"
      },
      "source": [
        "n_factors = 32\n",
        "print(\"Running ALS ...\")\n",
        "als = ALS(n_users_yelp, n_items_yelp, n_factors, w0 = 0.001)\n",
        "start_time_als = time.time()\n",
        "als.fit(user_lists_train_yelp, item_lists_train_yelp, test_items_yelp, 10, False)\n",
        "end_time_als = time.time()\n",
        "print(\"Done in {:.02f} seconds\".format(end_time_als - start_time_als))\n",
        "print(\"Running fast eALS ...\")\n",
        "fast_als = fast_eALS(n_users_yelp, n_items_yelp, n_factors, c0 = 64, reg = 0.02, alpha = 0.5)\n",
        "start_time_eals = time.time()\n",
        "fast_als.fit(user_lists_train_yelp, item_lists_train_yelp, test_items_yelp, 30, False)\n",
        "end_time_eals = time.time()\n",
        "print(\"Done in {:.02f} seconds\".format(end_time_eals - start_time_eals))"
      ],
      "execution_count": null,
      "outputs": [
        {
          "output_type": "stream",
          "text": [
            "Running ALS ...\n",
            "Done in 62.10 seconds\n",
            "Running fast eALS ...\n",
            "Done in 22.64 seconds\n"
          ],
          "name": "stdout"
        }
      ]
    },
    {
      "cell_type": "code",
      "metadata": {
        "colab": {
          "base_uri": "https://localhost:8080/"
        },
        "id": "jXG-mSgQ7HJB",
        "outputId": "ef7dfaf3-606b-40a5-9115-0c73ba122e6b"
      },
      "source": [
        "print(\"Running ALS metrics ...\")\n",
        "start_time_als_m = time.time()\n",
        "hit_ratio_als, ncdg_als = als.compute_metrics(test_items_yelp)\n",
        "end_time_als_m = time.time()\n",
        "print(\"Done in {:.02f} seconds\".format(end_time_als_m - start_time_als_m))\n",
        "print(\"Running fast eALS metrics ...\")\n",
        "start_time_eals_m = time.time()\n",
        "hit_ratio_fast_als, ncdg_fast_als = fast_als.compute_metrics(test_items_yelp, 100)\n",
        "end_time_eals_m = time.time()\n",
        "print(\"Done in {:.02f} seconds\".format(end_time_eals_m - start_time_eals_m))"
      ],
      "execution_count": null,
      "outputs": [
        {
          "output_type": "stream",
          "text": [
            "Running ALS metrics ...\n",
            "Done in 94.14 seconds\n",
            "Running fast eALS metrics ...\n",
            "Done in 93.92 seconds\n"
          ],
          "name": "stdout"
        }
      ]
    },
    {
      "cell_type": "markdown",
      "metadata": {
        "id": "Yy5p90Mv17dU"
      },
      "source": [
        "Here we can observe that the ALS and fast eALS are quite fast to compute compared to the metrics computation, which takes several minutes to finish. The metrics are here more complicated to track, so we focus on the final metrics only and do not focus on finetuning the hyperparameters for example."
      ]
    },
    {
      "cell_type": "code",
      "metadata": {
        "colab": {
          "base_uri": "https://localhost:8080/"
        },
        "id": "6PpJGyaGa2M1",
        "outputId": "95548010-8aa5-480d-8163-108e4b77c926"
      },
      "source": [
        "print(\"            Hit-Ratio      NDCG\")\n",
        "print('ALS         {:04f}       {:04f}'.format(hit_ratio_als, ncdg_als))\n",
        "print('Fast eALS   {:04f}       {:04f}'.format(hit_ratio_fast_als, ncdg_fast_als))"
      ],
      "execution_count": null,
      "outputs": [
        {
          "output_type": "stream",
          "text": [
            "            Hit-Ratio      NDCG\n",
            "ALS         0.016759       0.003215\n",
            "Fast ALS    0.038163       0.007515\n"
          ],
          "name": "stdout"
        }
      ]
    },
    {
      "cell_type": "markdown",
      "metadata": {
        "id": "0wNp9k-UatJ4"
      },
      "source": [
        "However, both methods reache good performances on this dataset too, by overperforming again the naive baseline for Hit-ratio ($\\frac{100}{N_{\\text{yelp}}} \\approx 0.0045$). Once again, the fast eALS method achieves better performances than the ALS after convergence, which demonstrates the better efficiency of this method."
      ]
    },
    {
      "cell_type": "markdown",
      "metadata": {
        "id": "IqLVh--na7OQ"
      },
      "source": [
        "## **4.3 Time complexity analysis**\n",
        "\n",
        "The objective of this section is to study and compare the time complexity of both methods.\n",
        "\n",
        "Let's recall the theoric time complexity : considering $M$ the number of items, $N$ the number of users, $K$ the number of latent factors and $|\\mathcal{R}|$ the number of interactions .\n",
        "* ALS : $O ((M+N)K^3 + |\\mathcal{R}|K^2)$\n",
        "* Fast ALS : $O((M+N)K^2+|\\mathcal{R}|K)$\n",
        "\n",
        "To study the influence of each term, we will then consider 3 different datasets: \n",
        "*   MovieLens Dataset containing around 100k interactions between around 1k users and 1k items.\n",
        "*   Yelp dataset containing around 350k interactions between around 10k users and 20k items\n",
        "*   Yelp 100k Dataset containing 100k interactions between around 10k users and 20k items.\n",
        "\n",
        "The Yelp 100k dataset is simply a subsample of the Yelp dataset but chosen to have the same number of interactions than the MovieLens Dataset, and the same number of user and items than the Yelp Dataset so as to study influence of $|\\mathcal{R}|$ and $(M+N)$ terms over varying number of factors $K$.\n",
        "\n",
        "The next cell defines a helper function.\n"
      ]
    },
    {
      "cell_type": "code",
      "metadata": {
        "id": "SXHvzvZC4rdu"
      },
      "source": [
        "def compute_iteration_time(model, data_id = 'movielens'):\n",
        "  if data_id == 'movielens':\n",
        "    start = time.time()\n",
        "    model.fit(user_lists_train_100k, item_lists_train_100k, None, 1, False)\n",
        "    return time.time() - start\n",
        "  \n",
        "  if data_id == 'yelp':\n",
        "    start = time.time()\n",
        "    model.fit(user_lists_train_yelp, item_lists_train_yelp, None, 1, False)\n",
        "    return time.time() - start\n",
        "\n",
        "  if data_id == 'yelp100k':\n",
        "    start = time.time()\n",
        "    model.fit(user_lists_train_yelp_100k, item_lists_train_yelp_100k, None, 1, False)\n",
        "    return time.time() - start\n",
        "\n",
        "  else:\n",
        "    return 'Data_id error'"
      ],
      "execution_count": null,
      "outputs": []
    },
    {
      "cell_type": "markdown",
      "metadata": {
        "id": "ROB-fsRvndil"
      },
      "source": [
        "### **4.3.1 Creation of the 100k subsample Yelp dataset**\n",
        "\n",
        "Here we create the only missing dataset."
      ]
    },
    {
      "cell_type": "code",
      "metadata": {
        "colab": {
          "base_uri": "https://localhost:8080/"
        },
        "id": "aVP1d-OTmBiS",
        "outputId": "d6b3ba21-5b4a-4d6a-8c6b-f3412ba5fdda"
      },
      "source": [
        "print(f'Number of users YELP : {n_users_yelp}')\n",
        "print(f'Number of items YELP : {n_items_yelp}')"
      ],
      "execution_count": null,
      "outputs": [
        {
          "output_type": "stream",
          "text": [
            "Number of users YELP : 9905\n",
            "Number of items YELP : 21983\n"
          ],
          "name": "stdout"
        }
      ]
    },
    {
      "cell_type": "code",
      "metadata": {
        "colab": {
          "base_uri": "https://localhost:8080/",
          "height": 218,
          "referenced_widgets": [
            "8900d8a1d9a540c7afcb9baf8ab05c3f",
            "6f0231c655a3462babb35d4e39ef632f",
            "53c58fbe1fd84e58990f3b32359716d2",
            "8eaa7fe5f8e74904b35ded014f98853a",
            "652c380d8f634d5991f606f420468c83",
            "1ec3c2485a0f4715b94e477c661dcc66",
            "352a40a16c1b49d381df09eb54bf44f5",
            "5e828caba1e34801a68c67232b965547",
            "2471601a93c04de094ffad2d30912e11",
            "e126c1dbd498461a8d347821b87397e7",
            "cc2a26da4c05478880cb371665b3c551",
            "3d974899660c4f85b703ca724287e32e",
            "0955b200f7a241ff8092b0d645d076f4",
            "e011ea912676435990657a75958dbc5d",
            "90fd3e7c35054d4bab613fb3a9fa69a4",
            "7179606fa6bd4edfbeedb693b8214dbd",
            "6795db8721f0497d9a72a584e2d5be45",
            "27ec2afdbaf54d71abf07393e19b445c",
            "03e8498838174c75b3c36e92b7d1df41",
            "7f3e8586a72c461aaf11c583cfc4d81e",
            "8b30a734db604959be7651c19895f782",
            "0a84b56e6bed481ea66af58f8483c53e",
            "3b8c9c7944c64c7fa16b7b0d102f3ec4",
            "5a154a7760024ce9ad8355114f61cec3",
            "ccac17f147fc43249eed5bac4a084fb6",
            "c3fdf27348db4694bc6c07633fbb514d",
            "a892059b70f3453aabe3e7686c72a15a",
            "b3dae2ff315047d0b27dcee90ce58f6b",
            "9cc3c86692094dbf85891a8c9147e31e",
            "1a605ff5cfa84ae19b2b3e8e0d6fab96",
            "ffb54960b1464a9bbab798ba53efc718",
            "321eab88d045402d91e790389ce823a7"
          ]
        },
        "id": "tJWub0holUqu",
        "outputId": "a5ed80fb-283a-4142-8cf7-5abc780c9f9e"
      },
      "source": [
        "data_yelp_100k = yelp_df[: int(1e5)]\n",
        "\n",
        "data_train_yelp_100k = pd.DataFrame(columns=['user_id', 'item_id', 'rating', 'timestamp'])\n",
        "data_test_yelp_100k = pd.DataFrame(columns=['user_id', 'item_id', 'rating', 'timestamp'])\n",
        "\n",
        "for u in tqdm(data_yelp_100k.user_id.unique()):\n",
        "  frame = data_yelp_100k[data_yelp_100k.user_id == u]\n",
        "  data_train_yelp_100k = data_train_yelp_100k.append(frame.iloc[:-1])\n",
        "  data_test_yelp_100k = data_test_yelp_100k.append(frame.iloc[-1])\n",
        "\n",
        "user_to_idx = {}\n",
        "item_to_idx = {}\n",
        "\n",
        "for i, id in enumerate(data_train_yelp['user_id'].unique()):\n",
        "  user_to_idx[id] = i\n",
        "\n",
        "for j, id in enumerate(data_train_yelp['item_id'].unique()):\n",
        "  item_to_idx[id] = j\n",
        "\n",
        "shape = n_items_yelp, n_users_yelp\n",
        "\n",
        "tuples = []\n",
        "\n",
        "for i in tqdm(range(len(data_train_yelp_100k))):\n",
        "  user_id, item_id = data_train_yelp_100k.iloc[i]['user_id'], data_train_yelp_100k.iloc[i]['item_id']\n",
        "  idx_u, idx_i = user_to_idx[user_id], item_to_idx[item_id]\n",
        "  tuples.append((idx_i, idx_u))\n",
        "\n",
        "#discard duplicates\n",
        "tuples = set(tuples)\n",
        "\n",
        "r = [x for (x, y) in tuples] # x_coordinate\n",
        "c = [y for (x, y) in tuples] # y_coordinate\n",
        "\n",
        "data_tuples = [1] * len(r)\n",
        "\n",
        "train_matrix_yelp_100k = sparse.csr_matrix((data_tuples, (r, c)), shape=shape)\n",
        "\n",
        "user_lists_train_yelp_100k = [np.int64(sparse.find(train_matrix_yelp_100k[i, :])[1]) for i in tqdm(range(n_items_yelp))]\n",
        "item_lists_train_yelp_100k = [np.int64(sparse.find(train_matrix_yelp_100k[:, u])[0]) for u in tqdm(range(n_users_yelp))]"
      ],
      "execution_count": null,
      "outputs": [
        {
          "output_type": "display_data",
          "data": {
            "application/vnd.jupyter.widget-view+json": {
              "model_id": "8900d8a1d9a540c7afcb9baf8ab05c3f",
              "version_major": 2,
              "version_minor": 0
            },
            "text/plain": [
              "HBox(children=(FloatProgress(value=0.0, max=2668.0), HTML(value='')))"
            ]
          },
          "metadata": {
            "tags": []
          }
        },
        {
          "output_type": "stream",
          "text": [
            "\n"
          ],
          "name": "stdout"
        },
        {
          "output_type": "display_data",
          "data": {
            "application/vnd.jupyter.widget-view+json": {
              "model_id": "2471601a93c04de094ffad2d30912e11",
              "version_major": 2,
              "version_minor": 0
            },
            "text/plain": [
              "HBox(children=(FloatProgress(value=0.0, max=97332.0), HTML(value='')))"
            ]
          },
          "metadata": {
            "tags": []
          }
        },
        {
          "output_type": "stream",
          "text": [
            "\n"
          ],
          "name": "stdout"
        },
        {
          "output_type": "display_data",
          "data": {
            "application/vnd.jupyter.widget-view+json": {
              "model_id": "6795db8721f0497d9a72a584e2d5be45",
              "version_major": 2,
              "version_minor": 0
            },
            "text/plain": [
              "HBox(children=(FloatProgress(value=0.0, max=21983.0), HTML(value='')))"
            ]
          },
          "metadata": {
            "tags": []
          }
        },
        {
          "output_type": "stream",
          "text": [
            "\n"
          ],
          "name": "stdout"
        },
        {
          "output_type": "display_data",
          "data": {
            "application/vnd.jupyter.widget-view+json": {
              "model_id": "ccac17f147fc43249eed5bac4a084fb6",
              "version_major": 2,
              "version_minor": 0
            },
            "text/plain": [
              "HBox(children=(FloatProgress(value=0.0, max=9905.0), HTML(value='')))"
            ]
          },
          "metadata": {
            "tags": []
          }
        },
        {
          "output_type": "stream",
          "text": [
            "\n"
          ],
          "name": "stdout"
        }
      ]
    },
    {
      "cell_type": "markdown",
      "metadata": {
        "id": "oR2WZs-4wlCL"
      },
      "source": [
        "### **4.3.2 Computing computation times for every datasets**\n",
        "\n",
        "This section is dedicated to the calculation of the computation times for different models, datasets, and latent factors."
      ]
    },
    {
      "cell_type": "code",
      "metadata": {
        "colab": {
          "base_uri": "https://localhost:8080/",
          "height": 67,
          "referenced_widgets": [
            "0e4fa01d13304f84983ff3cd422d3e20",
            "522bf2eb36074b4e95cc347a24f5f513",
            "38637267691f4cd3bc2890cac53b257d",
            "13ba6b9af7254a3192a6d58fa768418e",
            "37c94aa6c22a48b39c1b1d36472d2f93",
            "dd7ec7b393134fdf9816313c8fea6a5b",
            "d7cb6bc2ab7a489f8b7dd066f528018e",
            "0b75e77d592f4354a3091ec2af5bea73"
          ]
        },
        "id": "9fHpEU0qDOj-",
        "outputId": "b669cab4-ea6c-4a2a-da9a-8a86fba1f371"
      },
      "source": [
        "fast_als_time_complexity_100k = []\n",
        "als_time_complexity_100k = []\n",
        "\n",
        "fast_als_time_complexity_yelp_100k = []\n",
        "als_time_complexity_yelp_100k = []\n",
        "\n",
        "fast_als_time_complexity_yelp = []\n",
        "als_time_complexity_yelp = []\n",
        "\n",
        "n_factors_list = [10, 20, 30, 50, 80, 100, 150]\n",
        "\n",
        "for factor in tqdm(n_factors_list):\n",
        "\n",
        "  als_100k = ALS(n_users_100k, n_items_100k, factor)\n",
        "  fast_als_100k = fast_eALS(n_users_100k, n_items_100k, factor)\n",
        "\n",
        "  als_time_complexity_100k.append(compute_iteration_time(als_100k, data_id = 'movielens'))\n",
        "  fast_als_time_complexity_100k.append(compute_iteration_time(fast_als_100k, data_id = 'movielens'))\n",
        "\n",
        "  als_yelp = ALS(n_users_yelp, n_items_yelp, factor)\n",
        "  fast_als_yelp = fast_eALS(n_users_yelp, n_items_yelp, factor)\n",
        "\n",
        "  als_time_complexity_yelp_100k.append(compute_iteration_time(als_yelp, data_id = 'yelp100k'))\n",
        "  fast_als_time_complexity_yelp_100k.append(compute_iteration_time(fast_als_yelp, data_id = 'yelp100k'))\n",
        "\n",
        "  als_yelp = ALS(n_users_yelp, n_items_yelp, factor)\n",
        "  fast_als_yelp = fast_eALS(n_users_yelp, n_items_yelp, factor)\n",
        "\n",
        "  als_time_complexity_yelp.append(compute_iteration_time(als_yelp, data_id = 'yelp'))\n",
        "  fast_als_time_complexity_yelp.append(compute_iteration_time(fast_als_yelp, data_id = 'yelp'))"
      ],
      "execution_count": null,
      "outputs": [
        {
          "output_type": "display_data",
          "data": {
            "application/vnd.jupyter.widget-view+json": {
              "model_id": "0e4fa01d13304f84983ff3cd422d3e20",
              "version_major": 2,
              "version_minor": 0
            },
            "text/plain": [
              "HBox(children=(FloatProgress(value=0.0, max=7.0), HTML(value='')))"
            ]
          },
          "metadata": {
            "tags": []
          }
        },
        {
          "output_type": "stream",
          "text": [
            "\n"
          ],
          "name": "stdout"
        }
      ]
    },
    {
      "cell_type": "markdown",
      "metadata": {
        "id": "7aZjAql50nQJ"
      },
      "source": [
        "### **4.3.3 Computation times vs methods**\n",
        "\n",
        "We compare here the computation times for both methods over each dataset separately."
      ]
    },
    {
      "cell_type": "code",
      "metadata": {
        "colab": {
          "base_uri": "https://localhost:8080/",
          "height": 231
        },
        "id": "AmftaG7F0wzY",
        "outputId": "2f3e9b4b-33d4-4005-c767-5936d4b64bef"
      },
      "source": [
        "fig, (ax1, ax2, ax3) = plt.subplots(1, 3, figsize = (30, 5))\n",
        "\n",
        "ax1.plot(n_factors_list, als_time_complexity_100k, marker = '.', label = 'ALS')\n",
        "ax1.plot(n_factors_list, fast_als_time_complexity_100k, marker = '.', label = 'Fast ALS')\n",
        "ax1.legend()\n",
        "ax1.set_xlabel('Number of latent factors')\n",
        "ax1.set_ylabel('Seconds')\n",
        "ax1.set_title('Computation time for both methods on MovieLens 100k')\n",
        "\n",
        "ax2.plot(n_factors_list, als_time_complexity_yelp_100k, marker = '.', label = 'ALS')\n",
        "ax2.plot(n_factors_list, fast_als_time_complexity_yelp_100k, marker = '.', label = 'Fast ALS')\n",
        "ax2.legend()\n",
        "ax2.set_xlabel('Number of latent factors')\n",
        "ax2.set_ylabel('Seconds')\n",
        "ax2.set_title('Computation time for both methods on Yelp 100k dataset')\n",
        "\n",
        "ax3.plot(n_factors_list, als_time_complexity_yelp, marker = '.', label = 'ALS')\n",
        "ax3.plot(n_factors_list, fast_als_time_complexity_yelp, marker = '.', label = 'Fast ALS')\n",
        "ax3.legend()\n",
        "ax3.set_xlabel('Number of latent factors')\n",
        "ax3.set_ylabel('Seconds')\n",
        "ax3.set_title('Computation time for both methods on Yelp  350k dataset')\n",
        "\n",
        "plt.show()"
      ],
      "execution_count": null,
      "outputs": [
        {
          "output_type": "display_data",
          "data": {
            "image/png": "[encoded data removed]",
            "text/plain": [
              "<Figure size 2160x360 with 3 Axes>"
            ]
          },
          "metadata": {
            "tags": []
          }
        }
      ]
    },
    {
      "cell_type": "markdown",
      "metadata": {
        "id": "s2IihyTy2Pts"
      },
      "source": [
        "We can see that Fast eALS methods clearly outperforms ALS in terms of computation time over every datasets. These graphs demonstrate the key advantage of Fast eALS in speeding-up the algorithm computation, especially when the complexity of the model (number of latent factors) increases."
      ]
    },
    {
      "cell_type": "markdown",
      "metadata": {
        "id": "N7LibtvcgKAR"
      },
      "source": [
        "### **4.3.4 Computation time vs varying size of number and items.**\n",
        "\n",
        "We compare here the computation times for both methods over Yelp100k dataset and MovieLens dataset, ie dataset having same number of interactions but varying number of items and users. We study separately the influence of the varying terms for each method."
      ]
    },
    {
      "cell_type": "code",
      "metadata": {
        "colab": {
          "base_uri": "https://localhost:8080/",
          "height": 334
        },
        "id": "Jc9nliu-wIzT",
        "outputId": "a85d4b58-15f4-4278-9327-39dab07cb7e6"
      },
      "source": [
        "fig, (ax1, ax2) = plt.subplots(1, 2, figsize = (20, 5))\n",
        "\n",
        "ax1.plot(n_factors_list, als_time_complexity_100k, marker = '.', label = 'ALS Movielens 100k')\n",
        "ax1.plot(n_factors_list, als_time_complexity_yelp_100k, marker = '.', label = 'ALS Yelp 100k')\n",
        "ax1.legend()\n",
        "ax1.set_xlabel('Number of latent factors')\n",
        "ax1.set_ylabel('Seconds')\n",
        "ax1.set_title('Computation time for Standard ALS over varying number of Items and Users')\n",
        "\n",
        "ax2.plot(n_factors_list, fast_als_time_complexity_100k, marker = '.', label = 'FastALS MovieLens 100k')\n",
        "ax2.plot(n_factors_list, fast_als_time_complexity_yelp_100k, marker = '.', label = 'FastALS Yelp 100k')\n",
        "ax2.legend()\n",
        "ax2.set_xlabel('Number of latent factors')\n",
        "ax2.set_ylabel('Seconds')\n",
        "ax2.set_title('Computation time for Fast ALS over varying number of Items and Users')\n",
        "\n",
        "plt.show()"
      ],
      "execution_count": null,
      "outputs": [
        {
          "output_type": "display_data",
          "data": {
            "image/png": "[encoded data removed]",
            "text/plain": [
              "<Figure size 1440x360 with 2 Axes>"
            ]
          },
          "metadata": {
            "tags": []
          }
        }
      ]
    },
    {
      "cell_type": "markdown",
      "metadata": {
        "id": "MbQ12z_gTuEo"
      },
      "source": [
        "Here the factor $(M + N)$ is different for both curves but we have same (approximate) number of interactions meaning that |$\\mathcal{R}$| is identical.\n",
        "\n",
        "We observe as expected a faster-exploding computation time for the standard ALS (at a cube rate) for low latent factors (around 50) while the exploding delay is higly decayed for the Fast eALS method (around 80 latent factors).\n",
        "\n",
        "Moreover we can see that the factor $(M+N)$ is as expected proeminent in computation time for both methods and especially for the Fast eALS in which computation is 6 times longer on Yelp100k dataset compared to the MovieLens dataset."
      ]
    },
    {
      "cell_type": "markdown",
      "metadata": {
        "id": "KentabTPr9se"
      },
      "source": [
        "### **4.3.5 Computation time vs varying number of interactions**\n",
        "\n",
        "We compare here the computation times for both methods over Yelp100k dataset and the complete Yelp dataset, ie datasets having different numbers of interactions but same number of items and users."
      ]
    },
    {
      "cell_type": "code",
      "metadata": {
        "colab": {
          "base_uri": "https://localhost:8080/",
          "height": 611
        },
        "id": "go8qcsAbzKTH",
        "outputId": "d98b7af7-8a16-495b-c714-bbcb1f3447af"
      },
      "source": [
        "fig, ((ax1, ax2)) = plt.subplots(1, 2, figsize = (20, 5))\n",
        "\n",
        "ax1.plot(n_factors_list, als_time_complexity_yelp_100k, marker = '.', label = 'ALS Yelp 100k')\n",
        "ax1.plot(n_factors_list, als_time_complexity_yelp, marker = '.', label = 'ALS Yelp 350k')\n",
        "ax1.legend()\n",
        "ax1.set_xlabel('Number of latent factors')\n",
        "ax1.set_ylabel('Seconds')\n",
        "ax1.set_title('Computation time for Standard ALS over varying number of interactions')\n",
        "\n",
        "ax2.plot(n_factors_list, fast_als_time_complexity_yelp_100k, marker = '.', label = 'FastALS Yelp 100k')\n",
        "ax2.plot(n_factors_list, fast_als_time_complexity_yelp, marker = '.', label = 'FastALS Yelp 350k')\n",
        "ax2.legend()\n",
        "ax2.set_xlabel('Number of latent factors')\n",
        "ax2.set_ylabel('Seconds')\n",
        "ax2.set_title('Computation time for Fast ALS over varying size number of interactions')\n",
        "\n",
        "plt.show()\n",
        "\n",
        "plt.plot(n_factors_list, np.array(fast_als_time_complexity_yelp) -  np.array(fast_als_time_complexity_yelp_100k), marker = '.', label='time difference')\n",
        "plt.legend()\n",
        "plt.xlabel('Number of latent factors')\n",
        "plt.ylabel('Seconds')\n",
        "plt.title('Difference between computation times Fast ALs')\n",
        "\n",
        "plt.show()"
      ],
      "execution_count": null,
      "outputs": [
        {
          "output_type": "display_data",
          "data": {
            "image/png": "[encoded data removed]",
            "text/plain": [
              "<Figure size 1440x360 with 2 Axes>"
            ]
          },
          "metadata": {
            "tags": []
          }
        },
        {
          "output_type": "display_data",
          "data": {
            "image/png": "[encoded data removed]",
            "text/plain": [
              "<Figure size 432x288 with 1 Axes>"
            ]
          },
          "metadata": {
            "tags": []
          }
        }
      ]
    },
    {
      "cell_type": "markdown",
      "metadata": {
        "id": "l0wLDipq2ewr"
      },
      "source": [
        "Here the number of items and users is similar for both curves, meaning that we study the influence of the $|\\mathcal{R}|$ term (which differs between the two datasets).\n",
        "\n",
        "As expected, we can observe that increasing $|\\mathcal{R}|$ provokes a longer computation time. However, as expected, its influence is less proeminent compared to the $(M+N)$ factor.\n",
        "\n",
        "In the particular case of the Fast eALS, we can isolate the influence of this term by substracting the two computation times leading to a theorically $O(K(|\\mathcal{R}_2| - |\\mathcal{R}_1|))$ time complexity (where $|\\mathcal{R}_1|$ and $|\\mathcal{R}_2|$ denotes the respective number of interaction for each dataset). We effectively observe this approximately linear growth of computation time on the last figure."
      ]
    },
    {
      "cell_type": "markdown",
      "metadata": {
        "id": "Sw5FyZSafcZC"
      },
      "source": [
        "## **4.4 Online protocol for Fast eALS**\n",
        "\n",
        "Lastly, as all previous experiments focused on the offline learning procedure, this section is dedicated to the online protocol. This part is supposed to be the most useful for real situations, since it is the one use in pratice.\n",
        "\n",
        "To recreate this particular context, a hold-out is praticed on the last 10% data of the training dataset. Those will be iteratively distilled to the model to simulate the streaming of new user/item interactions. This does not exclude the creation of a new user or a new item.\n",
        "\n",
        "For this section, we use the MovieLens 100k dataset again to get faster experiments.\n",
        "\n"
      ]
    },
    {
      "cell_type": "markdown",
      "metadata": {
        "id": "90hrG-wlCSR-"
      },
      "source": [
        "### **4.4.1 Dataset splitting**\n",
        "\n",
        "Here we split the dataset into two parts separated according to their time of arrival in the dataset. This lowers the number of interactions, but also lowers the number of users and items."
      ]
    },
    {
      "cell_type": "code",
      "metadata": {
        "colab": {
          "base_uri": "https://localhost:8080/"
        },
        "id": "NdaGdBYJdgF8",
        "outputId": "2c3f212d-ed16-4466-9457-47a201bd10b7"
      },
      "source": [
        "data_train_online = data_train_100k[:int(0.9 * len(data_100k))]\n",
        "data_test_online = data_train_100k[int(0.9 * len(data_100k)):]\n",
        "\n",
        "n_items_online = len(data_train_online.item_id.unique())\n",
        "n_users_online = len(data_train_online.user_id.unique())\n",
        "\n",
        "print(f\"Original Dataset :        {n_users_100k} users and {n_items_100k} items\")\n",
        "print(f\"Online Training Dataset : {n_users_online} users and {n_items_online} items\")"
      ],
      "execution_count": null,
      "outputs": [
        {
          "output_type": "stream",
          "text": [
            "Original Dataset :        943 users and 1682 items\n",
            "Online Training Dataset : 862 users and 1677 items\n"
          ],
          "name": "stdout"
        }
      ]
    },
    {
      "cell_type": "code",
      "metadata": {
        "colab": {
          "base_uri": "https://localhost:8080/",
          "height": 168,
          "referenced_widgets": [
            "afae445147f34908816461ad4487f72b",
            "0f24dcd26bb94b3ba4bbbacee7415bc2",
            "fb0f6c37688844f5b6ccada6e86b8875",
            "270b7f078b144b9aa2e832ca7dfa285f",
            "e0a294e56e694e8b8672e06ecb24226f",
            "61abea52a8d345d988e2cc89f98dc7e5",
            "aebfdbed303e425c9d70cb8f61f62b30",
            "e21a0d97a9604ab3aba635b1f88d6ae4",
            "6fa424fc76ce4b099eefd52ff3001be3",
            "d45300d1914f4c3997b2739977c22494",
            "33bd9afa781d487897081307c6529f24",
            "e7519c29bbff4c4e9d5d9cd348bcaee1",
            "bba83fa97ba545e0b8cef152a7035e0a",
            "1208ddf32a9a4a6db06dbda1f8769026",
            "a7d2410eff324388b7a69b5569c03dbe",
            "b89701fc0a6f4731a9881e920c8fbd35",
            "adfda6ce610240bb81c001647742f108",
            "5d9284c609b54894be5471acf640c02d",
            "86bbf358270c4233b6c49a507dba3830",
            "ed2d457b97d641b583feac9eb8e6e662",
            "515e84b36f5548b19b3af009860f1954",
            "dd02fd4f21d04bdfb9d6416c32840304",
            "d00ea2967103475b82d319d7c9f49fe3",
            "d9ea54bdefcb4f29a0ba58121e657925"
          ]
        },
        "id": "IPIir1Y7f8Uk",
        "outputId": "64d22ab3-b34d-41ba-df83-6b26ee507be8"
      },
      "source": [
        "user_to_idx = {}\n",
        "item_to_idx = {}\n",
        "\n",
        "for i, id in enumerate(data_train_100k['user_id'].unique()):\n",
        "  user_to_idx[id] = i\n",
        "\n",
        "for j, id in enumerate(data_train_100k['item_id'].unique()):\n",
        "  item_to_idx[id] = j\n",
        "\n",
        "shape = n_items_100k, n_users_100k\n",
        "\n",
        "tuples = []\n",
        "\n",
        "for i in tqdm(range(len(data_train_online))):\n",
        "  user_id, item_id = data_train_online.iloc[i]['user_id'], data_train_online.iloc[i]['item_id']\n",
        "  idx_u, idx_i = user_to_idx[user_id], item_to_idx[item_id]\n",
        "  tuples.append((idx_i, idx_u))\n",
        "\n",
        "tuples = set(tuples)\n",
        "\n",
        "r = [x for (x, y) in tuples] # x_coordinate\n",
        "c = [y for (x, y) in tuples] # y_coordinate\n",
        "\n",
        "data_tuples_online = [1] * len(r)\n",
        "\n",
        "train_matrix_online = sparse.csr_matrix((data_tuples_online, (r, c)), shape=shape)\n",
        "\n",
        "user_lists_train_online = [np.int64(sparse.find(train_matrix_online[i, :])[1]) for i in tqdm(range(n_items_100k))]\n",
        "item_lists_train_online = [np.int64(sparse.find(train_matrix_online[:, u])[0]) for u in tqdm(range(n_users_100k))]"
      ],
      "execution_count": null,
      "outputs": [
        {
          "output_type": "display_data",
          "data": {
            "application/vnd.jupyter.widget-view+json": {
              "model_id": "afae445147f34908816461ad4487f72b",
              "version_minor": 0,
              "version_major": 2
            },
            "text/plain": [
              "HBox(children=(FloatProgress(value=0.0, max=90000.0), HTML(value='')))"
            ]
          },
          "metadata": {
            "tags": []
          }
        },
        {
          "output_type": "stream",
          "text": [
            "\n"
          ],
          "name": "stdout"
        },
        {
          "output_type": "display_data",
          "data": {
            "application/vnd.jupyter.widget-view+json": {
              "model_id": "6fa424fc76ce4b099eefd52ff3001be3",
              "version_minor": 0,
              "version_major": 2
            },
            "text/plain": [
              "HBox(children=(FloatProgress(value=0.0, max=1682.0), HTML(value='')))"
            ]
          },
          "metadata": {
            "tags": []
          }
        },
        {
          "output_type": "stream",
          "text": [
            "\n"
          ],
          "name": "stdout"
        },
        {
          "output_type": "display_data",
          "data": {
            "application/vnd.jupyter.widget-view+json": {
              "model_id": "adfda6ce610240bb81c001647742f108",
              "version_minor": 0,
              "version_major": 2
            },
            "text/plain": [
              "HBox(children=(FloatProgress(value=0.0, max=943.0), HTML(value='')))"
            ]
          },
          "metadata": {
            "tags": []
          }
        },
        {
          "output_type": "stream",
          "text": [
            "\n"
          ],
          "name": "stdout"
        }
      ]
    },
    {
      "cell_type": "markdown",
      "metadata": {
        "id": "Ua9HzKyKDu0z"
      },
      "source": [
        "### **4.4.2 Experiments**\n",
        "\n",
        "The model trained here is based on the hyperparameters choice that was studied earlier. The two main points that are studied in the paper are the number of iterations required for the fast eALS to converge and the optimal weight of a new interaction. However, the second point about $w_{new}$ cannot be investigated here because of the choice we made to use Numba to get a faster implementation. Indeed, we cannot update $w_{ui}$ strictly for $u$ and $i$. Nevertheless, this value is in pratice discussed by the content provider himself to fit his idea of how much risk the recommandation system has to take."
      ]
    },
    {
      "cell_type": "markdown",
      "metadata": {
        "id": "snayx9IetYuQ"
      },
      "source": [
        "\n",
        "#### **Sanity check**\n",
        "\n",
        "First, let's check the process of testing the online learning process. Here, we create a fast eALS model where some of the original inputs are missing. We can check after processing the test online learning that additionnal data have been stored."
      ]
    },
    {
      "cell_type": "code",
      "metadata": {
        "id": "g0EDoubS-znp"
      },
      "source": [
        "n_factors = 20\n",
        "c0 = 64\n",
        "reg = 0.01\n",
        "alpha = 0.2\n",
        "n_iter = 40\n",
        "\n",
        "fast_als_online = fast_eALS(n_users_100k, n_items_100k, n_factors, c0, reg, alpha)\n",
        "fast_als_online.fit(user_lists_train_online, item_lists_train_online, test_items_online, n_iter, False)"
      ],
      "execution_count": null,
      "outputs": []
    },
    {
      "cell_type": "code",
      "metadata": {
        "colab": {
          "base_uri": "https://localhost:8080/"
        },
        "id": "b3lgp236TJRN",
        "outputId": "275efdd8-e9dc-4bab-c80d-1b612c7847d4"
      },
      "source": [
        "fao_metrics = fast_als_online.compute_metrics(test_items_online, 100)\n",
        "print('Hit ratio : {:.05f}\\nNDCG : {:.05f}'.format(fao_metrics[0], fao_metrics[1]))"
      ],
      "execution_count": null,
      "outputs": [
        {
          "output_type": "stream",
          "text": [
            "Hit ratio : 0.18240\n",
            "NDCG : 0.04166\n"
          ],
          "name": "stdout"
        }
      ]
    },
    {
      "cell_type": "code",
      "metadata": {
        "colab": {
          "base_uri": "https://localhost:8080/",
          "height": 67,
          "referenced_widgets": [
            "5172bad59ecb4d2baf102229d0c6d327",
            "1bc7d8de07eb4d19a189a791072aa4c0",
            "3b3b9eeae24f427e802a094d93b81d95",
            "5303ef0a98a54c1c9a4aecdeeb5cd6b7",
            "300d029f8af241bab71036c3bb3f764d",
            "c359bfaac0de4ecbb3875787688e81dc",
            "29d551e66355459ba180d4a660e38ff8",
            "3cf830774cbf4263ae68d38ae509f6d0"
          ]
        },
        "id": "dRuZaGSB73_w",
        "outputId": "aa34f2b6-ddff-4744-e2ea-fe65f9589894"
      },
      "source": [
        "test_items_online = [item_to_idx[data_test_online.item_id.iloc[i]] for i in range(len(data_test_online))]\n",
        "new_interactions = [(user_to_idx[data_test_online.user_id.iloc[i]], item_to_idx[data_test_online.item_id.iloc[i]]) for i in range(len(data_test_online))]\n",
        "\n",
        "for u, i in tqdm(new_interactions):\n",
        "  fast_als_online.update_online(u, i)"
      ],
      "execution_count": null,
      "outputs": [
        {
          "output_type": "display_data",
          "data": {
            "application/vnd.jupyter.widget-view+json": {
              "model_id": "5172bad59ecb4d2baf102229d0c6d327",
              "version_minor": 0,
              "version_major": 2
            },
            "text/plain": [
              "HBox(children=(FloatProgress(value=0.0, max=9057.0), HTML(value='')))"
            ]
          },
          "metadata": {
            "tags": []
          }
        },
        {
          "output_type": "stream",
          "text": [
            "\n"
          ],
          "name": "stdout"
        }
      ]
    },
    {
      "cell_type": "code",
      "metadata": {
        "colab": {
          "base_uri": "https://localhost:8080/"
        },
        "id": "URQQ_1AEJazR",
        "outputId": "cd44bc8b-6680-417f-ee5b-80d9e5c3cf50"
      },
      "source": [
        "print(f'There used to be {sum([len(x) for x in user_lists_train_online])} items')\n",
        "print(f'Now, there are {sum([len(x) for x in fast_als_online.user_lists_train])} items')"
      ],
      "execution_count": null,
      "outputs": [
        {
          "output_type": "stream",
          "text": [
            "There used to be 90000 items\n",
            "Now, there are 99057 items\n"
          ],
          "name": "stdout"
        }
      ]
    },
    {
      "cell_type": "markdown",
      "metadata": {
        "id": "NIvI957RGx_z"
      },
      "source": [
        "#### **Number of iterations needed to converge**\n",
        "\n",
        "Here, we are going to monitor the performance of the model if it meets a new interaction. We proceed by training the full model on the training data, and then, on each new interaction, we get the metrics (hit ratio and NDCG) for this specific user and item, and then the model is updated with respect to the number of iterations applied to a new interaction."
      ]
    },
    {
      "cell_type": "code",
      "metadata": {
        "colab": {
          "background_save": true,
          "base_uri": "https://localhost:8080/",
          "height": 49,
          "referenced_widgets": [
            "3f8aabfa3da847a2bb0f49130a207e3c",
            "1b4ed393842a498bae21135dd67c8884",
            "f57c098690114f929181ab67f80873c1",
            "531a2779cd7b4a5390ef8d9283395d2f",
            "f98e7a08496640b4a7d5a9959a089b4c",
            "55e9c72d59264887a66fabc95e92de3d",
            "2e64d816ca1b429dbdf1ae75f15a24ba",
            "a6dea7ed07d64665b5f7327c565a9c85"
          ]
        },
        "id": "DTau8UtcBFxC",
        "outputId": "10e5341a-6079-4328-f085-d2815213b0a8"
      },
      "source": [
        "hit_ratios_vs_iterations, ndcgs_vs_iterations = [], []\n",
        "max_n_iter_online = 6\n",
        "\n",
        "for nio in tqdm(range(max_n_iter_online)):\n",
        "  hr_tmp, ndcg_tmp = 0, 0\n",
        "  for _ in range(5):\n",
        "    fast_als_online = fast_eALS(n_users_100k, n_items_100k, n_factors, c0, reg, alpha, n_iters_online=nio)\n",
        "    fast_als_online.fit(user_lists_train_online, item_lists_train_online, None, n_iter, False)\n",
        "    for u, i in new_interactions:\n",
        "      hit_ratio, ndcg = fast_als_online.compute_metrics_for_user(u, i, 100)\n",
        "      fast_als_online.update_online(u, i)\n",
        "      hr_tmp += hit_ratio\n",
        "      ndcg_tmp += ndcg\n",
        "  hit_ratios_vs_iterations.append(hr_tmp/(5*len(new_interactions)))\n",
        "  ndcgs_vs_iterations.append(ndcg_tmp/(5*len(new_interactions)))"
      ],
      "execution_count": null,
      "outputs": [
        {
          "output_type": "display_data",
          "data": {
            "application/vnd.jupyter.widget-view+json": {
              "model_id": "3f8aabfa3da847a2bb0f49130a207e3c",
              "version_major": 2,
              "version_minor": 0
            },
            "text/plain": [
              "HBox(children=(FloatProgress(value=0.0, max=6.0), HTML(value='')))"
            ]
          },
          "metadata": {
            "tags": []
          }
        },
        {
          "output_type": "stream",
          "text": [
            "\n"
          ],
          "name": "stdout"
        }
      ]
    },
    {
      "cell_type": "code",
      "metadata": {
        "colab": {
          "background_save": true
        },
        "id": "CoL4p4i6PSry",
        "outputId": "5dcf10d1-6892-407a-db2d-92541b88963f"
      },
      "source": [
        "fig, (ax1, ax2) = plt.subplots(1, 2, figsize = (30, 5))\n",
        "\n",
        "ax1.plot(range(max_n_iter_online), hit_ratios_vs_iterations, marker = '.')\n",
        "ax1.set_xlabel('Number of iterations')\n",
        "ax1.set_ylabel('Mean Hit Ratio')\n",
        "ax1.set_title('Impact of online iterations on the Hit Ratio')\n",
        "\n",
        "ax2.plot(range(max_n_iter_online), ndcgs_vs_iterations, marker = '.')\n",
        "ax2.set_xlabel('Number of iterations')\n",
        "ax2.set_ylabel('Mean NDCG')\n",
        "ax2.set_title('Impact of online iterations on the NDCG')\n",
        "\n",
        "plt.show()"
      ],
      "execution_count": null,
      "outputs": [
        {
          "output_type": "display_data",
          "data": {
            "image/png": "[encoded data removed]",
            "text/plain": [
              "<Figure size 2160x360 with 2 Axes>"
            ]
          },
          "metadata": {
            "tags": []
          }
        }
      ]
    },
    {
      "cell_type": "markdown",
      "metadata": {
        "id": "KtA9sIZZ5rIi"
      },
      "source": [
        "As in the paper, we find that a single pass of update on each new interaction gives the best results. A model that is never updated has poor metrics, and the higher the number of iterations is, the lower the future metrics are. Here, the results differ from the paper, but the reason remains uncertain. It probably relies in the way we implemented our weighting strategy : it is probably too heavy on the new interactions when there are too many iterations, and that distorts the latent vectors for the user and the item concerned. Another difference relies in the number of latent factors used, that was much higher in the paper than in this experiment. In that situation, latent vectors are less stable andd doing too much iterations probably brings them too close and forgets all the past information.\n",
        "\n",
        "However, computing this experiments is too time consuming because of the multiple models to train and then to iteratively update with several iterations on each new interaction."
      ]
    },
    {
      "cell_type": "markdown",
      "metadata": {
        "id": "Y62VeDwWdPdw"
      },
      "source": [
        "#### **Fast update in an online context**\n",
        "\n",
        "Here we want to assess that updating with one iteration is suitable in a context of new interactions constantly streaming in."
      ]
    },
    {
      "cell_type": "code",
      "metadata": {
        "colab": {
          "base_uri": "https://localhost:8080/",
          "height": 67,
          "referenced_widgets": [
            "f348ce454484483baf7e36aaaf954497",
            "55e38616cc1140719a1152eb927cca3f",
            "27312b5011d44f1796fc583ea2ffa3f3",
            "2647a8c1bc464a409e860dcf18caf2dc",
            "e9d0c544d2a54df48933ba12891136f4",
            "452212f6df674b20ae454157151d590a",
            "045ae1cffc38444aa88a4e8387348ba4",
            "0e3194f475e945829522b21d382d76ee"
          ]
        },
        "id": "MkY1vAcPdvaq",
        "outputId": "ef6b20aa-18d5-4b4d-9cbb-34d053ac837a"
      },
      "source": [
        "n_factors_list = [16, 32, 64, 128, 256, 512]\n",
        "mean_update_time = []\n",
        "\n",
        "for n_f in tqdm(n_factors_list):\n",
        "  fast_als_online = fast_eALS(n_users_100k, n_items_100k, n_f, c0, reg, alpha)\n",
        "  fast_als_online.fit(user_lists_train_online, item_lists_train_online, test_items_online, n_iter, False)\n",
        "\n",
        "  start_time_fao = time.time()\n",
        "  for u, i in new_interactions:\n",
        "    fast_als_online.update_online(u, i)\n",
        "  end_time_fao = time.time()\n",
        "  time_per_update = (end_time_fao - start_time_fao)/len(new_interactions)\n",
        "  mean_update_time.append(time_per_update)"
      ],
      "execution_count": null,
      "outputs": [
        {
          "output_type": "display_data",
          "data": {
            "application/vnd.jupyter.widget-view+json": {
              "model_id": "f348ce454484483baf7e36aaaf954497",
              "version_minor": 0,
              "version_major": 2
            },
            "text/plain": [
              "HBox(children=(FloatProgress(value=0.0, max=6.0), HTML(value='')))"
            ]
          },
          "metadata": {
            "tags": []
          }
        },
        {
          "output_type": "stream",
          "text": [
            "\n"
          ],
          "name": "stdout"
        }
      ]
    },
    {
      "cell_type": "code",
      "metadata": {
        "colab": {
          "base_uri": "https://localhost:8080/",
          "height": 387
        },
        "id": "2KMBt6wtftL2",
        "outputId": "aecd6414-0955-47d9-ec26-0e688e3317e4"
      },
      "source": [
        "fig, (ax1, ax2) = plt.subplots(1, 2, figsize = (20, 5))\n",
        "\n",
        "ax1.plot(n_factors_list, mean_update_time, marker = '.')\n",
        "\n",
        "ax1.set_xlabel('Number of latent factors')\n",
        "ax1.set_ylabel('Seconds')\n",
        "ax1.set_title('Mean update time for fast eALS over varying number of latent factors')\n",
        "\n",
        "ax2.plot(n_factors_list, [1/x for x in mean_update_time], marker = '.')\n",
        "ax2.set_xlabel('Number of latent factors')\n",
        "ax2.set_ylabel('Nb of updates per second')\n",
        "ax2.set_title('Number of updates per second for Fast ALS over varying number of latent factors')\n",
        "\n",
        "plt.show()"
      ],
      "execution_count": null,
      "outputs": [
        {
          "output_type": "stream",
          "text": [
            "No handles with labels found to put in legend.\n",
            "No handles with labels found to put in legend.\n"
          ],
          "name": "stderr"
        },
        {
          "output_type": "display_data",
          "data": {
            "image/png": "[encoded data removed]",
            "text/plain": [
              "<Figure size 1440x360 with 2 Axes>"
            ]
          },
          "metadata": {
            "tags": []
          }
        }
      ]
    },
    {
      "cell_type": "markdown",
      "metadata": {
        "id": "-pEVLZxLgcXE"
      },
      "source": [
        "This section proves that the online process is feasible, even when the number of latent factors grows. This implementation might underperform for a more complex recommandation system, but this already demonstrates the ability of the Fast ALS to cope with online learning, by being able to update few hundreds or thousands of interactions per second. Moreover, this process can be parallelized and take into account more interactions per second to fit a real situation with a higher number of factors."
      ]
    },
    {
      "cell_type": "markdown",
      "metadata": {
        "id": "ceRRvo0UGRrR"
      },
      "source": [
        "---\n",
        "\n",
        "# **5. Discussion**\n",
        "\n",
        "In this last section, we discuss more globally the results obtained in this notebook to enlighten our reading of the contributions of this paper.\n",
        "\n",
        "## **5.1 Global comments on the experiments**\n",
        "\n",
        "Generally, our experiments confirmed the theory and the practice of the paper. We could implement a fast eALS that proved its time efficiency, its performance according to the two metrics tracked and its online context adaptation. We focused on comparing the fast eALS to its generic implementation as the ALS. It outperformed on multiple criteria. The authors also compared the fast eALS to other whole-data based methods like the RCD (Randomized block Coordinate Descent), which is considered the state of the art implicit MF method. The BPR (Bayesian personalized ranking) is another solution used as a comparison since it has a lower time complexity in theory, even if it is a sample based method. The general conclusion is that the fast eALS outperforms in the experiments most other methods, wether it is by a better prediction recall or by a more effective and efficient process.\n",
        "\n",
        "It also relies on a relaxation of the underlying strategy for weighting the missing data and on a possible adaptation to the online context. Both additions are crucial for recommandation systems and open new opportunities.\n",
        "\n",
        "## **5.2 Work continuation**\n",
        "\n",
        "However, a more recent version of this paper has been published in early 2019. It mainly updates the strategy to weight the missing data, while leaving untouched the following resolution method. It uses a truncated SVD on the weight matrix to get a more compact representation of the weights, and to finally achieve a speed-up of the whole methodology. The main criticism against this present version is that all the missing entries of a column have the same weight, whereas the updated version allows any kind of more general weighting strategy, before compacting it with the truncated SVD. It is argued that the current column-oriented strategy might not take into account the true negative weight of an item unconsumed by a user that interacted with a lot more items that other users.\n",
        "\n",
        "## **5.3 Neural recommender systems**\n",
        "\n",
        "The methods presented in this work implicitely suppose that potential interactions between a user and an item are linear in an arbitrarely large dimensional latent vector space. However, one can argue that such an hypothesis is quite restrictive in a sens that human behaviour are generally hard to modelize linearly. Moreover, alternative optimization method is not guaranteed to converge to a global optimal representation.\n",
        "\n",
        "In this sense, one can either modelize observed interactions as an arbitrarily complex function of user and item latent representations. Mathematically, using introduced notations, it supposes that $r_{u,i} = f(p_u, q_i)$.\n",
        "\n",
        "An approximation of $f(p_u, q_i)$ could be reached by the output of an optimized deep neural network system having stacked vectors $p_u$ and $q_i$ as input. The optimization would then be performed classicaly using gradient descent variations.\n",
        "\n",
        "One can remark that this architecture would offer more flexibility than ALS methods as the embedding of $p_u$ and $q_i$ could have different dimensions. Moreover, explicit or implicit feedback could be modelized by simply modifying the loss objective function (MSE for explicit feedback, Binary Cross Entropy for implicit feedback). One can even adapt the problem to Collaborative Filtering by stacking to embeddings input vector the item and users metadata.\n",
        "\n",
        "A popular appoach for neural recommender systems with implicit feedback is to use the triplet loss to speed up the optimization procedure. The triplet loss has strong connexion with negative sampling as its objective is to maximize the \"similarity distance\" between outputs of positive samples and negative random samples. Formally, given user $p_u$, positive item $q_i^+$ (item having iteraction with $u$)and negative item $q_i^-$ (random item), $\\text{Triplet}(p_u, q_i^+, q_i^-) = max(f(p_u, q_i^-) - f(p_u, q_i^+) + \\alpha, 0)$ with $\\alpha$ hyperparameter.\n",
        "\n",
        "## **5.4 Parallel with NLP**\n",
        "\n",
        "This paper and the MF method in general have some similarities with the Natural Language Processing domain. For example, the use of embeddings and negative sampling recall some key notions of word embedding models. Embeddings are frequently used as a dimension reduction technique to lower the dimension of the vocabulary encoding, but the inner relation between word embeddings seems to be more frequently researched than in this recommandation system domain. Concerning the negative sampling, it is used to train those word embeddings such as in a Word2Vec model. It enables to have a more meaningful training.\n",
        "\n",
        "This paper finally suggests that the method introduced here might influence the NLP domain with a word representation model, but the recent development in NLP might influence recommandation systems with more impact, for example by using Attention to get more personalized recommandations. For example, this could help differenciate the behaviour of a user who buys online for himself from the times where he buys gifts for other peoples."
      ]
    },
    {
      "cell_type": "markdown",
      "metadata": {
        "id": "3Ys1g2IwE7HC"
      },
      "source": [
        "---\n",
        "\n",
        "# **6. Conclusion**\n",
        "\n",
        "To conclude, this paper introduces a very optimized strategy while adding more flexibility and fidelity to the modelisation. Moreover, it supports online incremental learning, that enables a better flow of computation, and a less restrictive weighting strategy to add some nuance in the implicit feedback. The experimentations confirm that it outperforms the previous methods, and that it is a relevant competitor with contemporary methods since it has a good balance between the efficiency and the good recall. Finally, it is argued that this paper is just a special case of optimization for a more generic solution : the eALS technique. This paper might open some doors for learning on sparse matrices with complex weighting schemes.\n",
        "\n",
        "As of today, the ALS method still seems very popular and is quite easily accessible online. Therefore, the strategy introduced in this paper still seems to be relevant. Nevertheless, one can think that the fast eALS results of this paper are too restrictive and that other more accessible methods might be preferred."
      ]
    }
  ]
}